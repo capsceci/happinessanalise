{
 "cells": [
  {
   "cell_type": "code",
   "execution_count": 2,
   "metadata": {},
   "outputs": [
    {
     "data": {
      "text/html": [
       "        <script type=\"text/javascript\">\n",
       "        window.PlotlyConfig = {MathJaxConfig: 'local'};\n",
       "        if (window.MathJax) {MathJax.Hub.Config({SVG: {font: \"STIX-Web\"}});}\n",
       "        if (typeof require !== 'undefined') {\n",
       "        require.undef(\"plotly\");\n",
       "        requirejs.config({\n",
       "            paths: {\n",
       "                'plotly': ['https://cdn.plot.ly/plotly-latest.min']\n",
       "            }\n",
       "        });\n",
       "        require(['plotly'], function(Plotly) {\n",
       "            window._Plotly = Plotly;\n",
       "        });\n",
       "        }\n",
       "        </script>\n",
       "        "
      ]
     },
     "metadata": {},
     "output_type": "display_data"
    }
   ],
   "source": [
    "# Import data\n",
    "\n",
    "import pandas as pd\n",
    "import numpy as np\n",
    "import matplotlib.pyplot as plt\n",
    "import seaborn as sns\n",
    "from scipy import stats\n",
    "from sklearn.tree import DecisionTreeClassifier\n",
    "from sklearn.ensemble import RandomForestClassifier\n",
    "from sklearn.metrics import classification_report, confusion_matrix\n",
    "from sklearn.datasets import fetch_20newsgroups_vectorized\n",
    "from sklearn.feature_selection import chi2\n",
    "from sklearn.feature_selection import RFE\n",
    "from sklearn.ensemble import ExtraTreesClassifier\n",
    "from sklearn import datasets\n",
    "from sklearn import metrics\n",
    "import types\n",
    "import statsmodels.api as smimport statsmodels.formula.api as smf\n",
    "from sklearn.manifold import TSNE\n",
    "import plotly.graph_objs as go\n",
    "from plotly.offline import download_plotlyjs, init_notebook_mode, plot, iplot\n",
    "init_notebook_mode(connected=True)\n",
    "\n"
   ]
  },
  {
   "cell_type": "code",
   "execution_count": 23,
   "metadata": {},
   "outputs": [],
   "source": [
    "# create dataset\n",
    "df = pd.read_csv('DataSet.csv')"
   ]
  },
  {
   "cell_type": "code",
   "execution_count": 24,
   "metadata": {},
   "outputs": [
    {
     "data": {
      "text/plain": [
       "Index(['Country', 'Region', 'Happiness Rank', 'Happiness Score',\n",
       "       'Standard Error', 'Economy (GDP per Capita)', 'Family',\n",
       "       'Health (Life Expectancy)', 'Freedom', 'Trust (Government Corruption)',\n",
       "       'Generosity', 'Dystopia Residual'],\n",
       "      dtype='object')"
      ]
     },
     "execution_count": 24,
     "metadata": {},
     "output_type": "execute_result"
    }
   ],
   "source": [
    "# columns on dataset\n",
    "df.columns"
   ]
  },
  {
   "cell_type": "code",
   "execution_count": 156,
   "metadata": {},
   "outputs": [
    {
     "data": {
      "text/plain": [
       "Country                          158\n",
       "Region                           158\n",
       "Happiness Rank                   158\n",
       "Happiness Score                  158\n",
       "Standard Error                   158\n",
       "Economy (GDP per Capita)         158\n",
       "Family                           158\n",
       "Health (Life Expectancy)         158\n",
       "Freedom                          158\n",
       "Trust (Government Corruption)    158\n",
       "Generosity                       158\n",
       "Dystopia Residual                158\n",
       "dtype: int64"
      ]
     },
     "execution_count": 156,
     "metadata": {},
     "output_type": "execute_result"
    }
   ],
   "source": [
    "# Checking if there is no null value\n",
    "df.count()"
   ]
  },
  {
   "cell_type": "code",
   "execution_count": 43,
   "metadata": {},
   "outputs": [
    {
     "data": {
      "text/html": [
       "<div>\n",
       "<style scoped>\n",
       "    .dataframe tbody tr th:only-of-type {\n",
       "        vertical-align: middle;\n",
       "    }\n",
       "\n",
       "    .dataframe tbody tr th {\n",
       "        vertical-align: top;\n",
       "    }\n",
       "\n",
       "    .dataframe thead th {\n",
       "        text-align: right;\n",
       "    }\n",
       "</style>\n",
       "<table border=\"1\" class=\"dataframe\">\n",
       "  <thead>\n",
       "    <tr style=\"text-align: right;\">\n",
       "      <th></th>\n",
       "      <th>Country</th>\n",
       "      <th>Region</th>\n",
       "      <th>Happiness Rank</th>\n",
       "      <th>Happiness Score</th>\n",
       "      <th>Standard Error</th>\n",
       "      <th>Economy (GDP per Capita)</th>\n",
       "      <th>Family</th>\n",
       "      <th>Health (Life Expectancy)</th>\n",
       "      <th>Freedom</th>\n",
       "      <th>Trust (Government Corruption)</th>\n",
       "      <th>Generosity</th>\n",
       "      <th>Dystopia Residual</th>\n",
       "    </tr>\n",
       "  </thead>\n",
       "  <tbody>\n",
       "    <tr>\n",
       "      <th>153</th>\n",
       "      <td>Rwanda</td>\n",
       "      <td>Sub-Saharan Africa</td>\n",
       "      <td>154</td>\n",
       "      <td>3.465</td>\n",
       "      <td>0.03464</td>\n",
       "      <td>0.22208</td>\n",
       "      <td>0.77370</td>\n",
       "      <td>0.42864</td>\n",
       "      <td>0.59201</td>\n",
       "      <td>0.55191</td>\n",
       "      <td>0.22628</td>\n",
       "      <td>0.67042</td>\n",
       "    </tr>\n",
       "    <tr>\n",
       "      <th>154</th>\n",
       "      <td>Benin</td>\n",
       "      <td>Sub-Saharan Africa</td>\n",
       "      <td>155</td>\n",
       "      <td>3.340</td>\n",
       "      <td>0.03656</td>\n",
       "      <td>0.28665</td>\n",
       "      <td>0.35386</td>\n",
       "      <td>0.31910</td>\n",
       "      <td>0.48450</td>\n",
       "      <td>0.08010</td>\n",
       "      <td>0.18260</td>\n",
       "      <td>1.63328</td>\n",
       "    </tr>\n",
       "    <tr>\n",
       "      <th>155</th>\n",
       "      <td>Syria</td>\n",
       "      <td>Middle East and Northern Africa</td>\n",
       "      <td>156</td>\n",
       "      <td>3.006</td>\n",
       "      <td>0.05015</td>\n",
       "      <td>0.66320</td>\n",
       "      <td>0.47489</td>\n",
       "      <td>0.72193</td>\n",
       "      <td>0.15684</td>\n",
       "      <td>0.18906</td>\n",
       "      <td>0.47179</td>\n",
       "      <td>0.32858</td>\n",
       "    </tr>\n",
       "    <tr>\n",
       "      <th>156</th>\n",
       "      <td>Burundi</td>\n",
       "      <td>Sub-Saharan Africa</td>\n",
       "      <td>157</td>\n",
       "      <td>2.905</td>\n",
       "      <td>0.08658</td>\n",
       "      <td>0.01530</td>\n",
       "      <td>0.41587</td>\n",
       "      <td>0.22396</td>\n",
       "      <td>0.11850</td>\n",
       "      <td>0.10062</td>\n",
       "      <td>0.19727</td>\n",
       "      <td>1.83302</td>\n",
       "    </tr>\n",
       "    <tr>\n",
       "      <th>157</th>\n",
       "      <td>Togo</td>\n",
       "      <td>Sub-Saharan Africa</td>\n",
       "      <td>158</td>\n",
       "      <td>2.839</td>\n",
       "      <td>0.06727</td>\n",
       "      <td>0.20868</td>\n",
       "      <td>0.13995</td>\n",
       "      <td>0.28443</td>\n",
       "      <td>0.36453</td>\n",
       "      <td>0.10731</td>\n",
       "      <td>0.16681</td>\n",
       "      <td>1.56726</td>\n",
       "    </tr>\n",
       "  </tbody>\n",
       "</table>\n",
       "</div>"
      ],
      "text/plain": [
       "     Country                           Region  Happiness Rank  \\\n",
       "153   Rwanda               Sub-Saharan Africa             154   \n",
       "154    Benin               Sub-Saharan Africa             155   \n",
       "155    Syria  Middle East and Northern Africa             156   \n",
       "156  Burundi               Sub-Saharan Africa             157   \n",
       "157     Togo               Sub-Saharan Africa             158   \n",
       "\n",
       "     Happiness Score  Standard Error  Economy (GDP per Capita)   Family  \\\n",
       "153            3.465         0.03464                   0.22208  0.77370   \n",
       "154            3.340         0.03656                   0.28665  0.35386   \n",
       "155            3.006         0.05015                   0.66320  0.47489   \n",
       "156            2.905         0.08658                   0.01530  0.41587   \n",
       "157            2.839         0.06727                   0.20868  0.13995   \n",
       "\n",
       "     Health (Life Expectancy)  Freedom  Trust (Government Corruption)  \\\n",
       "153                   0.42864  0.59201                        0.55191   \n",
       "154                   0.31910  0.48450                        0.08010   \n",
       "155                   0.72193  0.15684                        0.18906   \n",
       "156                   0.22396  0.11850                        0.10062   \n",
       "157                   0.28443  0.36453                        0.10731   \n",
       "\n",
       "     Generosity  Dystopia Residual  \n",
       "153     0.22628            0.67042  \n",
       "154     0.18260            1.63328  \n",
       "155     0.47179            0.32858  \n",
       "156     0.19727            1.83302  \n",
       "157     0.16681            1.56726  "
      ]
     },
     "execution_count": 43,
     "metadata": {},
     "output_type": "execute_result"
    }
   ],
   "source": [
    "# Seeing last countries\n",
    "df.tail()"
   ]
  },
  {
   "cell_type": "code",
   "execution_count": 145,
   "metadata": {},
   "outputs": [
    {
     "data": {
      "application/vnd.plotly.v1+json": {
       "config": {
        "linkText": "Export to plot.ly",
        "plotlyServerURL": "https://plot.ly",
        "showLink": false
       },
       "data": [
        {
         "colorbar": {
          "title": {
           "text": "Valor de Felicidade pelo Mundo"
          }
         },
         "locationmode": "country names",
         "locations": [
          "Switzerland",
          "Iceland",
          "Denmark",
          "Norway",
          "Canada",
          "Finland",
          "Netherlands",
          "Sweden",
          "New Zealand",
          "Australia",
          "Israel",
          "Costa Rica",
          "Austria",
          "Mexico",
          "United States",
          "Brazil",
          "Luxembourg",
          "Ireland",
          "Belgium",
          "United Arab Emirates",
          "United Kingdom",
          "Oman",
          "Venezuela",
          "Singapore",
          "Panama",
          "Germany",
          "Chile",
          "Qatar",
          "France",
          "Argentina",
          "Czech Republic",
          "Uruguay",
          "Colombia",
          "Thailand",
          "Saudi Arabia",
          "Spain",
          "Malta",
          "Taiwan",
          "Kuwait",
          "Suriname",
          "Trinidad and Tobago",
          "El Salvador",
          "Guatemala",
          "Uzbekistan",
          "Slovakia",
          "Japan",
          "South Korea",
          "Ecuador",
          "Bahrain",
          "Italy",
          "Bolivia",
          "Moldova",
          "Paraguay",
          "Kazakhstan",
          "Slovenia",
          "Lithuania",
          "Nicaragua",
          "Peru",
          "Belarus",
          "Poland",
          "Malaysia",
          "Croatia",
          "Libya",
          "Russia",
          "Jamaica",
          "North Cyprus",
          "Cyprus",
          "Algeria",
          "Kosovo",
          "Turkmenistan",
          "Mauritius",
          "Hong Kong",
          "Estonia",
          "Indonesia",
          "Vietnam",
          "Turkey",
          "Kyrgyzstan",
          "Nigeria",
          "Bhutan",
          "Azerbaijan",
          "Pakistan",
          "Jordan",
          "Montenegro",
          "China",
          "Zambia",
          "Romania",
          "Serbia",
          "Portugal",
          "Latvia",
          "Philippines",
          "Somaliland region",
          "Morocco",
          "Macedonia",
          "Mozambique",
          "Albania",
          "Bosnia and Herzegovina",
          "Lesotho",
          "Dominican Republic",
          "Laos",
          "Mongolia",
          "Swaziland",
          "Greece",
          "Lebanon",
          "Hungary",
          "Honduras",
          "Tajikistan",
          "Tunisia",
          "Palestinian Territories",
          "Bangladesh",
          "Iran",
          "Ukraine",
          "Iraq",
          "South Africa",
          "Ghana",
          "Zimbabwe",
          "Liberia",
          "India",
          "Sudan",
          "Haiti",
          "Congo (Kinshasa)",
          "Nepal",
          "Ethiopia",
          "Sierra Leone",
          "Mauritania",
          "Kenya",
          "Djibouti",
          "Armenia",
          "Botswana",
          "Myanmar",
          "Georgia",
          "Malawi",
          "Sri Lanka",
          "Cameroon",
          "Bulgaria",
          "Egypt",
          "Yemen",
          "Angola",
          "Mali",
          "Congo (Brazzaville)",
          "Comoros",
          "Uganda",
          "Senegal",
          "Gabon",
          "Niger",
          "Cambodia",
          "Tanzania",
          "Madagascar",
          "Central African Republic",
          "Chad",
          "Guinea",
          "Ivory Coast",
          "Burkina Faso",
          "Afghanistan",
          "Rwanda",
          "Benin",
          "Syria",
          "Burundi",
          "Togo"
         ],
         "text": [
          "Switzerland",
          "Iceland",
          "Denmark",
          "Norway",
          "Canada",
          "Finland",
          "Netherlands",
          "Sweden",
          "New Zealand",
          "Australia",
          "Israel",
          "Costa Rica",
          "Austria",
          "Mexico",
          "United States",
          "Brazil",
          "Luxembourg",
          "Ireland",
          "Belgium",
          "United Arab Emirates",
          "United Kingdom",
          "Oman",
          "Venezuela",
          "Singapore",
          "Panama",
          "Germany",
          "Chile",
          "Qatar",
          "France",
          "Argentina",
          "Czech Republic",
          "Uruguay",
          "Colombia",
          "Thailand",
          "Saudi Arabia",
          "Spain",
          "Malta",
          "Taiwan",
          "Kuwait",
          "Suriname",
          "Trinidad and Tobago",
          "El Salvador",
          "Guatemala",
          "Uzbekistan",
          "Slovakia",
          "Japan",
          "South Korea",
          "Ecuador",
          "Bahrain",
          "Italy",
          "Bolivia",
          "Moldova",
          "Paraguay",
          "Kazakhstan",
          "Slovenia",
          "Lithuania",
          "Nicaragua",
          "Peru",
          "Belarus",
          "Poland",
          "Malaysia",
          "Croatia",
          "Libya",
          "Russia",
          "Jamaica",
          "North Cyprus",
          "Cyprus",
          "Algeria",
          "Kosovo",
          "Turkmenistan",
          "Mauritius",
          "Hong Kong",
          "Estonia",
          "Indonesia",
          "Vietnam",
          "Turkey",
          "Kyrgyzstan",
          "Nigeria",
          "Bhutan",
          "Azerbaijan",
          "Pakistan",
          "Jordan",
          "Montenegro",
          "China",
          "Zambia",
          "Romania",
          "Serbia",
          "Portugal",
          "Latvia",
          "Philippines",
          "Somaliland region",
          "Morocco",
          "Macedonia",
          "Mozambique",
          "Albania",
          "Bosnia and Herzegovina",
          "Lesotho",
          "Dominican Republic",
          "Laos",
          "Mongolia",
          "Swaziland",
          "Greece",
          "Lebanon",
          "Hungary",
          "Honduras",
          "Tajikistan",
          "Tunisia",
          "Palestinian Territories",
          "Bangladesh",
          "Iran",
          "Ukraine",
          "Iraq",
          "South Africa",
          "Ghana",
          "Zimbabwe",
          "Liberia",
          "India",
          "Sudan",
          "Haiti",
          "Congo (Kinshasa)",
          "Nepal",
          "Ethiopia",
          "Sierra Leone",
          "Mauritania",
          "Kenya",
          "Djibouti",
          "Armenia",
          "Botswana",
          "Myanmar",
          "Georgia",
          "Malawi",
          "Sri Lanka",
          "Cameroon",
          "Bulgaria",
          "Egypt",
          "Yemen",
          "Angola",
          "Mali",
          "Congo (Brazzaville)",
          "Comoros",
          "Uganda",
          "Senegal",
          "Gabon",
          "Niger",
          "Cambodia",
          "Tanzania",
          "Madagascar",
          "Central African Republic",
          "Chad",
          "Guinea",
          "Ivory Coast",
          "Burkina Faso",
          "Afghanistan",
          "Rwanda",
          "Benin",
          "Syria",
          "Burundi",
          "Togo"
         ],
         "type": "choropleth",
         "z": [
          7.587000000000001,
          7.561,
          7.527,
          7.522,
          7.4270000000000005,
          7.406000000000001,
          7.377999999999999,
          7.364,
          7.2860000000000005,
          7.284,
          7.278,
          7.226,
          7.2,
          7.187,
          7.119,
          6.983,
          6.946000000000001,
          6.94,
          6.937,
          6.901,
          6.867000000000001,
          6.853,
          6.81,
          6.797999999999999,
          6.7860000000000005,
          6.75,
          6.67,
          6.611000000000001,
          6.575,
          6.574,
          6.505,
          6.485,
          6.477,
          6.455,
          6.4110000000000005,
          6.329,
          6.3020000000000005,
          6.297999999999999,
          6.295,
          6.269,
          6.167999999999999,
          6.13,
          6.122999999999999,
          6.002999999999999,
          5.995,
          5.987,
          5.984,
          5.975,
          5.96,
          5.9479999999999995,
          5.89,
          5.888999999999999,
          5.877999999999999,
          5.855,
          5.848,
          5.832999999999999,
          5.827999999999999,
          5.824,
          5.813,
          5.791,
          5.77,
          5.7589999999999995,
          5.754,
          5.716,
          5.709,
          5.695,
          5.689,
          5.605,
          5.5889999999999995,
          5.547999999999999,
          5.477,
          5.474,
          5.428999999999999,
          5.399,
          5.36,
          5.332000000000001,
          5.2860000000000005,
          5.268,
          5.252999999999999,
          5.212000000000001,
          5.194,
          5.192,
          5.192,
          5.14,
          5.129,
          5.124,
          5.122999999999999,
          5.102,
          5.098,
          5.073,
          5.0569999999999995,
          5.013,
          5.007,
          4.971,
          4.959,
          4.949,
          4.898,
          4.885,
          4.876,
          4.874,
          4.867,
          4.857,
          4.8389999999999995,
          4.8,
          4.788,
          4.7860000000000005,
          4.739,
          4.715,
          4.694,
          4.686,
          4.681,
          4.677,
          4.6419999999999995,
          4.633,
          4.61,
          4.571000000000001,
          4.565,
          4.55,
          4.518,
          4.5169999999999995,
          4.513999999999999,
          4.512,
          4.507,
          4.436,
          4.419,
          4.369,
          4.35,
          4.332,
          4.3069999999999995,
          4.297,
          4.292,
          4.271,
          4.252,
          4.218,
          4.194,
          4.077,
          4.033,
          3.995,
          3.989,
          3.9560000000000004,
          3.931,
          3.904,
          3.8960000000000004,
          3.845,
          3.819,
          3.781,
          3.681,
          3.678,
          3.667,
          3.656,
          3.655,
          3.5869999999999997,
          3.575,
          3.465,
          3.34,
          3.0060000000000002,
          2.905,
          2.839
         ]
        }
       ],
       "layout": {
        "geo": {
         "showframe": false
        },
        "template": {
         "data": {
          "bar": [
           {
            "error_x": {
             "color": "#2a3f5f"
            },
            "error_y": {
             "color": "#2a3f5f"
            },
            "marker": {
             "line": {
              "color": "#E5ECF6",
              "width": 0.5
             }
            },
            "type": "bar"
           }
          ],
          "barpolar": [
           {
            "marker": {
             "line": {
              "color": "#E5ECF6",
              "width": 0.5
             }
            },
            "type": "barpolar"
           }
          ],
          "carpet": [
           {
            "aaxis": {
             "endlinecolor": "#2a3f5f",
             "gridcolor": "white",
             "linecolor": "white",
             "minorgridcolor": "white",
             "startlinecolor": "#2a3f5f"
            },
            "baxis": {
             "endlinecolor": "#2a3f5f",
             "gridcolor": "white",
             "linecolor": "white",
             "minorgridcolor": "white",
             "startlinecolor": "#2a3f5f"
            },
            "type": "carpet"
           }
          ],
          "choropleth": [
           {
            "colorbar": {
             "outlinewidth": 0,
             "ticks": ""
            },
            "type": "choropleth"
           }
          ],
          "contour": [
           {
            "colorbar": {
             "outlinewidth": 0,
             "ticks": ""
            },
            "colorscale": [
             [
              0,
              "#0d0887"
             ],
             [
              0.1111111111111111,
              "#46039f"
             ],
             [
              0.2222222222222222,
              "#7201a8"
             ],
             [
              0.3333333333333333,
              "#9c179e"
             ],
             [
              0.4444444444444444,
              "#bd3786"
             ],
             [
              0.5555555555555556,
              "#d8576b"
             ],
             [
              0.6666666666666666,
              "#ed7953"
             ],
             [
              0.7777777777777778,
              "#fb9f3a"
             ],
             [
              0.8888888888888888,
              "#fdca26"
             ],
             [
              1,
              "#f0f921"
             ]
            ],
            "type": "contour"
           }
          ],
          "contourcarpet": [
           {
            "colorbar": {
             "outlinewidth": 0,
             "ticks": ""
            },
            "type": "contourcarpet"
           }
          ],
          "heatmap": [
           {
            "colorbar": {
             "outlinewidth": 0,
             "ticks": ""
            },
            "colorscale": [
             [
              0,
              "#0d0887"
             ],
             [
              0.1111111111111111,
              "#46039f"
             ],
             [
              0.2222222222222222,
              "#7201a8"
             ],
             [
              0.3333333333333333,
              "#9c179e"
             ],
             [
              0.4444444444444444,
              "#bd3786"
             ],
             [
              0.5555555555555556,
              "#d8576b"
             ],
             [
              0.6666666666666666,
              "#ed7953"
             ],
             [
              0.7777777777777778,
              "#fb9f3a"
             ],
             [
              0.8888888888888888,
              "#fdca26"
             ],
             [
              1,
              "#f0f921"
             ]
            ],
            "type": "heatmap"
           }
          ],
          "heatmapgl": [
           {
            "colorbar": {
             "outlinewidth": 0,
             "ticks": ""
            },
            "colorscale": [
             [
              0,
              "#0d0887"
             ],
             [
              0.1111111111111111,
              "#46039f"
             ],
             [
              0.2222222222222222,
              "#7201a8"
             ],
             [
              0.3333333333333333,
              "#9c179e"
             ],
             [
              0.4444444444444444,
              "#bd3786"
             ],
             [
              0.5555555555555556,
              "#d8576b"
             ],
             [
              0.6666666666666666,
              "#ed7953"
             ],
             [
              0.7777777777777778,
              "#fb9f3a"
             ],
             [
              0.8888888888888888,
              "#fdca26"
             ],
             [
              1,
              "#f0f921"
             ]
            ],
            "type": "heatmapgl"
           }
          ],
          "histogram": [
           {
            "marker": {
             "colorbar": {
              "outlinewidth": 0,
              "ticks": ""
             }
            },
            "type": "histogram"
           }
          ],
          "histogram2d": [
           {
            "colorbar": {
             "outlinewidth": 0,
             "ticks": ""
            },
            "colorscale": [
             [
              0,
              "#0d0887"
             ],
             [
              0.1111111111111111,
              "#46039f"
             ],
             [
              0.2222222222222222,
              "#7201a8"
             ],
             [
              0.3333333333333333,
              "#9c179e"
             ],
             [
              0.4444444444444444,
              "#bd3786"
             ],
             [
              0.5555555555555556,
              "#d8576b"
             ],
             [
              0.6666666666666666,
              "#ed7953"
             ],
             [
              0.7777777777777778,
              "#fb9f3a"
             ],
             [
              0.8888888888888888,
              "#fdca26"
             ],
             [
              1,
              "#f0f921"
             ]
            ],
            "type": "histogram2d"
           }
          ],
          "histogram2dcontour": [
           {
            "colorbar": {
             "outlinewidth": 0,
             "ticks": ""
            },
            "colorscale": [
             [
              0,
              "#0d0887"
             ],
             [
              0.1111111111111111,
              "#46039f"
             ],
             [
              0.2222222222222222,
              "#7201a8"
             ],
             [
              0.3333333333333333,
              "#9c179e"
             ],
             [
              0.4444444444444444,
              "#bd3786"
             ],
             [
              0.5555555555555556,
              "#d8576b"
             ],
             [
              0.6666666666666666,
              "#ed7953"
             ],
             [
              0.7777777777777778,
              "#fb9f3a"
             ],
             [
              0.8888888888888888,
              "#fdca26"
             ],
             [
              1,
              "#f0f921"
             ]
            ],
            "type": "histogram2dcontour"
           }
          ],
          "mesh3d": [
           {
            "colorbar": {
             "outlinewidth": 0,
             "ticks": ""
            },
            "type": "mesh3d"
           }
          ],
          "parcoords": [
           {
            "line": {
             "colorbar": {
              "outlinewidth": 0,
              "ticks": ""
             }
            },
            "type": "parcoords"
           }
          ],
          "pie": [
           {
            "automargin": true,
            "type": "pie"
           }
          ],
          "scatter": [
           {
            "marker": {
             "colorbar": {
              "outlinewidth": 0,
              "ticks": ""
             }
            },
            "type": "scatter"
           }
          ],
          "scatter3d": [
           {
            "line": {
             "colorbar": {
              "outlinewidth": 0,
              "ticks": ""
             }
            },
            "marker": {
             "colorbar": {
              "outlinewidth": 0,
              "ticks": ""
             }
            },
            "type": "scatter3d"
           }
          ],
          "scattercarpet": [
           {
            "marker": {
             "colorbar": {
              "outlinewidth": 0,
              "ticks": ""
             }
            },
            "type": "scattercarpet"
           }
          ],
          "scattergeo": [
           {
            "marker": {
             "colorbar": {
              "outlinewidth": 0,
              "ticks": ""
             }
            },
            "type": "scattergeo"
           }
          ],
          "scattergl": [
           {
            "marker": {
             "colorbar": {
              "outlinewidth": 0,
              "ticks": ""
             }
            },
            "type": "scattergl"
           }
          ],
          "scattermapbox": [
           {
            "marker": {
             "colorbar": {
              "outlinewidth": 0,
              "ticks": ""
             }
            },
            "type": "scattermapbox"
           }
          ],
          "scatterpolar": [
           {
            "marker": {
             "colorbar": {
              "outlinewidth": 0,
              "ticks": ""
             }
            },
            "type": "scatterpolar"
           }
          ],
          "scatterpolargl": [
           {
            "marker": {
             "colorbar": {
              "outlinewidth": 0,
              "ticks": ""
             }
            },
            "type": "scatterpolargl"
           }
          ],
          "scatterternary": [
           {
            "marker": {
             "colorbar": {
              "outlinewidth": 0,
              "ticks": ""
             }
            },
            "type": "scatterternary"
           }
          ],
          "surface": [
           {
            "colorbar": {
             "outlinewidth": 0,
             "ticks": ""
            },
            "colorscale": [
             [
              0,
              "#0d0887"
             ],
             [
              0.1111111111111111,
              "#46039f"
             ],
             [
              0.2222222222222222,
              "#7201a8"
             ],
             [
              0.3333333333333333,
              "#9c179e"
             ],
             [
              0.4444444444444444,
              "#bd3786"
             ],
             [
              0.5555555555555556,
              "#d8576b"
             ],
             [
              0.6666666666666666,
              "#ed7953"
             ],
             [
              0.7777777777777778,
              "#fb9f3a"
             ],
             [
              0.8888888888888888,
              "#fdca26"
             ],
             [
              1,
              "#f0f921"
             ]
            ],
            "type": "surface"
           }
          ],
          "table": [
           {
            "cells": {
             "fill": {
              "color": "#EBF0F8"
             },
             "line": {
              "color": "white"
             }
            },
            "header": {
             "fill": {
              "color": "#C8D4E3"
             },
             "line": {
              "color": "white"
             }
            },
            "type": "table"
           }
          ]
         },
         "layout": {
          "annotationdefaults": {
           "arrowcolor": "#2a3f5f",
           "arrowhead": 0,
           "arrowwidth": 1
          },
          "coloraxis": {
           "colorbar": {
            "outlinewidth": 0,
            "ticks": ""
           }
          },
          "colorscale": {
           "diverging": [
            [
             0,
             "#8e0152"
            ],
            [
             0.1,
             "#c51b7d"
            ],
            [
             0.2,
             "#de77ae"
            ],
            [
             0.3,
             "#f1b6da"
            ],
            [
             0.4,
             "#fde0ef"
            ],
            [
             0.5,
             "#f7f7f7"
            ],
            [
             0.6,
             "#e6f5d0"
            ],
            [
             0.7,
             "#b8e186"
            ],
            [
             0.8,
             "#7fbc41"
            ],
            [
             0.9,
             "#4d9221"
            ],
            [
             1,
             "#276419"
            ]
           ],
           "sequential": [
            [
             0,
             "#0d0887"
            ],
            [
             0.1111111111111111,
             "#46039f"
            ],
            [
             0.2222222222222222,
             "#7201a8"
            ],
            [
             0.3333333333333333,
             "#9c179e"
            ],
            [
             0.4444444444444444,
             "#bd3786"
            ],
            [
             0.5555555555555556,
             "#d8576b"
            ],
            [
             0.6666666666666666,
             "#ed7953"
            ],
            [
             0.7777777777777778,
             "#fb9f3a"
            ],
            [
             0.8888888888888888,
             "#fdca26"
            ],
            [
             1,
             "#f0f921"
            ]
           ],
           "sequentialminus": [
            [
             0,
             "#0d0887"
            ],
            [
             0.1111111111111111,
             "#46039f"
            ],
            [
             0.2222222222222222,
             "#7201a8"
            ],
            [
             0.3333333333333333,
             "#9c179e"
            ],
            [
             0.4444444444444444,
             "#bd3786"
            ],
            [
             0.5555555555555556,
             "#d8576b"
            ],
            [
             0.6666666666666666,
             "#ed7953"
            ],
            [
             0.7777777777777778,
             "#fb9f3a"
            ],
            [
             0.8888888888888888,
             "#fdca26"
            ],
            [
             1,
             "#f0f921"
            ]
           ]
          },
          "colorway": [
           "#636efa",
           "#EF553B",
           "#00cc96",
           "#ab63fa",
           "#FFA15A",
           "#19d3f3",
           "#FF6692",
           "#B6E880",
           "#FF97FF",
           "#FECB52"
          ],
          "font": {
           "color": "#2a3f5f"
          },
          "geo": {
           "bgcolor": "white",
           "lakecolor": "white",
           "landcolor": "#E5ECF6",
           "showlakes": true,
           "showland": true,
           "subunitcolor": "white"
          },
          "hoverlabel": {
           "align": "left"
          },
          "hovermode": "closest",
          "mapbox": {
           "style": "light"
          },
          "paper_bgcolor": "white",
          "plot_bgcolor": "#E5ECF6",
          "polar": {
           "angularaxis": {
            "gridcolor": "white",
            "linecolor": "white",
            "ticks": ""
           },
           "bgcolor": "#E5ECF6",
           "radialaxis": {
            "gridcolor": "white",
            "linecolor": "white",
            "ticks": ""
           }
          },
          "scene": {
           "xaxis": {
            "backgroundcolor": "#E5ECF6",
            "gridcolor": "white",
            "gridwidth": 2,
            "linecolor": "white",
            "showbackground": true,
            "ticks": "",
            "zerolinecolor": "white"
           },
           "yaxis": {
            "backgroundcolor": "#E5ECF6",
            "gridcolor": "white",
            "gridwidth": 2,
            "linecolor": "white",
            "showbackground": true,
            "ticks": "",
            "zerolinecolor": "white"
           },
           "zaxis": {
            "backgroundcolor": "#E5ECF6",
            "gridcolor": "white",
            "gridwidth": 2,
            "linecolor": "white",
            "showbackground": true,
            "ticks": "",
            "zerolinecolor": "white"
           }
          },
          "shapedefaults": {
           "line": {
            "color": "#2a3f5f"
           }
          },
          "ternary": {
           "aaxis": {
            "gridcolor": "white",
            "linecolor": "white",
            "ticks": ""
           },
           "baxis": {
            "gridcolor": "white",
            "linecolor": "white",
            "ticks": ""
           },
           "bgcolor": "#E5ECF6",
           "caxis": {
            "gridcolor": "white",
            "linecolor": "white",
            "ticks": ""
           }
          },
          "title": {
           "x": 0.05
          },
          "xaxis": {
           "automargin": true,
           "gridcolor": "white",
           "linecolor": "white",
           "ticks": "",
           "title": {
            "standoff": 15
           },
           "zerolinecolor": "white",
           "zerolinewidth": 2
          },
          "yaxis": {
           "automargin": true,
           "gridcolor": "white",
           "linecolor": "white",
           "ticks": "",
           "title": {
            "standoff": 15
           },
           "zerolinecolor": "white",
           "zerolinewidth": 2
          }
         }
        },
        "title": {
         "text": "Valor de Felicidade pelo Mundo"
        }
       }
      },
      "text/html": [
       "<div>\n",
       "        \n",
       "        \n",
       "            <div id=\"64782cff-5a8a-43c5-aa42-d684ac96d172\" class=\"plotly-graph-div\" style=\"height:525px; width:100%;\"></div>\n",
       "            <script type=\"text/javascript\">\n",
       "                require([\"plotly\"], function(Plotly) {\n",
       "                    window.PLOTLYENV=window.PLOTLYENV || {};\n",
       "                    \n",
       "                if (document.getElementById(\"64782cff-5a8a-43c5-aa42-d684ac96d172\")) {\n",
       "                    Plotly.newPlot(\n",
       "                        '64782cff-5a8a-43c5-aa42-d684ac96d172',\n",
       "                        [{\"colorbar\": {\"title\": {\"text\": \"Valor de Felicidade pelo Mundo\"}}, \"locationmode\": \"country names\", \"locations\": [\"Switzerland\", \"Iceland\", \"Denmark\", \"Norway\", \"Canada\", \"Finland\", \"Netherlands\", \"Sweden\", \"New Zealand\", \"Australia\", \"Israel\", \"Costa Rica\", \"Austria\", \"Mexico\", \"United States\", \"Brazil\", \"Luxembourg\", \"Ireland\", \"Belgium\", \"United Arab Emirates\", \"United Kingdom\", \"Oman\", \"Venezuela\", \"Singapore\", \"Panama\", \"Germany\", \"Chile\", \"Qatar\", \"France\", \"Argentina\", \"Czech Republic\", \"Uruguay\", \"Colombia\", \"Thailand\", \"Saudi Arabia\", \"Spain\", \"Malta\", \"Taiwan\", \"Kuwait\", \"Suriname\", \"Trinidad and Tobago\", \"El Salvador\", \"Guatemala\", \"Uzbekistan\", \"Slovakia\", \"Japan\", \"South Korea\", \"Ecuador\", \"Bahrain\", \"Italy\", \"Bolivia\", \"Moldova\", \"Paraguay\", \"Kazakhstan\", \"Slovenia\", \"Lithuania\", \"Nicaragua\", \"Peru\", \"Belarus\", \"Poland\", \"Malaysia\", \"Croatia\", \"Libya\", \"Russia\", \"Jamaica\", \"North Cyprus\", \"Cyprus\", \"Algeria\", \"Kosovo\", \"Turkmenistan\", \"Mauritius\", \"Hong Kong\", \"Estonia\", \"Indonesia\", \"Vietnam\", \"Turkey\", \"Kyrgyzstan\", \"Nigeria\", \"Bhutan\", \"Azerbaijan\", \"Pakistan\", \"Jordan\", \"Montenegro\", \"China\", \"Zambia\", \"Romania\", \"Serbia\", \"Portugal\", \"Latvia\", \"Philippines\", \"Somaliland region\", \"Morocco\", \"Macedonia\", \"Mozambique\", \"Albania\", \"Bosnia and Herzegovina\", \"Lesotho\", \"Dominican Republic\", \"Laos\", \"Mongolia\", \"Swaziland\", \"Greece\", \"Lebanon\", \"Hungary\", \"Honduras\", \"Tajikistan\", \"Tunisia\", \"Palestinian Territories\", \"Bangladesh\", \"Iran\", \"Ukraine\", \"Iraq\", \"South Africa\", \"Ghana\", \"Zimbabwe\", \"Liberia\", \"India\", \"Sudan\", \"Haiti\", \"Congo (Kinshasa)\", \"Nepal\", \"Ethiopia\", \"Sierra Leone\", \"Mauritania\", \"Kenya\", \"Djibouti\", \"Armenia\", \"Botswana\", \"Myanmar\", \"Georgia\", \"Malawi\", \"Sri Lanka\", \"Cameroon\", \"Bulgaria\", \"Egypt\", \"Yemen\", \"Angola\", \"Mali\", \"Congo (Brazzaville)\", \"Comoros\", \"Uganda\", \"Senegal\", \"Gabon\", \"Niger\", \"Cambodia\", \"Tanzania\", \"Madagascar\", \"Central African Republic\", \"Chad\", \"Guinea\", \"Ivory Coast\", \"Burkina Faso\", \"Afghanistan\", \"Rwanda\", \"Benin\", \"Syria\", \"Burundi\", \"Togo\"], \"text\": [\"Switzerland\", \"Iceland\", \"Denmark\", \"Norway\", \"Canada\", \"Finland\", \"Netherlands\", \"Sweden\", \"New Zealand\", \"Australia\", \"Israel\", \"Costa Rica\", \"Austria\", \"Mexico\", \"United States\", \"Brazil\", \"Luxembourg\", \"Ireland\", \"Belgium\", \"United Arab Emirates\", \"United Kingdom\", \"Oman\", \"Venezuela\", \"Singapore\", \"Panama\", \"Germany\", \"Chile\", \"Qatar\", \"France\", \"Argentina\", \"Czech Republic\", \"Uruguay\", \"Colombia\", \"Thailand\", \"Saudi Arabia\", \"Spain\", \"Malta\", \"Taiwan\", \"Kuwait\", \"Suriname\", \"Trinidad and Tobago\", \"El Salvador\", \"Guatemala\", \"Uzbekistan\", \"Slovakia\", \"Japan\", \"South Korea\", \"Ecuador\", \"Bahrain\", \"Italy\", \"Bolivia\", \"Moldova\", \"Paraguay\", \"Kazakhstan\", \"Slovenia\", \"Lithuania\", \"Nicaragua\", \"Peru\", \"Belarus\", \"Poland\", \"Malaysia\", \"Croatia\", \"Libya\", \"Russia\", \"Jamaica\", \"North Cyprus\", \"Cyprus\", \"Algeria\", \"Kosovo\", \"Turkmenistan\", \"Mauritius\", \"Hong Kong\", \"Estonia\", \"Indonesia\", \"Vietnam\", \"Turkey\", \"Kyrgyzstan\", \"Nigeria\", \"Bhutan\", \"Azerbaijan\", \"Pakistan\", \"Jordan\", \"Montenegro\", \"China\", \"Zambia\", \"Romania\", \"Serbia\", \"Portugal\", \"Latvia\", \"Philippines\", \"Somaliland region\", \"Morocco\", \"Macedonia\", \"Mozambique\", \"Albania\", \"Bosnia and Herzegovina\", \"Lesotho\", \"Dominican Republic\", \"Laos\", \"Mongolia\", \"Swaziland\", \"Greece\", \"Lebanon\", \"Hungary\", \"Honduras\", \"Tajikistan\", \"Tunisia\", \"Palestinian Territories\", \"Bangladesh\", \"Iran\", \"Ukraine\", \"Iraq\", \"South Africa\", \"Ghana\", \"Zimbabwe\", \"Liberia\", \"India\", \"Sudan\", \"Haiti\", \"Congo (Kinshasa)\", \"Nepal\", \"Ethiopia\", \"Sierra Leone\", \"Mauritania\", \"Kenya\", \"Djibouti\", \"Armenia\", \"Botswana\", \"Myanmar\", \"Georgia\", \"Malawi\", \"Sri Lanka\", \"Cameroon\", \"Bulgaria\", \"Egypt\", \"Yemen\", \"Angola\", \"Mali\", \"Congo (Brazzaville)\", \"Comoros\", \"Uganda\", \"Senegal\", \"Gabon\", \"Niger\", \"Cambodia\", \"Tanzania\", \"Madagascar\", \"Central African Republic\", \"Chad\", \"Guinea\", \"Ivory Coast\", \"Burkina Faso\", \"Afghanistan\", \"Rwanda\", \"Benin\", \"Syria\", \"Burundi\", \"Togo\"], \"type\": \"choropleth\", \"z\": [7.587000000000001, 7.561, 7.527, 7.522, 7.4270000000000005, 7.406000000000001, 7.377999999999999, 7.364, 7.2860000000000005, 7.284, 7.278, 7.226, 7.2, 7.187, 7.119, 6.983, 6.946000000000001, 6.94, 6.937, 6.901, 6.867000000000001, 6.853, 6.81, 6.797999999999999, 6.7860000000000005, 6.75, 6.67, 6.611000000000001, 6.575, 6.574, 6.505, 6.485, 6.477, 6.455, 6.4110000000000005, 6.329, 6.3020000000000005, 6.297999999999999, 6.295, 6.269, 6.167999999999999, 6.13, 6.122999999999999, 6.002999999999999, 5.995, 5.987, 5.984, 5.975, 5.96, 5.9479999999999995, 5.89, 5.888999999999999, 5.877999999999999, 5.855, 5.848, 5.832999999999999, 5.827999999999999, 5.824, 5.813, 5.791, 5.77, 5.7589999999999995, 5.754, 5.716, 5.709, 5.695, 5.689, 5.605, 5.5889999999999995, 5.547999999999999, 5.477, 5.474, 5.428999999999999, 5.399, 5.36, 5.332000000000001, 5.2860000000000005, 5.268, 5.252999999999999, 5.212000000000001, 5.194, 5.192, 5.192, 5.14, 5.129, 5.124, 5.122999999999999, 5.102, 5.098, 5.073, 5.0569999999999995, 5.013, 5.007, 4.971, 4.959, 4.949, 4.898, 4.885, 4.876, 4.874, 4.867, 4.857, 4.8389999999999995, 4.8, 4.788, 4.7860000000000005, 4.739, 4.715, 4.694, 4.686, 4.681, 4.677, 4.6419999999999995, 4.633, 4.61, 4.571000000000001, 4.565, 4.55, 4.518, 4.5169999999999995, 4.513999999999999, 4.512, 4.507, 4.436, 4.419, 4.369, 4.35, 4.332, 4.3069999999999995, 4.297, 4.292, 4.271, 4.252, 4.218, 4.194, 4.077, 4.033, 3.995, 3.989, 3.9560000000000004, 3.931, 3.904, 3.8960000000000004, 3.845, 3.819, 3.781, 3.681, 3.678, 3.667, 3.656, 3.655, 3.5869999999999997, 3.575, 3.465, 3.34, 3.0060000000000002, 2.905, 2.839]}],\n",
       "                        {\"geo\": {\"showframe\": false}, \"template\": {\"data\": {\"bar\": [{\"error_x\": {\"color\": \"#2a3f5f\"}, \"error_y\": {\"color\": \"#2a3f5f\"}, \"marker\": {\"line\": {\"color\": \"#E5ECF6\", \"width\": 0.5}}, \"type\": \"bar\"}], \"barpolar\": [{\"marker\": {\"line\": {\"color\": \"#E5ECF6\", \"width\": 0.5}}, \"type\": \"barpolar\"}], \"carpet\": [{\"aaxis\": {\"endlinecolor\": \"#2a3f5f\", \"gridcolor\": \"white\", \"linecolor\": \"white\", \"minorgridcolor\": \"white\", \"startlinecolor\": \"#2a3f5f\"}, \"baxis\": {\"endlinecolor\": \"#2a3f5f\", \"gridcolor\": \"white\", \"linecolor\": \"white\", \"minorgridcolor\": \"white\", \"startlinecolor\": \"#2a3f5f\"}, \"type\": \"carpet\"}], \"choropleth\": [{\"colorbar\": {\"outlinewidth\": 0, \"ticks\": \"\"}, \"type\": \"choropleth\"}], \"contour\": [{\"colorbar\": {\"outlinewidth\": 0, \"ticks\": \"\"}, \"colorscale\": [[0.0, \"#0d0887\"], [0.1111111111111111, \"#46039f\"], [0.2222222222222222, \"#7201a8\"], [0.3333333333333333, \"#9c179e\"], [0.4444444444444444, \"#bd3786\"], [0.5555555555555556, \"#d8576b\"], [0.6666666666666666, \"#ed7953\"], [0.7777777777777778, \"#fb9f3a\"], [0.8888888888888888, \"#fdca26\"], [1.0, \"#f0f921\"]], \"type\": \"contour\"}], \"contourcarpet\": [{\"colorbar\": {\"outlinewidth\": 0, \"ticks\": \"\"}, \"type\": \"contourcarpet\"}], \"heatmap\": [{\"colorbar\": {\"outlinewidth\": 0, \"ticks\": \"\"}, \"colorscale\": [[0.0, \"#0d0887\"], [0.1111111111111111, \"#46039f\"], [0.2222222222222222, \"#7201a8\"], [0.3333333333333333, \"#9c179e\"], [0.4444444444444444, \"#bd3786\"], [0.5555555555555556, \"#d8576b\"], [0.6666666666666666, \"#ed7953\"], [0.7777777777777778, \"#fb9f3a\"], [0.8888888888888888, \"#fdca26\"], [1.0, \"#f0f921\"]], \"type\": \"heatmap\"}], \"heatmapgl\": [{\"colorbar\": {\"outlinewidth\": 0, \"ticks\": \"\"}, \"colorscale\": [[0.0, \"#0d0887\"], [0.1111111111111111, \"#46039f\"], [0.2222222222222222, \"#7201a8\"], [0.3333333333333333, \"#9c179e\"], [0.4444444444444444, \"#bd3786\"], [0.5555555555555556, \"#d8576b\"], [0.6666666666666666, \"#ed7953\"], [0.7777777777777778, \"#fb9f3a\"], [0.8888888888888888, \"#fdca26\"], [1.0, \"#f0f921\"]], \"type\": \"heatmapgl\"}], \"histogram\": [{\"marker\": {\"colorbar\": {\"outlinewidth\": 0, \"ticks\": \"\"}}, \"type\": \"histogram\"}], \"histogram2d\": [{\"colorbar\": {\"outlinewidth\": 0, \"ticks\": \"\"}, \"colorscale\": [[0.0, \"#0d0887\"], [0.1111111111111111, \"#46039f\"], [0.2222222222222222, \"#7201a8\"], [0.3333333333333333, \"#9c179e\"], [0.4444444444444444, \"#bd3786\"], [0.5555555555555556, \"#d8576b\"], [0.6666666666666666, \"#ed7953\"], [0.7777777777777778, \"#fb9f3a\"], [0.8888888888888888, \"#fdca26\"], [1.0, \"#f0f921\"]], \"type\": \"histogram2d\"}], \"histogram2dcontour\": [{\"colorbar\": {\"outlinewidth\": 0, \"ticks\": \"\"}, \"colorscale\": [[0.0, \"#0d0887\"], [0.1111111111111111, \"#46039f\"], [0.2222222222222222, \"#7201a8\"], [0.3333333333333333, \"#9c179e\"], [0.4444444444444444, \"#bd3786\"], [0.5555555555555556, \"#d8576b\"], [0.6666666666666666, \"#ed7953\"], [0.7777777777777778, \"#fb9f3a\"], [0.8888888888888888, \"#fdca26\"], [1.0, \"#f0f921\"]], \"type\": \"histogram2dcontour\"}], \"mesh3d\": [{\"colorbar\": {\"outlinewidth\": 0, \"ticks\": \"\"}, \"type\": \"mesh3d\"}], \"parcoords\": [{\"line\": {\"colorbar\": {\"outlinewidth\": 0, \"ticks\": \"\"}}, \"type\": \"parcoords\"}], \"pie\": [{\"automargin\": true, \"type\": \"pie\"}], \"scatter\": [{\"marker\": {\"colorbar\": {\"outlinewidth\": 0, \"ticks\": \"\"}}, \"type\": \"scatter\"}], \"scatter3d\": [{\"line\": {\"colorbar\": {\"outlinewidth\": 0, \"ticks\": \"\"}}, \"marker\": {\"colorbar\": {\"outlinewidth\": 0, \"ticks\": \"\"}}, \"type\": \"scatter3d\"}], \"scattercarpet\": [{\"marker\": {\"colorbar\": {\"outlinewidth\": 0, \"ticks\": \"\"}}, \"type\": \"scattercarpet\"}], \"scattergeo\": [{\"marker\": {\"colorbar\": {\"outlinewidth\": 0, \"ticks\": \"\"}}, \"type\": \"scattergeo\"}], \"scattergl\": [{\"marker\": {\"colorbar\": {\"outlinewidth\": 0, \"ticks\": \"\"}}, \"type\": \"scattergl\"}], \"scattermapbox\": [{\"marker\": {\"colorbar\": {\"outlinewidth\": 0, \"ticks\": \"\"}}, \"type\": \"scattermapbox\"}], \"scatterpolar\": [{\"marker\": {\"colorbar\": {\"outlinewidth\": 0, \"ticks\": \"\"}}, \"type\": \"scatterpolar\"}], \"scatterpolargl\": [{\"marker\": {\"colorbar\": {\"outlinewidth\": 0, \"ticks\": \"\"}}, \"type\": \"scatterpolargl\"}], \"scatterternary\": [{\"marker\": {\"colorbar\": {\"outlinewidth\": 0, \"ticks\": \"\"}}, \"type\": \"scatterternary\"}], \"surface\": [{\"colorbar\": {\"outlinewidth\": 0, \"ticks\": \"\"}, \"colorscale\": [[0.0, \"#0d0887\"], [0.1111111111111111, \"#46039f\"], [0.2222222222222222, \"#7201a8\"], [0.3333333333333333, \"#9c179e\"], [0.4444444444444444, \"#bd3786\"], [0.5555555555555556, \"#d8576b\"], [0.6666666666666666, \"#ed7953\"], [0.7777777777777778, \"#fb9f3a\"], [0.8888888888888888, \"#fdca26\"], [1.0, \"#f0f921\"]], \"type\": \"surface\"}], \"table\": [{\"cells\": {\"fill\": {\"color\": \"#EBF0F8\"}, \"line\": {\"color\": \"white\"}}, \"header\": {\"fill\": {\"color\": \"#C8D4E3\"}, \"line\": {\"color\": \"white\"}}, \"type\": \"table\"}]}, \"layout\": {\"annotationdefaults\": {\"arrowcolor\": \"#2a3f5f\", \"arrowhead\": 0, \"arrowwidth\": 1}, \"coloraxis\": {\"colorbar\": {\"outlinewidth\": 0, \"ticks\": \"\"}}, \"colorscale\": {\"diverging\": [[0, \"#8e0152\"], [0.1, \"#c51b7d\"], [0.2, \"#de77ae\"], [0.3, \"#f1b6da\"], [0.4, \"#fde0ef\"], [0.5, \"#f7f7f7\"], [0.6, \"#e6f5d0\"], [0.7, \"#b8e186\"], [0.8, \"#7fbc41\"], [0.9, \"#4d9221\"], [1, \"#276419\"]], \"sequential\": [[0.0, \"#0d0887\"], [0.1111111111111111, \"#46039f\"], [0.2222222222222222, \"#7201a8\"], [0.3333333333333333, \"#9c179e\"], [0.4444444444444444, \"#bd3786\"], [0.5555555555555556, \"#d8576b\"], [0.6666666666666666, \"#ed7953\"], [0.7777777777777778, \"#fb9f3a\"], [0.8888888888888888, \"#fdca26\"], [1.0, \"#f0f921\"]], \"sequentialminus\": [[0.0, \"#0d0887\"], [0.1111111111111111, \"#46039f\"], [0.2222222222222222, \"#7201a8\"], [0.3333333333333333, \"#9c179e\"], [0.4444444444444444, \"#bd3786\"], [0.5555555555555556, \"#d8576b\"], [0.6666666666666666, \"#ed7953\"], [0.7777777777777778, \"#fb9f3a\"], [0.8888888888888888, \"#fdca26\"], [1.0, \"#f0f921\"]]}, \"colorway\": [\"#636efa\", \"#EF553B\", \"#00cc96\", \"#ab63fa\", \"#FFA15A\", \"#19d3f3\", \"#FF6692\", \"#B6E880\", \"#FF97FF\", \"#FECB52\"], \"font\": {\"color\": \"#2a3f5f\"}, \"geo\": {\"bgcolor\": \"white\", \"lakecolor\": \"white\", \"landcolor\": \"#E5ECF6\", \"showlakes\": true, \"showland\": true, \"subunitcolor\": \"white\"}, \"hoverlabel\": {\"align\": \"left\"}, \"hovermode\": \"closest\", \"mapbox\": {\"style\": \"light\"}, \"paper_bgcolor\": \"white\", \"plot_bgcolor\": \"#E5ECF6\", \"polar\": {\"angularaxis\": {\"gridcolor\": \"white\", \"linecolor\": \"white\", \"ticks\": \"\"}, \"bgcolor\": \"#E5ECF6\", \"radialaxis\": {\"gridcolor\": \"white\", \"linecolor\": \"white\", \"ticks\": \"\"}}, \"scene\": {\"xaxis\": {\"backgroundcolor\": \"#E5ECF6\", \"gridcolor\": \"white\", \"gridwidth\": 2, \"linecolor\": \"white\", \"showbackground\": true, \"ticks\": \"\", \"zerolinecolor\": \"white\"}, \"yaxis\": {\"backgroundcolor\": \"#E5ECF6\", \"gridcolor\": \"white\", \"gridwidth\": 2, \"linecolor\": \"white\", \"showbackground\": true, \"ticks\": \"\", \"zerolinecolor\": \"white\"}, \"zaxis\": {\"backgroundcolor\": \"#E5ECF6\", \"gridcolor\": \"white\", \"gridwidth\": 2, \"linecolor\": \"white\", \"showbackground\": true, \"ticks\": \"\", \"zerolinecolor\": \"white\"}}, \"shapedefaults\": {\"line\": {\"color\": \"#2a3f5f\"}}, \"ternary\": {\"aaxis\": {\"gridcolor\": \"white\", \"linecolor\": \"white\", \"ticks\": \"\"}, \"baxis\": {\"gridcolor\": \"white\", \"linecolor\": \"white\", \"ticks\": \"\"}, \"bgcolor\": \"#E5ECF6\", \"caxis\": {\"gridcolor\": \"white\", \"linecolor\": \"white\", \"ticks\": \"\"}}, \"title\": {\"x\": 0.05}, \"xaxis\": {\"automargin\": true, \"gridcolor\": \"white\", \"linecolor\": \"white\", \"ticks\": \"\", \"title\": {\"standoff\": 15}, \"zerolinecolor\": \"white\", \"zerolinewidth\": 2}, \"yaxis\": {\"automargin\": true, \"gridcolor\": \"white\", \"linecolor\": \"white\", \"ticks\": \"\", \"title\": {\"standoff\": 15}, \"zerolinecolor\": \"white\", \"zerolinewidth\": 2}}}, \"title\": {\"text\": \"Valor de Felicidade pelo Mundo\"}},\n",
       "                        {\"responsive\": true}\n",
       "                    ).then(function(){\n",
       "                            \n",
       "var gd = document.getElementById('64782cff-5a8a-43c5-aa42-d684ac96d172');\n",
       "var x = new MutationObserver(function (mutations, observer) {{\n",
       "        var display = window.getComputedStyle(gd).display;\n",
       "        if (!display || display === 'none') {{\n",
       "            console.log([gd, 'removed!']);\n",
       "            Plotly.purge(gd);\n",
       "            observer.disconnect();\n",
       "        }}\n",
       "}});\n",
       "\n",
       "// Listen for the removal of the full notebook cells\n",
       "var notebookContainer = gd.closest('#notebook-container');\n",
       "if (notebookContainer) {{\n",
       "    x.observe(notebookContainer, {childList: true});\n",
       "}}\n",
       "\n",
       "// Listen for the clearing of the current output cell\n",
       "var outputEl = gd.closest('.output');\n",
       "if (outputEl) {{\n",
       "    x.observe(outputEl, {childList: true});\n",
       "}}\n",
       "\n",
       "                        })\n",
       "                };\n",
       "                });\n",
       "            </script>\n",
       "        </div>"
      ]
     },
     "metadata": {},
     "output_type": "display_data"
    }
   ],
   "source": [
    "# Criando gráfico \n",
    "dfMap = dict(type = 'choropleth', \n",
    "             locations = df['Country'],\n",
    "             locationmode = 'country names',\n",
    "             z = df['Happiness Score'], \n",
    "             text = df['Country'],\n",
    "             colorbar = {'title':'Valor de Felicidade pelo Mundo'})\n",
    "\n",
    "# Criando Layout\n",
    "layout = dict(title = 'Valor de Felicidade pelo Mundo', geo = dict(showframe = False))\n",
    "\n",
    "# Criando figura que será exibida\n",
    "WorldMap = go.Figure(data = [dfMap], layout=layout)\n",
    "\n",
    "# Exibindo figura/gráfico\n",
    "iplot(WorldMap)"
   ]
  },
  {
   "cell_type": "code",
   "execution_count": 160,
   "metadata": {
    "scrolled": false
   },
   "outputs": [
    {
     "data": {
      "image/png": "[encoded data removed]",
      "text/plain": [
       "<Figure size 720x720 with 2 Axes>"
      ]
     },
     "metadata": {},
     "output_type": "display_data"
    }
   ],
   "source": [
    "# avaliando a correlação\n",
    "plt.subplots(figsize=(10,10))\n",
    "sns.heatmap(df.corr(), annot=True, linewidths = 0.2, linecolor='black', cmap='twilight_shifted_r', center=-1)\n",
    "plt.title('Correlação entre Fatores', size=25)\n",
    "plt.show()\n"
   ]
  },
  {
   "cell_type": "code",
   "execution_count": 54,
   "metadata": {},
   "outputs": [
    {
     "data": {
      "application/vnd.plotly.v1+json": {
       "config": {
        "plotlyServerURL": "https://plot.ly"
       },
       "data": [
        {
         "hovertemplate": "Happiness Score=%{x}<br>Economy (GDP per Capita)=%{y}<extra></extra>",
         "legendgroup": "",
         "marker": {
          "color": "#636efa",
          "symbol": "circle"
         },
         "mode": "markers",
         "name": "",
         "orientation": "v",
         "showlegend": false,
         "type": "scatter",
         "x": [
          7.587000000000001,
          7.561,
          7.527,
          7.522,
          7.4270000000000005,
          7.406000000000001,
          7.377999999999999,
          7.364,
          7.2860000000000005,
          7.284,
          7.278,
          7.226,
          7.2,
          7.187,
          7.119,
          6.983,
          6.946000000000001,
          6.94,
          6.937,
          6.901,
          6.867000000000001,
          6.853,
          6.81,
          6.797999999999999,
          6.7860000000000005,
          6.75,
          6.67,
          6.611000000000001,
          6.575,
          6.574,
          6.505,
          6.485,
          6.477,
          6.455,
          6.4110000000000005,
          6.329,
          6.3020000000000005,
          6.297999999999999,
          6.295,
          6.269,
          6.167999999999999,
          6.13,
          6.122999999999999,
          6.002999999999999,
          5.995,
          5.987,
          5.984,
          5.975,
          5.96,
          5.9479999999999995,
          5.89,
          5.888999999999999,
          5.877999999999999,
          5.855,
          5.848,
          5.832999999999999,
          5.827999999999999,
          5.824,
          5.813,
          5.791,
          5.77,
          5.7589999999999995,
          5.754,
          5.716,
          5.709,
          5.695,
          5.689,
          5.605,
          5.5889999999999995,
          5.547999999999999,
          5.477,
          5.474,
          5.428999999999999,
          5.399,
          5.36,
          5.332000000000001,
          5.2860000000000005,
          5.268,
          5.252999999999999,
          5.212000000000001,
          5.194,
          5.192,
          5.192,
          5.14,
          5.129,
          5.124,
          5.122999999999999,
          5.102,
          5.098,
          5.073,
          5.0569999999999995,
          5.013,
          5.007,
          4.971,
          4.959,
          4.949,
          4.898,
          4.885,
          4.876,
          4.874,
          4.867,
          4.857,
          4.8389999999999995,
          4.8,
          4.788,
          4.7860000000000005,
          4.739,
          4.715,
          4.694,
          4.686,
          4.681,
          4.677,
          4.6419999999999995,
          4.633,
          4.61,
          4.571000000000001,
          4.565,
          4.55,
          4.518,
          4.5169999999999995,
          4.513999999999999,
          4.512,
          4.507,
          4.436,
          4.419,
          4.369,
          4.35,
          4.332,
          4.3069999999999995,
          4.297,
          4.292,
          4.271,
          4.252,
          4.218,
          4.194,
          4.077,
          4.033,
          3.995,
          3.989,
          3.9560000000000004,
          3.931,
          3.904,
          3.8960000000000004,
          3.845,
          3.819,
          3.781,
          3.681,
          3.678,
          3.667,
          3.656,
          3.655,
          3.5869999999999997,
          3.575,
          3.465,
          3.34,
          3.0060000000000002,
          2.905,
          2.839
         ],
         "xaxis": "x",
         "y": [
          1.3965100000000001,
          1.3023200000000001,
          1.32548,
          1.459,
          1.32629,
          1.29025,
          1.32944,
          1.33171,
          1.2501799999999998,
          1.33358,
          1.2285700000000002,
          0.95578,
          1.33723,
          1.02054,
          1.3945100000000001,
          0.98124,
          1.5639100000000001,
          1.33596,
          1.30782,
          1.42727,
          1.26637,
          1.36011,
          1.04424,
          1.52186,
          1.0635299999999999,
          1.32792,
          1.10715,
          1.69042,
          1.27778,
          1.05351,
          1.17898,
          1.06166,
          0.91861,
          0.9669,
          1.39541,
          1.23011,
          1.2074,
          1.29098,
          1.5542200000000002,
          0.99534,
          1.21183,
          0.76454,
          0.74553,
          0.63244,
          1.1689100000000001,
          1.27074,
          1.24461,
          0.8640200000000001,
          1.32376,
          1.25114,
          0.68133,
          0.59448,
          0.75985,
          1.1225399999999999,
          1.18498,
          1.14723,
          0.59325,
          0.9001899999999999,
          1.0319200000000002,
          1.12555,
          1.12486,
          1.08254,
          1.13145,
          1.13764,
          0.81038,
          1.2080600000000001,
          1.20813,
          0.93929,
          0.80148,
          0.95847,
          1.0076100000000001,
          1.38604,
          1.15174,
          0.8282700000000001,
          0.63216,
          1.06098,
          0.47428000000000003,
          0.65435,
          0.77042,
          1.02389,
          0.59543,
          0.9019799999999999,
          0.9743799999999999,
          0.89012,
          0.47038,
          1.04345,
          0.92053,
          1.15991,
          1.11312,
          0.70532,
          0.18847,
          0.7347899999999999,
          0.91851,
          0.08308,
          0.8786700000000001,
          0.8322299999999999,
          0.37545,
          0.8953700000000001,
          0.5906600000000001,
          0.82819,
          0.71206,
          1.15406,
          1.0256399999999999,
          1.12094,
          0.59532,
          0.39047,
          0.88113,
          0.59867,
          0.39753,
          1.0088,
          0.79907,
          0.98549,
          0.9204899999999999,
          0.5455800000000001,
          0.271,
          0.0712,
          0.64499,
          0.52107,
          0.26673,
          0,
          0.35996999999999996,
          0.19072999999999998,
          0.33024000000000003,
          0.45407,
          0.36471,
          0.44025,
          0.7682100000000001,
          0.99355,
          0.27108000000000004,
          0.7419,
          0.016040000000000002,
          0.83524,
          0.4225,
          1.01216,
          0.8818,
          0.5464899999999999,
          0.75778,
          0.26074,
          0.67866,
          0.23906,
          0.21101999999999999,
          0.36498,
          1.06024,
          0.0694,
          0.46038,
          0.2852,
          0.20824,
          0.0785,
          0.34193,
          0.17417,
          0.46534,
          0.25811999999999996,
          0.31982,
          0.22208000000000003,
          0.28665,
          0.6632,
          0.0153,
          0.20868
         ],
         "yaxis": "y"
        },
        {
         "hovertemplate": "<b>OLS trendline</b><br>Economy (GDP per Capita) = 0.274953 * Happiness Score + -0.631934<br>R<sup>2</sup>=0.609907<br><br>Happiness Score=%{x}<br>Economy (GDP per Capita)=%{y} <b>(trend)</b><extra></extra>",
         "legendgroup": "",
         "marker": {
          "color": "#636efa",
          "symbol": "circle"
         },
         "mode": "lines",
         "name": "",
         "showlegend": false,
         "type": "scatter",
         "x": [
          2.839,
          2.905,
          3.0060000000000002,
          3.34,
          3.465,
          3.575,
          3.5869999999999997,
          3.655,
          3.656,
          3.667,
          3.678,
          3.681,
          3.781,
          3.819,
          3.845,
          3.8960000000000004,
          3.904,
          3.931,
          3.9560000000000004,
          3.989,
          3.995,
          4.033,
          4.077,
          4.194,
          4.218,
          4.252,
          4.271,
          4.292,
          4.297,
          4.3069999999999995,
          4.332,
          4.35,
          4.369,
          4.419,
          4.436,
          4.507,
          4.512,
          4.513999999999999,
          4.5169999999999995,
          4.518,
          4.55,
          4.565,
          4.571000000000001,
          4.61,
          4.633,
          4.6419999999999995,
          4.677,
          4.681,
          4.686,
          4.694,
          4.715,
          4.739,
          4.7860000000000005,
          4.788,
          4.8,
          4.8389999999999995,
          4.857,
          4.867,
          4.874,
          4.876,
          4.885,
          4.898,
          4.949,
          4.959,
          4.971,
          5.007,
          5.013,
          5.0569999999999995,
          5.073,
          5.098,
          5.102,
          5.122999999999999,
          5.124,
          5.129,
          5.14,
          5.192,
          5.192,
          5.194,
          5.212000000000001,
          5.252999999999999,
          5.268,
          5.2860000000000005,
          5.332000000000001,
          5.36,
          5.399,
          5.428999999999999,
          5.474,
          5.477,
          5.547999999999999,
          5.5889999999999995,
          5.605,
          5.689,
          5.695,
          5.709,
          5.716,
          5.754,
          5.7589999999999995,
          5.77,
          5.791,
          5.813,
          5.824,
          5.827999999999999,
          5.832999999999999,
          5.848,
          5.855,
          5.877999999999999,
          5.888999999999999,
          5.89,
          5.9479999999999995,
          5.96,
          5.975,
          5.984,
          5.987,
          5.995,
          6.002999999999999,
          6.122999999999999,
          6.13,
          6.167999999999999,
          6.269,
          6.295,
          6.297999999999999,
          6.3020000000000005,
          6.329,
          6.4110000000000005,
          6.455,
          6.477,
          6.485,
          6.505,
          6.574,
          6.575,
          6.611000000000001,
          6.67,
          6.75,
          6.7860000000000005,
          6.797999999999999,
          6.81,
          6.853,
          6.867000000000001,
          6.901,
          6.937,
          6.94,
          6.946000000000001,
          6.983,
          7.119,
          7.187,
          7.2,
          7.226,
          7.278,
          7.284,
          7.2860000000000005,
          7.364,
          7.377999999999999,
          7.406000000000001,
          7.4270000000000005,
          7.522,
          7.527,
          7.561,
          7.587000000000001
         ],
         "xaxis": "x",
         "y": [
          0.14865574027661288,
          0.16680260712523576,
          0.19457281245418923,
          0.2864069568093418,
          0.32077602281052164,
          0.35102080089156007,
          0.3543202312276732,
          0.373017003132315,
          0.3732919556603247,
          0.37631643346842836,
          0.37934091127653224,
          0.38016576886056064,
          0.4076610216615044,
          0.4181092177258632,
          0.4252579834541086,
          0.43928056238258995,
          0.44148018260666544,
          0.4489039008629203,
          0.4557777140631565,
          0.4648511474874677,
          0.4665008626555245,
          0.47694905871988325,
          0.48904696995229835,
          0.5212164157294028,
          0.5278152764016293,
          0.5371636623539502,
          0.5423877603861296,
          0.5481617634743277,
          0.549536526114375,
          0.5522860513944692,
          0.5591598645947053,
          0.564109010098875,
          0.5693331081310544,
          0.5830807345315265,
          0.587754927507687,
          0.6072765569963572,
          0.6086513196364043,
          0.609201224692423,
          0.6100260822764514,
          0.6103010348044609,
          0.619099515700763,
          0.6232238036209048,
          0.6248735187889614,
          0.6355966673813296,
          0.6419205755255466,
          0.6443951482776313,
          0.6540184867579617,
          0.6551182968699996,
          0.6564930595100467,
          0.6586926797341222,
          0.6644666828223205,
          0.671065543494547,
          0.6839883123109909,
          0.6845382173670096,
          0.6878376477031227,
          0.6985607962954907,
          0.7035099417996609,
          0.7062594670797553,
          0.7081841347758213,
          0.7087340398318402,
          0.711208612583925,
          0.7147829954480478,
          0.7288055743765292,
          0.7315550996566236,
          0.7348545299927369,
          0.7447528210010765,
          0.7464025361691333,
          0.7585004474015484,
          0.7628996878496999,
          0.7697735010499356,
          0.7708733111619734,
          0.7766473142501715,
          0.776922266778181,
          0.7782970294182281,
          0.781321507226332,
          0.795619038682823,
          0.795619038682823,
          0.7961689437388417,
          0.8011180892430119,
          0.8123911428913986,
          0.8165154308115403,
          0.8214645763157102,
          0.8341123926041445,
          0.8418110633884088,
          0.8525342119807768,
          0.8607827878210599,
          0.8731556515814847,
          0.8739805091655131,
          0.893502138654183,
          0.90477519230257,
          0.9091744327507214,
          0.9322704451035142,
          0.9339201602715708,
          0.9377694956637028,
          0.9396941633597691,
          0.9501423594241276,
          0.9515171220641747,
          0.9545415998722786,
          0.9603156029604769,
          0.9663645585766845,
          0.9693890363847883,
          0.970488846496826,
          0.9718636091368731,
          0.9759878970570148,
          0.9779125647530811,
          0.9842364728972979,
          0.9872609507054018,
          0.9875359032334112,
          1.0034831498579586,
          1.0067825801940722,
          1.0109068681142135,
          1.0133814408662987,
          1.014206298450327,
          1.0164059186744026,
          1.0186055388984778,
          1.0515998422596105,
          1.0535245099556767,
          1.0639727060200352,
          1.0917429113489887,
          1.0988916770772341,
          1.0997165346612623,
          1.1008163447733004,
          1.108240063029555,
          1.1307861703263293,
          1.1428840815587444,
          1.1489330371749522,
          1.1511326573990277,
          1.1566317079592163,
          1.1756034323918676,
          1.175878384919877,
          1.1857766759282171,
          1.2019988750807737,
          1.223995077321529,
          1.233893368329869,
          1.2371927986659819,
          1.2404922290020952,
          1.252315187706501,
          1.2561645230986336,
          1.2655129090509543,
          1.275411200059294,
          1.2762360576433225,
          1.277885772811379,
          1.2880590163477281,
          1.325452560157012,
          1.3441493320616538,
          1.3477237149257766,
          1.354872480654022,
          1.3691700121105126,
          1.3708197272785694,
          1.3713696323345883,
          1.3928159295193243,
          1.3966652649114564,
          1.404363935695721,
          1.4101379387839192,
          1.4362584289448161,
          1.437633191584863,
          1.446981577537184,
          1.4541303432654296
         ],
         "yaxis": "y"
        }
       ],
       "layout": {
        "legend": {
         "tracegroupgap": 0
        },
        "margin": {
         "t": 60
        },
        "template": {
         "data": {
          "bar": [
           {
            "error_x": {
             "color": "#2a3f5f"
            },
            "error_y": {
             "color": "#2a3f5f"
            },
            "marker": {
             "line": {
              "color": "#E5ECF6",
              "width": 0.5
             }
            },
            "type": "bar"
           }
          ],
          "barpolar": [
           {
            "marker": {
             "line": {
              "color": "#E5ECF6",
              "width": 0.5
             }
            },
            "type": "barpolar"
           }
          ],
          "carpet": [
           {
            "aaxis": {
             "endlinecolor": "#2a3f5f",
             "gridcolor": "white",
             "linecolor": "white",
             "minorgridcolor": "white",
             "startlinecolor": "#2a3f5f"
            },
            "baxis": {
             "endlinecolor": "#2a3f5f",
             "gridcolor": "white",
             "linecolor": "white",
             "minorgridcolor": "white",
             "startlinecolor": "#2a3f5f"
            },
            "type": "carpet"
           }
          ],
          "choropleth": [
           {
            "colorbar": {
             "outlinewidth": 0,
             "ticks": ""
            },
            "type": "choropleth"
           }
          ],
          "contour": [
           {
            "colorbar": {
             "outlinewidth": 0,
             "ticks": ""
            },
            "colorscale": [
             [
              0,
              "#0d0887"
             ],
             [
              0.1111111111111111,
              "#46039f"
             ],
             [
              0.2222222222222222,
              "#7201a8"
             ],
             [
              0.3333333333333333,
              "#9c179e"
             ],
             [
              0.4444444444444444,
              "#bd3786"
             ],
             [
              0.5555555555555556,
              "#d8576b"
             ],
             [
              0.6666666666666666,
              "#ed7953"
             ],
             [
              0.7777777777777778,
              "#fb9f3a"
             ],
             [
              0.8888888888888888,
              "#fdca26"
             ],
             [
              1,
              "#f0f921"
             ]
            ],
            "type": "contour"
           }
          ],
          "contourcarpet": [
           {
            "colorbar": {
             "outlinewidth": 0,
             "ticks": ""
            },
            "type": "contourcarpet"
           }
          ],
          "heatmap": [
           {
            "colorbar": {
             "outlinewidth": 0,
             "ticks": ""
            },
            "colorscale": [
             [
              0,
              "#0d0887"
             ],
             [
              0.1111111111111111,
              "#46039f"
             ],
             [
              0.2222222222222222,
              "#7201a8"
             ],
             [
              0.3333333333333333,
              "#9c179e"
             ],
             [
              0.4444444444444444,
              "#bd3786"
             ],
             [
              0.5555555555555556,
              "#d8576b"
             ],
             [
              0.6666666666666666,
              "#ed7953"
             ],
             [
              0.7777777777777778,
              "#fb9f3a"
             ],
             [
              0.8888888888888888,
              "#fdca26"
             ],
             [
              1,
              "#f0f921"
             ]
            ],
            "type": "heatmap"
           }
          ],
          "heatmapgl": [
           {
            "colorbar": {
             "outlinewidth": 0,
             "ticks": ""
            },
            "colorscale": [
             [
              0,
              "#0d0887"
             ],
             [
              0.1111111111111111,
              "#46039f"
             ],
             [
              0.2222222222222222,
              "#7201a8"
             ],
             [
              0.3333333333333333,
              "#9c179e"
             ],
             [
              0.4444444444444444,
              "#bd3786"
             ],
             [
              0.5555555555555556,
              "#d8576b"
             ],
             [
              0.6666666666666666,
              "#ed7953"
             ],
             [
              0.7777777777777778,
              "#fb9f3a"
             ],
             [
              0.8888888888888888,
              "#fdca26"
             ],
             [
              1,
              "#f0f921"
             ]
            ],
            "type": "heatmapgl"
           }
          ],
          "histogram": [
           {
            "marker": {
             "colorbar": {
              "outlinewidth": 0,
              "ticks": ""
             }
            },
            "type": "histogram"
           }
          ],
          "histogram2d": [
           {
            "colorbar": {
             "outlinewidth": 0,
             "ticks": ""
            },
            "colorscale": [
             [
              0,
              "#0d0887"
             ],
             [
              0.1111111111111111,
              "#46039f"
             ],
             [
              0.2222222222222222,
              "#7201a8"
             ],
             [
              0.3333333333333333,
              "#9c179e"
             ],
             [
              0.4444444444444444,
              "#bd3786"
             ],
             [
              0.5555555555555556,
              "#d8576b"
             ],
             [
              0.6666666666666666,
              "#ed7953"
             ],
             [
              0.7777777777777778,
              "#fb9f3a"
             ],
             [
              0.8888888888888888,
              "#fdca26"
             ],
             [
              1,
              "#f0f921"
             ]
            ],
            "type": "histogram2d"
           }
          ],
          "histogram2dcontour": [
           {
            "colorbar": {
             "outlinewidth": 0,
             "ticks": ""
            },
            "colorscale": [
             [
              0,
              "#0d0887"
             ],
             [
              0.1111111111111111,
              "#46039f"
             ],
             [
              0.2222222222222222,
              "#7201a8"
             ],
             [
              0.3333333333333333,
              "#9c179e"
             ],
             [
              0.4444444444444444,
              "#bd3786"
             ],
             [
              0.5555555555555556,
              "#d8576b"
             ],
             [
              0.6666666666666666,
              "#ed7953"
             ],
             [
              0.7777777777777778,
              "#fb9f3a"
             ],
             [
              0.8888888888888888,
              "#fdca26"
             ],
             [
              1,
              "#f0f921"
             ]
            ],
            "type": "histogram2dcontour"
           }
          ],
          "mesh3d": [
           {
            "colorbar": {
             "outlinewidth": 0,
             "ticks": ""
            },
            "type": "mesh3d"
           }
          ],
          "parcoords": [
           {
            "line": {
             "colorbar": {
              "outlinewidth": 0,
              "ticks": ""
             }
            },
            "type": "parcoords"
           }
          ],
          "pie": [
           {
            "automargin": true,
            "type": "pie"
           }
          ],
          "scatter": [
           {
            "marker": {
             "colorbar": {
              "outlinewidth": 0,
              "ticks": ""
             }
            },
            "type": "scatter"
           }
          ],
          "scatter3d": [
           {
            "line": {
             "colorbar": {
              "outlinewidth": 0,
              "ticks": ""
             }
            },
            "marker": {
             "colorbar": {
              "outlinewidth": 0,
              "ticks": ""
             }
            },
            "type": "scatter3d"
           }
          ],
          "scattercarpet": [
           {
            "marker": {
             "colorbar": {
              "outlinewidth": 0,
              "ticks": ""
             }
            },
            "type": "scattercarpet"
           }
          ],
          "scattergeo": [
           {
            "marker": {
             "colorbar": {
              "outlinewidth": 0,
              "ticks": ""
             }
            },
            "type": "scattergeo"
           }
          ],
          "scattergl": [
           {
            "marker": {
             "colorbar": {
              "outlinewidth": 0,
              "ticks": ""
             }
            },
            "type": "scattergl"
           }
          ],
          "scattermapbox": [
           {
            "marker": {
             "colorbar": {
              "outlinewidth": 0,
              "ticks": ""
             }
            },
            "type": "scattermapbox"
           }
          ],
          "scatterpolar": [
           {
            "marker": {
             "colorbar": {
              "outlinewidth": 0,
              "ticks": ""
             }
            },
            "type": "scatterpolar"
           }
          ],
          "scatterpolargl": [
           {
            "marker": {
             "colorbar": {
              "outlinewidth": 0,
              "ticks": ""
             }
            },
            "type": "scatterpolargl"
           }
          ],
          "scatterternary": [
           {
            "marker": {
             "colorbar": {
              "outlinewidth": 0,
              "ticks": ""
             }
            },
            "type": "scatterternary"
           }
          ],
          "surface": [
           {
            "colorbar": {
             "outlinewidth": 0,
             "ticks": ""
            },
            "colorscale": [
             [
              0,
              "#0d0887"
             ],
             [
              0.1111111111111111,
              "#46039f"
             ],
             [
              0.2222222222222222,
              "#7201a8"
             ],
             [
              0.3333333333333333,
              "#9c179e"
             ],
             [
              0.4444444444444444,
              "#bd3786"
             ],
             [
              0.5555555555555556,
              "#d8576b"
             ],
             [
              0.6666666666666666,
              "#ed7953"
             ],
             [
              0.7777777777777778,
              "#fb9f3a"
             ],
             [
              0.8888888888888888,
              "#fdca26"
             ],
             [
              1,
              "#f0f921"
             ]
            ],
            "type": "surface"
           }
          ],
          "table": [
           {
            "cells": {
             "fill": {
              "color": "#EBF0F8"
             },
             "line": {
              "color": "white"
             }
            },
            "header": {
             "fill": {
              "color": "#C8D4E3"
             },
             "line": {
              "color": "white"
             }
            },
            "type": "table"
           }
          ]
         },
         "layout": {
          "annotationdefaults": {
           "arrowcolor": "#2a3f5f",
           "arrowhead": 0,
           "arrowwidth": 1
          },
          "coloraxis": {
           "colorbar": {
            "outlinewidth": 0,
            "ticks": ""
           }
          },
          "colorscale": {
           "diverging": [
            [
             0,
             "#8e0152"
            ],
            [
             0.1,
             "#c51b7d"
            ],
            [
             0.2,
             "#de77ae"
            ],
            [
             0.3,
             "#f1b6da"
            ],
            [
             0.4,
             "#fde0ef"
            ],
            [
             0.5,
             "#f7f7f7"
            ],
            [
             0.6,
             "#e6f5d0"
            ],
            [
             0.7,
             "#b8e186"
            ],
            [
             0.8,
             "#7fbc41"
            ],
            [
             0.9,
             "#4d9221"
            ],
            [
             1,
             "#276419"
            ]
           ],
           "sequential": [
            [
             0,
             "#0d0887"
            ],
            [
             0.1111111111111111,
             "#46039f"
            ],
            [
             0.2222222222222222,
             "#7201a8"
            ],
            [
             0.3333333333333333,
             "#9c179e"
            ],
            [
             0.4444444444444444,
             "#bd3786"
            ],
            [
             0.5555555555555556,
             "#d8576b"
            ],
            [
             0.6666666666666666,
             "#ed7953"
            ],
            [
             0.7777777777777778,
             "#fb9f3a"
            ],
            [
             0.8888888888888888,
             "#fdca26"
            ],
            [
             1,
             "#f0f921"
            ]
           ],
           "sequentialminus": [
            [
             0,
             "#0d0887"
            ],
            [
             0.1111111111111111,
             "#46039f"
            ],
            [
             0.2222222222222222,
             "#7201a8"
            ],
            [
             0.3333333333333333,
             "#9c179e"
            ],
            [
             0.4444444444444444,
             "#bd3786"
            ],
            [
             0.5555555555555556,
             "#d8576b"
            ],
            [
             0.6666666666666666,
             "#ed7953"
            ],
            [
             0.7777777777777778,
             "#fb9f3a"
            ],
            [
             0.8888888888888888,
             "#fdca26"
            ],
            [
             1,
             "#f0f921"
            ]
           ]
          },
          "colorway": [
           "#636efa",
           "#EF553B",
           "#00cc96",
           "#ab63fa",
           "#FFA15A",
           "#19d3f3",
           "#FF6692",
           "#B6E880",
           "#FF97FF",
           "#FECB52"
          ],
          "font": {
           "color": "#2a3f5f"
          },
          "geo": {
           "bgcolor": "white",
           "lakecolor": "white",
           "landcolor": "#E5ECF6",
           "showlakes": true,
           "showland": true,
           "subunitcolor": "white"
          },
          "hoverlabel": {
           "align": "left"
          },
          "hovermode": "closest",
          "mapbox": {
           "style": "light"
          },
          "paper_bgcolor": "white",
          "plot_bgcolor": "#E5ECF6",
          "polar": {
           "angularaxis": {
            "gridcolor": "white",
            "linecolor": "white",
            "ticks": ""
           },
           "bgcolor": "#E5ECF6",
           "radialaxis": {
            "gridcolor": "white",
            "linecolor": "white",
            "ticks": ""
           }
          },
          "scene": {
           "xaxis": {
            "backgroundcolor": "#E5ECF6",
            "gridcolor": "white",
            "gridwidth": 2,
            "linecolor": "white",
            "showbackground": true,
            "ticks": "",
            "zerolinecolor": "white"
           },
           "yaxis": {
            "backgroundcolor": "#E5ECF6",
            "gridcolor": "white",
            "gridwidth": 2,
            "linecolor": "white",
            "showbackground": true,
            "ticks": "",
            "zerolinecolor": "white"
           },
           "zaxis": {
            "backgroundcolor": "#E5ECF6",
            "gridcolor": "white",
            "gridwidth": 2,
            "linecolor": "white",
            "showbackground": true,
            "ticks": "",
            "zerolinecolor": "white"
           }
          },
          "shapedefaults": {
           "line": {
            "color": "#2a3f5f"
           }
          },
          "ternary": {
           "aaxis": {
            "gridcolor": "white",
            "linecolor": "white",
            "ticks": ""
           },
           "baxis": {
            "gridcolor": "white",
            "linecolor": "white",
            "ticks": ""
           },
           "bgcolor": "#E5ECF6",
           "caxis": {
            "gridcolor": "white",
            "linecolor": "white",
            "ticks": ""
           }
          },
          "title": {
           "x": 0.05
          },
          "xaxis": {
           "automargin": true,
           "gridcolor": "white",
           "linecolor": "white",
           "ticks": "",
           "title": {
            "standoff": 15
           },
           "zerolinecolor": "white",
           "zerolinewidth": 2
          },
          "yaxis": {
           "automargin": true,
           "gridcolor": "white",
           "linecolor": "white",
           "ticks": "",
           "title": {
            "standoff": 15
           },
           "zerolinecolor": "white",
           "zerolinewidth": 2
          }
         }
        },
        "xaxis": {
         "anchor": "y",
         "domain": [
          0,
          1
         ],
         "title": {
          "text": "Happiness Score"
         }
        },
        "yaxis": {
         "anchor": "x",
         "domain": [
          0,
          1
         ],
         "title": {
          "text": "Economy (GDP per Capita)"
         }
        }
       }
      },
      "text/html": [
       "<div>\n",
       "        \n",
       "        \n",
       "            <div id=\"b6e37b7f-85c5-4bfa-b34c-141edad356ec\" class=\"plotly-graph-div\" style=\"height:525px; width:100%;\"></div>\n",
       "            <script type=\"text/javascript\">\n",
       "                require([\"plotly\"], function(Plotly) {\n",
       "                    window.PLOTLYENV=window.PLOTLYENV || {};\n",
       "                    \n",
       "                if (document.getElementById(\"b6e37b7f-85c5-4bfa-b34c-141edad356ec\")) {\n",
       "                    Plotly.newPlot(\n",
       "                        'b6e37b7f-85c5-4bfa-b34c-141edad356ec',\n",
       "                        [{\"hovertemplate\": \"Happiness Score=%{x}<br>Economy (GDP per Capita)=%{y}<extra></extra>\", \"legendgroup\": \"\", \"marker\": {\"color\": \"#636efa\", \"symbol\": \"circle\"}, \"mode\": \"markers\", \"name\": \"\", \"orientation\": \"v\", \"showlegend\": false, \"type\": \"scatter\", \"x\": [7.587000000000001, 7.561, 7.527, 7.522, 7.4270000000000005, 7.406000000000001, 7.377999999999999, 7.364, 7.2860000000000005, 7.284, 7.278, 7.226, 7.2, 7.187, 7.119, 6.983, 6.946000000000001, 6.94, 6.937, 6.901, 6.867000000000001, 6.853, 6.81, 6.797999999999999, 6.7860000000000005, 6.75, 6.67, 6.611000000000001, 6.575, 6.574, 6.505, 6.485, 6.477, 6.455, 6.4110000000000005, 6.329, 6.3020000000000005, 6.297999999999999, 6.295, 6.269, 6.167999999999999, 6.13, 6.122999999999999, 6.002999999999999, 5.995, 5.987, 5.984, 5.975, 5.96, 5.9479999999999995, 5.89, 5.888999999999999, 5.877999999999999, 5.855, 5.848, 5.832999999999999, 5.827999999999999, 5.824, 5.813, 5.791, 5.77, 5.7589999999999995, 5.754, 5.716, 5.709, 5.695, 5.689, 5.605, 5.5889999999999995, 5.547999999999999, 5.477, 5.474, 5.428999999999999, 5.399, 5.36, 5.332000000000001, 5.2860000000000005, 5.268, 5.252999999999999, 5.212000000000001, 5.194, 5.192, 5.192, 5.14, 5.129, 5.124, 5.122999999999999, 5.102, 5.098, 5.073, 5.0569999999999995, 5.013, 5.007, 4.971, 4.959, 4.949, 4.898, 4.885, 4.876, 4.874, 4.867, 4.857, 4.8389999999999995, 4.8, 4.788, 4.7860000000000005, 4.739, 4.715, 4.694, 4.686, 4.681, 4.677, 4.6419999999999995, 4.633, 4.61, 4.571000000000001, 4.565, 4.55, 4.518, 4.5169999999999995, 4.513999999999999, 4.512, 4.507, 4.436, 4.419, 4.369, 4.35, 4.332, 4.3069999999999995, 4.297, 4.292, 4.271, 4.252, 4.218, 4.194, 4.077, 4.033, 3.995, 3.989, 3.9560000000000004, 3.931, 3.904, 3.8960000000000004, 3.845, 3.819, 3.781, 3.681, 3.678, 3.667, 3.656, 3.655, 3.5869999999999997, 3.575, 3.465, 3.34, 3.0060000000000002, 2.905, 2.839], \"xaxis\": \"x\", \"y\": [1.3965100000000001, 1.3023200000000001, 1.32548, 1.459, 1.32629, 1.29025, 1.32944, 1.33171, 1.2501799999999998, 1.33358, 1.2285700000000002, 0.95578, 1.33723, 1.02054, 1.3945100000000001, 0.98124, 1.5639100000000001, 1.33596, 1.30782, 1.42727, 1.26637, 1.36011, 1.04424, 1.52186, 1.0635299999999999, 1.32792, 1.10715, 1.69042, 1.27778, 1.05351, 1.17898, 1.06166, 0.91861, 0.9669, 1.39541, 1.23011, 1.2074, 1.29098, 1.5542200000000002, 0.99534, 1.21183, 0.76454, 0.74553, 0.63244, 1.1689100000000001, 1.27074, 1.24461, 0.8640200000000001, 1.32376, 1.25114, 0.68133, 0.59448, 0.75985, 1.1225399999999999, 1.18498, 1.14723, 0.59325, 0.9001899999999999, 1.0319200000000002, 1.12555, 1.12486, 1.08254, 1.13145, 1.13764, 0.81038, 1.2080600000000001, 1.20813, 0.93929, 0.80148, 0.95847, 1.0076100000000001, 1.38604, 1.15174, 0.8282700000000001, 0.63216, 1.06098, 0.47428000000000003, 0.65435, 0.77042, 1.02389, 0.59543, 0.9019799999999999, 0.9743799999999999, 0.89012, 0.47038, 1.04345, 0.92053, 1.15991, 1.11312, 0.70532, 0.18847, 0.7347899999999999, 0.91851, 0.08308, 0.8786700000000001, 0.8322299999999999, 0.37545, 0.8953700000000001, 0.5906600000000001, 0.82819, 0.71206, 1.15406, 1.0256399999999999, 1.12094, 0.59532, 0.39047, 0.88113, 0.59867, 0.39753, 1.0088, 0.79907, 0.98549, 0.9204899999999999, 0.5455800000000001, 0.271, 0.0712, 0.64499, 0.52107, 0.26673, 0.0, 0.35996999999999996, 0.19072999999999998, 0.33024000000000003, 0.45407, 0.36471, 0.44025, 0.7682100000000001, 0.99355, 0.27108000000000004, 0.7419, 0.016040000000000002, 0.83524, 0.4225, 1.01216, 0.8818, 0.5464899999999999, 0.75778, 0.26074, 0.67866, 0.23906, 0.21101999999999999, 0.36498, 1.06024, 0.0694, 0.46038, 0.2852, 0.20824, 0.0785, 0.34193, 0.17417, 0.46534, 0.25811999999999996, 0.31982, 0.22208000000000003, 0.28665, 0.6632, 0.0153, 0.20868], \"yaxis\": \"y\"}, {\"hovertemplate\": \"<b>OLS trendline</b><br>Economy (GDP per Capita) = 0.274953 * Happiness Score + -0.631934<br>R<sup>2</sup>=0.609907<br><br>Happiness Score=%{x}<br>Economy (GDP per Capita)=%{y} <b>(trend)</b><extra></extra>\", \"legendgroup\": \"\", \"marker\": {\"color\": \"#636efa\", \"symbol\": \"circle\"}, \"mode\": \"lines\", \"name\": \"\", \"showlegend\": false, \"type\": \"scatter\", \"x\": [2.839, 2.905, 3.0060000000000002, 3.34, 3.465, 3.575, 3.5869999999999997, 3.655, 3.656, 3.667, 3.678, 3.681, 3.781, 3.819, 3.845, 3.8960000000000004, 3.904, 3.931, 3.9560000000000004, 3.989, 3.995, 4.033, 4.077, 4.194, 4.218, 4.252, 4.271, 4.292, 4.297, 4.3069999999999995, 4.332, 4.35, 4.369, 4.419, 4.436, 4.507, 4.512, 4.513999999999999, 4.5169999999999995, 4.518, 4.55, 4.565, 4.571000000000001, 4.61, 4.633, 4.6419999999999995, 4.677, 4.681, 4.686, 4.694, 4.715, 4.739, 4.7860000000000005, 4.788, 4.8, 4.8389999999999995, 4.857, 4.867, 4.874, 4.876, 4.885, 4.898, 4.949, 4.959, 4.971, 5.007, 5.013, 5.0569999999999995, 5.073, 5.098, 5.102, 5.122999999999999, 5.124, 5.129, 5.14, 5.192, 5.192, 5.194, 5.212000000000001, 5.252999999999999, 5.268, 5.2860000000000005, 5.332000000000001, 5.36, 5.399, 5.428999999999999, 5.474, 5.477, 5.547999999999999, 5.5889999999999995, 5.605, 5.689, 5.695, 5.709, 5.716, 5.754, 5.7589999999999995, 5.77, 5.791, 5.813, 5.824, 5.827999999999999, 5.832999999999999, 5.848, 5.855, 5.877999999999999, 5.888999999999999, 5.89, 5.9479999999999995, 5.96, 5.975, 5.984, 5.987, 5.995, 6.002999999999999, 6.122999999999999, 6.13, 6.167999999999999, 6.269, 6.295, 6.297999999999999, 6.3020000000000005, 6.329, 6.4110000000000005, 6.455, 6.477, 6.485, 6.505, 6.574, 6.575, 6.611000000000001, 6.67, 6.75, 6.7860000000000005, 6.797999999999999, 6.81, 6.853, 6.867000000000001, 6.901, 6.937, 6.94, 6.946000000000001, 6.983, 7.119, 7.187, 7.2, 7.226, 7.278, 7.284, 7.2860000000000005, 7.364, 7.377999999999999, 7.406000000000001, 7.4270000000000005, 7.522, 7.527, 7.561, 7.587000000000001], \"xaxis\": \"x\", \"y\": [0.14865574027661288, 0.16680260712523576, 0.19457281245418923, 0.2864069568093418, 0.32077602281052164, 0.35102080089156007, 0.3543202312276732, 0.373017003132315, 0.3732919556603247, 0.37631643346842836, 0.37934091127653224, 0.38016576886056064, 0.4076610216615044, 0.4181092177258632, 0.4252579834541086, 0.43928056238258995, 0.44148018260666544, 0.4489039008629203, 0.4557777140631565, 0.4648511474874677, 0.4665008626555245, 0.47694905871988325, 0.48904696995229835, 0.5212164157294028, 0.5278152764016293, 0.5371636623539502, 0.5423877603861296, 0.5481617634743277, 0.549536526114375, 0.5522860513944692, 0.5591598645947053, 0.564109010098875, 0.5693331081310544, 0.5830807345315265, 0.587754927507687, 0.6072765569963572, 0.6086513196364043, 0.609201224692423, 0.6100260822764514, 0.6103010348044609, 0.619099515700763, 0.6232238036209048, 0.6248735187889614, 0.6355966673813296, 0.6419205755255466, 0.6443951482776313, 0.6540184867579617, 0.6551182968699996, 0.6564930595100467, 0.6586926797341222, 0.6644666828223205, 0.671065543494547, 0.6839883123109909, 0.6845382173670096, 0.6878376477031227, 0.6985607962954907, 0.7035099417996609, 0.7062594670797553, 0.7081841347758213, 0.7087340398318402, 0.711208612583925, 0.7147829954480478, 0.7288055743765292, 0.7315550996566236, 0.7348545299927369, 0.7447528210010765, 0.7464025361691333, 0.7585004474015484, 0.7628996878496999, 0.7697735010499356, 0.7708733111619734, 0.7766473142501715, 0.776922266778181, 0.7782970294182281, 0.781321507226332, 0.795619038682823, 0.795619038682823, 0.7961689437388417, 0.8011180892430119, 0.8123911428913986, 0.8165154308115403, 0.8214645763157102, 0.8341123926041445, 0.8418110633884088, 0.8525342119807768, 0.8607827878210599, 0.8731556515814847, 0.8739805091655131, 0.893502138654183, 0.90477519230257, 0.9091744327507214, 0.9322704451035142, 0.9339201602715708, 0.9377694956637028, 0.9396941633597691, 0.9501423594241276, 0.9515171220641747, 0.9545415998722786, 0.9603156029604769, 0.9663645585766845, 0.9693890363847883, 0.970488846496826, 0.9718636091368731, 0.9759878970570148, 0.9779125647530811, 0.9842364728972979, 0.9872609507054018, 0.9875359032334112, 1.0034831498579586, 1.0067825801940722, 1.0109068681142135, 1.0133814408662987, 1.014206298450327, 1.0164059186744026, 1.0186055388984778, 1.0515998422596105, 1.0535245099556767, 1.0639727060200352, 1.0917429113489887, 1.0988916770772341, 1.0997165346612623, 1.1008163447733004, 1.108240063029555, 1.1307861703263293, 1.1428840815587444, 1.1489330371749522, 1.1511326573990277, 1.1566317079592163, 1.1756034323918676, 1.175878384919877, 1.1857766759282171, 1.2019988750807737, 1.223995077321529, 1.233893368329869, 1.2371927986659819, 1.2404922290020952, 1.252315187706501, 1.2561645230986336, 1.2655129090509543, 1.275411200059294, 1.2762360576433225, 1.277885772811379, 1.2880590163477281, 1.325452560157012, 1.3441493320616538, 1.3477237149257766, 1.354872480654022, 1.3691700121105126, 1.3708197272785694, 1.3713696323345883, 1.3928159295193243, 1.3966652649114564, 1.404363935695721, 1.4101379387839192, 1.4362584289448161, 1.437633191584863, 1.446981577537184, 1.4541303432654296], \"yaxis\": \"y\"}],\n",
       "                        {\"legend\": {\"tracegroupgap\": 0}, \"margin\": {\"t\": 60}, \"template\": {\"data\": {\"bar\": [{\"error_x\": {\"color\": \"#2a3f5f\"}, \"error_y\": {\"color\": \"#2a3f5f\"}, \"marker\": {\"line\": {\"color\": \"#E5ECF6\", \"width\": 0.5}}, \"type\": \"bar\"}], \"barpolar\": [{\"marker\": {\"line\": {\"color\": \"#E5ECF6\", \"width\": 0.5}}, \"type\": \"barpolar\"}], \"carpet\": [{\"aaxis\": {\"endlinecolor\": \"#2a3f5f\", \"gridcolor\": \"white\", \"linecolor\": \"white\", \"minorgridcolor\": \"white\", \"startlinecolor\": \"#2a3f5f\"}, \"baxis\": {\"endlinecolor\": \"#2a3f5f\", \"gridcolor\": \"white\", \"linecolor\": \"white\", \"minorgridcolor\": \"white\", \"startlinecolor\": \"#2a3f5f\"}, \"type\": \"carpet\"}], \"choropleth\": [{\"colorbar\": {\"outlinewidth\": 0, \"ticks\": \"\"}, \"type\": \"choropleth\"}], \"contour\": [{\"colorbar\": {\"outlinewidth\": 0, \"ticks\": \"\"}, \"colorscale\": [[0.0, \"#0d0887\"], [0.1111111111111111, \"#46039f\"], [0.2222222222222222, \"#7201a8\"], [0.3333333333333333, \"#9c179e\"], [0.4444444444444444, \"#bd3786\"], [0.5555555555555556, \"#d8576b\"], [0.6666666666666666, \"#ed7953\"], [0.7777777777777778, \"#fb9f3a\"], [0.8888888888888888, \"#fdca26\"], [1.0, \"#f0f921\"]], \"type\": \"contour\"}], \"contourcarpet\": [{\"colorbar\": {\"outlinewidth\": 0, \"ticks\": \"\"}, \"type\": \"contourcarpet\"}], \"heatmap\": [{\"colorbar\": {\"outlinewidth\": 0, \"ticks\": \"\"}, \"colorscale\": [[0.0, \"#0d0887\"], [0.1111111111111111, \"#46039f\"], [0.2222222222222222, \"#7201a8\"], [0.3333333333333333, \"#9c179e\"], [0.4444444444444444, \"#bd3786\"], [0.5555555555555556, \"#d8576b\"], [0.6666666666666666, \"#ed7953\"], [0.7777777777777778, \"#fb9f3a\"], [0.8888888888888888, \"#fdca26\"], [1.0, \"#f0f921\"]], \"type\": \"heatmap\"}], \"heatmapgl\": [{\"colorbar\": {\"outlinewidth\": 0, \"ticks\": \"\"}, \"colorscale\": [[0.0, \"#0d0887\"], [0.1111111111111111, \"#46039f\"], [0.2222222222222222, \"#7201a8\"], [0.3333333333333333, \"#9c179e\"], [0.4444444444444444, \"#bd3786\"], [0.5555555555555556, \"#d8576b\"], [0.6666666666666666, \"#ed7953\"], [0.7777777777777778, \"#fb9f3a\"], [0.8888888888888888, \"#fdca26\"], [1.0, \"#f0f921\"]], \"type\": \"heatmapgl\"}], \"histogram\": [{\"marker\": {\"colorbar\": {\"outlinewidth\": 0, \"ticks\": \"\"}}, \"type\": \"histogram\"}], \"histogram2d\": [{\"colorbar\": {\"outlinewidth\": 0, \"ticks\": \"\"}, \"colorscale\": [[0.0, \"#0d0887\"], [0.1111111111111111, \"#46039f\"], [0.2222222222222222, \"#7201a8\"], [0.3333333333333333, \"#9c179e\"], [0.4444444444444444, \"#bd3786\"], [0.5555555555555556, \"#d8576b\"], [0.6666666666666666, \"#ed7953\"], [0.7777777777777778, \"#fb9f3a\"], [0.8888888888888888, \"#fdca26\"], [1.0, \"#f0f921\"]], \"type\": \"histogram2d\"}], \"histogram2dcontour\": [{\"colorbar\": {\"outlinewidth\": 0, \"ticks\": \"\"}, \"colorscale\": [[0.0, \"#0d0887\"], [0.1111111111111111, \"#46039f\"], [0.2222222222222222, \"#7201a8\"], [0.3333333333333333, \"#9c179e\"], [0.4444444444444444, \"#bd3786\"], [0.5555555555555556, \"#d8576b\"], [0.6666666666666666, \"#ed7953\"], [0.7777777777777778, \"#fb9f3a\"], [0.8888888888888888, \"#fdca26\"], [1.0, \"#f0f921\"]], \"type\": \"histogram2dcontour\"}], \"mesh3d\": [{\"colorbar\": {\"outlinewidth\": 0, \"ticks\": \"\"}, \"type\": \"mesh3d\"}], \"parcoords\": [{\"line\": {\"colorbar\": {\"outlinewidth\": 0, \"ticks\": \"\"}}, \"type\": \"parcoords\"}], \"pie\": [{\"automargin\": true, \"type\": \"pie\"}], \"scatter\": [{\"marker\": {\"colorbar\": {\"outlinewidth\": 0, \"ticks\": \"\"}}, \"type\": \"scatter\"}], \"scatter3d\": [{\"line\": {\"colorbar\": {\"outlinewidth\": 0, \"ticks\": \"\"}}, \"marker\": {\"colorbar\": {\"outlinewidth\": 0, \"ticks\": \"\"}}, \"type\": \"scatter3d\"}], \"scattercarpet\": [{\"marker\": {\"colorbar\": {\"outlinewidth\": 0, \"ticks\": \"\"}}, \"type\": \"scattercarpet\"}], \"scattergeo\": [{\"marker\": {\"colorbar\": {\"outlinewidth\": 0, \"ticks\": \"\"}}, \"type\": \"scattergeo\"}], \"scattergl\": [{\"marker\": {\"colorbar\": {\"outlinewidth\": 0, \"ticks\": \"\"}}, \"type\": \"scattergl\"}], \"scattermapbox\": [{\"marker\": {\"colorbar\": {\"outlinewidth\": 0, \"ticks\": \"\"}}, \"type\": \"scattermapbox\"}], \"scatterpolar\": [{\"marker\": {\"colorbar\": {\"outlinewidth\": 0, \"ticks\": \"\"}}, \"type\": \"scatterpolar\"}], \"scatterpolargl\": [{\"marker\": {\"colorbar\": {\"outlinewidth\": 0, \"ticks\": \"\"}}, \"type\": \"scatterpolargl\"}], \"scatterternary\": [{\"marker\": {\"colorbar\": {\"outlinewidth\": 0, \"ticks\": \"\"}}, \"type\": \"scatterternary\"}], \"surface\": [{\"colorbar\": {\"outlinewidth\": 0, \"ticks\": \"\"}, \"colorscale\": [[0.0, \"#0d0887\"], [0.1111111111111111, \"#46039f\"], [0.2222222222222222, \"#7201a8\"], [0.3333333333333333, \"#9c179e\"], [0.4444444444444444, \"#bd3786\"], [0.5555555555555556, \"#d8576b\"], [0.6666666666666666, \"#ed7953\"], [0.7777777777777778, \"#fb9f3a\"], [0.8888888888888888, \"#fdca26\"], [1.0, \"#f0f921\"]], \"type\": \"surface\"}], \"table\": [{\"cells\": {\"fill\": {\"color\": \"#EBF0F8\"}, \"line\": {\"color\": \"white\"}}, \"header\": {\"fill\": {\"color\": \"#C8D4E3\"}, \"line\": {\"color\": \"white\"}}, \"type\": \"table\"}]}, \"layout\": {\"annotationdefaults\": {\"arrowcolor\": \"#2a3f5f\", \"arrowhead\": 0, \"arrowwidth\": 1}, \"coloraxis\": {\"colorbar\": {\"outlinewidth\": 0, \"ticks\": \"\"}}, \"colorscale\": {\"diverging\": [[0, \"#8e0152\"], [0.1, \"#c51b7d\"], [0.2, \"#de77ae\"], [0.3, \"#f1b6da\"], [0.4, \"#fde0ef\"], [0.5, \"#f7f7f7\"], [0.6, \"#e6f5d0\"], [0.7, \"#b8e186\"], [0.8, \"#7fbc41\"], [0.9, \"#4d9221\"], [1, \"#276419\"]], \"sequential\": [[0.0, \"#0d0887\"], [0.1111111111111111, \"#46039f\"], [0.2222222222222222, \"#7201a8\"], [0.3333333333333333, \"#9c179e\"], [0.4444444444444444, \"#bd3786\"], [0.5555555555555556, \"#d8576b\"], [0.6666666666666666, \"#ed7953\"], [0.7777777777777778, \"#fb9f3a\"], [0.8888888888888888, \"#fdca26\"], [1.0, \"#f0f921\"]], \"sequentialminus\": [[0.0, \"#0d0887\"], [0.1111111111111111, \"#46039f\"], [0.2222222222222222, \"#7201a8\"], [0.3333333333333333, \"#9c179e\"], [0.4444444444444444, \"#bd3786\"], [0.5555555555555556, \"#d8576b\"], [0.6666666666666666, \"#ed7953\"], [0.7777777777777778, \"#fb9f3a\"], [0.8888888888888888, \"#fdca26\"], [1.0, \"#f0f921\"]]}, \"colorway\": [\"#636efa\", \"#EF553B\", \"#00cc96\", \"#ab63fa\", \"#FFA15A\", \"#19d3f3\", \"#FF6692\", \"#B6E880\", \"#FF97FF\", \"#FECB52\"], \"font\": {\"color\": \"#2a3f5f\"}, \"geo\": {\"bgcolor\": \"white\", \"lakecolor\": \"white\", \"landcolor\": \"#E5ECF6\", \"showlakes\": true, \"showland\": true, \"subunitcolor\": \"white\"}, \"hoverlabel\": {\"align\": \"left\"}, \"hovermode\": \"closest\", \"mapbox\": {\"style\": \"light\"}, \"paper_bgcolor\": \"white\", \"plot_bgcolor\": \"#E5ECF6\", \"polar\": {\"angularaxis\": {\"gridcolor\": \"white\", \"linecolor\": \"white\", \"ticks\": \"\"}, \"bgcolor\": \"#E5ECF6\", \"radialaxis\": {\"gridcolor\": \"white\", \"linecolor\": \"white\", \"ticks\": \"\"}}, \"scene\": {\"xaxis\": {\"backgroundcolor\": \"#E5ECF6\", \"gridcolor\": \"white\", \"gridwidth\": 2, \"linecolor\": \"white\", \"showbackground\": true, \"ticks\": \"\", \"zerolinecolor\": \"white\"}, \"yaxis\": {\"backgroundcolor\": \"#E5ECF6\", \"gridcolor\": \"white\", \"gridwidth\": 2, \"linecolor\": \"white\", \"showbackground\": true, \"ticks\": \"\", \"zerolinecolor\": \"white\"}, \"zaxis\": {\"backgroundcolor\": \"#E5ECF6\", \"gridcolor\": \"white\", \"gridwidth\": 2, \"linecolor\": \"white\", \"showbackground\": true, \"ticks\": \"\", \"zerolinecolor\": \"white\"}}, \"shapedefaults\": {\"line\": {\"color\": \"#2a3f5f\"}}, \"ternary\": {\"aaxis\": {\"gridcolor\": \"white\", \"linecolor\": \"white\", \"ticks\": \"\"}, \"baxis\": {\"gridcolor\": \"white\", \"linecolor\": \"white\", \"ticks\": \"\"}, \"bgcolor\": \"#E5ECF6\", \"caxis\": {\"gridcolor\": \"white\", \"linecolor\": \"white\", \"ticks\": \"\"}}, \"title\": {\"x\": 0.05}, \"xaxis\": {\"automargin\": true, \"gridcolor\": \"white\", \"linecolor\": \"white\", \"ticks\": \"\", \"title\": {\"standoff\": 15}, \"zerolinecolor\": \"white\", \"zerolinewidth\": 2}, \"yaxis\": {\"automargin\": true, \"gridcolor\": \"white\", \"linecolor\": \"white\", \"ticks\": \"\", \"title\": {\"standoff\": 15}, \"zerolinecolor\": \"white\", \"zerolinewidth\": 2}}}, \"xaxis\": {\"anchor\": \"y\", \"domain\": [0.0, 1.0], \"title\": {\"text\": \"Happiness Score\"}}, \"yaxis\": {\"anchor\": \"x\", \"domain\": [0.0, 1.0], \"title\": {\"text\": \"Economy (GDP per Capita)\"}}},\n",
       "                        {\"responsive\": true}\n",
       "                    ).then(function(){\n",
       "                            \n",
       "var gd = document.getElementById('b6e37b7f-85c5-4bfa-b34c-141edad356ec');\n",
       "var x = new MutationObserver(function (mutations, observer) {{\n",
       "        var display = window.getComputedStyle(gd).display;\n",
       "        if (!display || display === 'none') {{\n",
       "            console.log([gd, 'removed!']);\n",
       "            Plotly.purge(gd);\n",
       "            observer.disconnect();\n",
       "        }}\n",
       "}});\n",
       "\n",
       "// Listen for the removal of the full notebook cells\n",
       "var notebookContainer = gd.closest('#notebook-container');\n",
       "if (notebookContainer) {{\n",
       "    x.observe(notebookContainer, {childList: true});\n",
       "}}\n",
       "\n",
       "// Listen for the clearing of the current output cell\n",
       "var outputEl = gd.closest('.output');\n",
       "if (outputEl) {{\n",
       "    x.observe(outputEl, {childList: true});\n",
       "}}\n",
       "\n",
       "                        })\n",
       "                };\n",
       "                });\n",
       "            </script>\n",
       "        </div>"
      ]
     },
     "metadata": {},
     "output_type": "display_data"
    },
    {
     "data": {
      "application/vnd.plotly.v1+json": {
       "config": {
        "plotlyServerURL": "https://plot.ly"
       },
       "data": [
        {
         "hovertemplate": "Happiness Score=%{x}<br>Family=%{y}<extra></extra>",
         "legendgroup": "",
         "marker": {
          "color": "#636efa",
          "symbol": "circle"
         },
         "mode": "markers",
         "name": "",
         "orientation": "v",
         "showlegend": false,
         "type": "scatter",
         "x": [
          7.587000000000001,
          7.561,
          7.527,
          7.522,
          7.4270000000000005,
          7.406000000000001,
          7.377999999999999,
          7.364,
          7.2860000000000005,
          7.284,
          7.278,
          7.226,
          7.2,
          7.187,
          7.119,
          6.983,
          6.946000000000001,
          6.94,
          6.937,
          6.901,
          6.867000000000001,
          6.853,
          6.81,
          6.797999999999999,
          6.7860000000000005,
          6.75,
          6.67,
          6.611000000000001,
          6.575,
          6.574,
          6.505,
          6.485,
          6.477,
          6.455,
          6.4110000000000005,
          6.329,
          6.3020000000000005,
          6.297999999999999,
          6.295,
          6.269,
          6.167999999999999,
          6.13,
          6.122999999999999,
          6.002999999999999,
          5.995,
          5.987,
          5.984,
          5.975,
          5.96,
          5.9479999999999995,
          5.89,
          5.888999999999999,
          5.877999999999999,
          5.855,
          5.848,
          5.832999999999999,
          5.827999999999999,
          5.824,
          5.813,
          5.791,
          5.77,
          5.7589999999999995,
          5.754,
          5.716,
          5.709,
          5.695,
          5.689,
          5.605,
          5.5889999999999995,
          5.547999999999999,
          5.477,
          5.474,
          5.428999999999999,
          5.399,
          5.36,
          5.332000000000001,
          5.2860000000000005,
          5.268,
          5.252999999999999,
          5.212000000000001,
          5.194,
          5.192,
          5.192,
          5.14,
          5.129,
          5.124,
          5.122999999999999,
          5.102,
          5.098,
          5.073,
          5.0569999999999995,
          5.013,
          5.007,
          4.971,
          4.959,
          4.949,
          4.898,
          4.885,
          4.876,
          4.874,
          4.867,
          4.857,
          4.8389999999999995,
          4.8,
          4.788,
          4.7860000000000005,
          4.739,
          4.715,
          4.694,
          4.686,
          4.681,
          4.677,
          4.6419999999999995,
          4.633,
          4.61,
          4.571000000000001,
          4.565,
          4.55,
          4.518,
          4.5169999999999995,
          4.513999999999999,
          4.512,
          4.507,
          4.436,
          4.419,
          4.369,
          4.35,
          4.332,
          4.3069999999999995,
          4.297,
          4.292,
          4.271,
          4.252,
          4.218,
          4.194,
          4.077,
          4.033,
          3.995,
          3.989,
          3.9560000000000004,
          3.931,
          3.904,
          3.8960000000000004,
          3.845,
          3.819,
          3.781,
          3.681,
          3.678,
          3.667,
          3.656,
          3.655,
          3.5869999999999997,
          3.575,
          3.465,
          3.34,
          3.0060000000000002,
          2.905,
          2.839
         ],
         "xaxis": "x",
         "y": [
          1.34951,
          1.4022299999999999,
          1.36058,
          1.33095,
          1.32261,
          1.31826,
          1.28017,
          1.2890700000000002,
          1.3196700000000001,
          1.30923,
          1.22393,
          1.2378799999999999,
          1.29704,
          0.91451,
          1.24711,
          1.2328700000000001,
          1.21963,
          1.36948,
          1.28566,
          1.12575,
          1.28548,
          1.08182,
          1.25596,
          1.02,
          1.1985,
          1.2993700000000001,
          1.12447,
          1.0786,
          1.2603799999999998,
          1.24823,
          1.20643,
          1.2089,
          1.2401799999999998,
          1.26504,
          1.0839299999999998,
          1.31379,
          1.30203,
          1.07617,
          1.16594,
          0.972,
          1.18354,
          1.0250700000000001,
          1.04356,
          1.34043,
          1.26999,
          1.25712,
          0.9577399999999999,
          0.99903,
          1.21624,
          1.19777,
          0.97841,
          1.01528,
          1.30477,
          1.1224100000000001,
          1.27385,
          1.25745,
          1.14184,
          0.97459,
          1.23289,
          1.27948,
          1.07023,
          0.79624,
          1.1186200000000002,
          1.23617,
          1.1510200000000002,
          1.07008,
          0.89318,
          1.07772,
          0.81198,
          1.22668,
          0.98521,
          1.05818,
          1.22791,
          1.0870799999999998,
          0.9122600000000001,
          0.94632,
          1.15115,
          0.9043200000000001,
          1.10395,
          0.9379299999999999,
          0.41411000000000003,
          1.05392,
          0.9055700000000001,
          0.94675,
          0.91612,
          0.8858799999999999,
          1.0096399999999999,
          1.13935,
          1.09562,
          1.03516,
          0.95152,
          0.64095,
          1.00232,
          1.02626,
          0.8043399999999999,
          0.9191600000000001,
          1.04103,
          1.17202,
          0.73803,
          1.3006,
          1.07284,
          0.9293299999999999,
          0.80001,
          1.20215,
          0.9534799999999999,
          0.8556299999999999,
          0.60429,
          0.92558,
          0.43106000000000005,
          0.54447,
          1.20278,
          0.81889,
          1.18468,
          0.6795399999999999,
          1.0327600000000001,
          0.78968,
          0.38174,
          1.01404,
          0.74302,
          1.0012,
          0.86449,
          0.60406,
          0.9557100000000001,
          0.86908,
          0.99876,
          0.59207,
          0.7771100000000001,
          1.10464,
          0.70905,
          0.38561999999999996,
          0.41134,
          1.01905,
          0.8876700000000001,
          1.10614,
          0.747,
          0.68093,
          0.8604,
          1.03526,
          0.6629,
          0.79273,
          1.13299,
          0.97619,
          0.90528,
          0.77265,
          0.62736,
          1.00268,
          0.66801,
          0,
          0.76062,
          0.46475,
          0.77115,
          0.85188,
          0.30285,
          0.7737,
          0.35386,
          0.47489,
          0.41586999999999996,
          0.13995
         ],
         "yaxis": "y"
        },
        {
         "hovertemplate": "<b>OLS trendline</b><br>Family = 0.176171 * Happiness Score + 0.0439957<br>R<sup>2</sup>=0.548496<br><br>Happiness Score=%{x}<br>Family=%{y} <b>(trend)</b><extra></extra>",
         "legendgroup": "",
         "marker": {
          "color": "#636efa",
          "symbol": "circle"
         },
         "mode": "lines",
         "name": "",
         "showlegend": false,
         "type": "scatter",
         "x": [
          2.839,
          2.905,
          3.0060000000000002,
          3.34,
          3.465,
          3.575,
          3.5869999999999997,
          3.655,
          3.656,
          3.667,
          3.678,
          3.681,
          3.781,
          3.819,
          3.845,
          3.8960000000000004,
          3.904,
          3.931,
          3.9560000000000004,
          3.989,
          3.995,
          4.033,
          4.077,
          4.194,
          4.218,
          4.252,
          4.271,
          4.292,
          4.297,
          4.3069999999999995,
          4.332,
          4.35,
          4.369,
          4.419,
          4.436,
          4.507,
          4.512,
          4.513999999999999,
          4.5169999999999995,
          4.518,
          4.55,
          4.565,
          4.571000000000001,
          4.61,
          4.633,
          4.6419999999999995,
          4.677,
          4.681,
          4.686,
          4.694,
          4.715,
          4.739,
          4.7860000000000005,
          4.788,
          4.8,
          4.8389999999999995,
          4.857,
          4.867,
          4.874,
          4.876,
          4.885,
          4.898,
          4.949,
          4.959,
          4.971,
          5.007,
          5.013,
          5.0569999999999995,
          5.073,
          5.098,
          5.102,
          5.122999999999999,
          5.124,
          5.129,
          5.14,
          5.192,
          5.192,
          5.194,
          5.212000000000001,
          5.252999999999999,
          5.268,
          5.2860000000000005,
          5.332000000000001,
          5.36,
          5.399,
          5.428999999999999,
          5.474,
          5.477,
          5.547999999999999,
          5.5889999999999995,
          5.605,
          5.689,
          5.695,
          5.709,
          5.716,
          5.754,
          5.7589999999999995,
          5.77,
          5.791,
          5.813,
          5.824,
          5.827999999999999,
          5.832999999999999,
          5.848,
          5.855,
          5.877999999999999,
          5.888999999999999,
          5.89,
          5.9479999999999995,
          5.96,
          5.975,
          5.984,
          5.987,
          5.995,
          6.002999999999999,
          6.122999999999999,
          6.13,
          6.167999999999999,
          6.269,
          6.295,
          6.297999999999999,
          6.3020000000000005,
          6.329,
          6.4110000000000005,
          6.455,
          6.477,
          6.485,
          6.505,
          6.574,
          6.575,
          6.611000000000001,
          6.67,
          6.75,
          6.7860000000000005,
          6.797999999999999,
          6.81,
          6.853,
          6.867000000000001,
          6.901,
          6.937,
          6.94,
          6.946000000000001,
          6.983,
          7.119,
          7.187,
          7.2,
          7.226,
          7.278,
          7.284,
          7.2860000000000005,
          7.364,
          7.377999999999999,
          7.406000000000001,
          7.4270000000000005,
          7.522,
          7.527,
          7.561,
          7.587000000000001
         ],
         "xaxis": "x",
         "y": [
          0.544146110357209,
          0.5557734182712891,
          0.5735667228064727,
          0.632407947705,
          0.6544293642089398,
          0.673808210732407,
          0.6759222667167851,
          0.6879019172949284,
          0.6880780886269601,
          0.6900159732793067,
          0.6919538579316534,
          0.692482371927748,
          0.7100995051308999,
          0.7167940157480976,
          0.7213744703809172,
          0.7303592083145247,
          0.7317685789707767,
          0.7365252049356278,
          0.7409294882364158,
          0.7467431421934559,
          0.747800170185645,
          0.7544946808028428,
          0.7622462194122296,
          0.7828582652599173,
          0.7870863772286738,
          0.7930762025177454,
          0.7964234578263443,
          0.8001230557990062,
          0.8010039124591638,
          0.8027656257794789,
          0.807169909080267,
          0.8103409930568343,
          0.8136882483654332,
          0.8224968149670091,
          0.825491727611545,
          0.8379998921857827,
          0.8388807488459403,
          0.8392330915100034,
          0.8397616055060979,
          0.8399377768381295,
          0.8455752594631382,
          0.848217829443611,
          0.8492748574358001,
          0.8561455393850294,
          0.8601974800217542,
          0.8617830220100378,
          0.867949018631141,
          0.8686537039592671,
          0.8695345606194247,
          0.8709439312756769,
          0.8746435292483388,
          0.8788716412170953,
          0.8871516938225767,
          0.8875040364866398,
          0.8896180924710179,
          0.8964887744202471,
          0.8996598583968145,
          0.9014215717171297,
          0.9026547710413503,
          0.9030071137054134,
          0.9045926556936971,
          0.9068828830101068,
          0.9158676209437142,
          0.9176293342640294,
          0.9197433902484077,
          0.9260855582015424,
          0.9271425861937315,
          0.9348941248031183,
          0.9377128661156228,
          0.9421171494164106,
          0.9428218347445367,
          0.9465214327171985,
          0.9466976040492301,
          0.9475784607093877,
          0.9495163453617343,
          0.9586772546273734,
          0.9586772546273734,
          0.9590295972914364,
          0.962200681268004,
          0.969423705881296,
          0.9720662758617689,
          0.9752373598383363,
          0.9833412411117862,
          0.9882740384086687,
          0.9951447203578979,
          1.0004298603188433,
          1.0083575702602618,
          1.0088860842563563,
          1.021394248830594,
          1.0286172734438863,
          1.0314360147563908,
          1.0462344066470384,
          1.0472914346392277,
          1.0497578332876687,
          1.0509910326118894,
          1.057685543229087,
          1.0585663998892447,
          1.0605042845415915,
          1.0642038825142535,
          1.0680796518189468,
          1.0700175364712934,
          1.0707222217994194,
          1.0716030784595771,
          1.07424564844005,
          1.0754788477642707,
          1.0795307884009955,
          1.081468673053342,
          1.0816448443853737,
          1.0918627816432018,
          1.09397683762758,
          1.0966194076080529,
          1.0982049495963366,
          1.098733463592431,
          1.1001428342486834,
          1.1015522049049353,
          1.1226927647487177,
          1.1239259640729384,
          1.130620474690136,
          1.1484137792253195,
          1.152994233858139,
          1.1535227478542334,
          1.1542274331823597,
          1.1589840591472107,
          1.1734301083737952,
          1.1811816469831822,
          1.1850574162878755,
          1.1864667869441277,
          1.189990213584758,
          1.202146035494933,
          1.2023222068269643,
          1.2086643747800991,
          1.2190584833699587,
          1.2331521899324802,
          1.239494357885615,
          1.241608413869993,
          1.2437224698543714,
          1.2512978371317267,
          1.2537642357801682,
          1.2597540610692397,
          1.2660962290223743,
          1.266624743018469,
          1.267681771010658,
          1.274200110295824,
          1.2981594114521107,
          1.3101390620302542,
          1.3124292893466638,
          1.3170097439794834,
          1.3261706532451223,
          1.3272276812373114,
          1.3275800239013746,
          1.341321387799833,
          1.3437877864482741,
          1.3487205837451568,
          1.3524201817178187,
          1.3691564582608131,
          1.3700373149209706,
          1.3760271402100424,
          1.3806075948428618
         ],
         "yaxis": "y"
        }
       ],
       "layout": {
        "legend": {
         "tracegroupgap": 0
        },
        "margin": {
         "t": 60
        },
        "template": {
         "data": {
          "bar": [
           {
            "error_x": {
             "color": "#2a3f5f"
            },
            "error_y": {
             "color": "#2a3f5f"
            },
            "marker": {
             "line": {
              "color": "#E5ECF6",
              "width": 0.5
             }
            },
            "type": "bar"
           }
          ],
          "barpolar": [
           {
            "marker": {
             "line": {
              "color": "#E5ECF6",
              "width": 0.5
             }
            },
            "type": "barpolar"
           }
          ],
          "carpet": [
           {
            "aaxis": {
             "endlinecolor": "#2a3f5f",
             "gridcolor": "white",
             "linecolor": "white",
             "minorgridcolor": "white",
             "startlinecolor": "#2a3f5f"
            },
            "baxis": {
             "endlinecolor": "#2a3f5f",
             "gridcolor": "white",
             "linecolor": "white",
             "minorgridcolor": "white",
             "startlinecolor": "#2a3f5f"
            },
            "type": "carpet"
           }
          ],
          "choropleth": [
           {
            "colorbar": {
             "outlinewidth": 0,
             "ticks": ""
            },
            "type": "choropleth"
           }
          ],
          "contour": [
           {
            "colorbar": {
             "outlinewidth": 0,
             "ticks": ""
            },
            "colorscale": [
             [
              0,
              "#0d0887"
             ],
             [
              0.1111111111111111,
              "#46039f"
             ],
             [
              0.2222222222222222,
              "#7201a8"
             ],
             [
              0.3333333333333333,
              "#9c179e"
             ],
             [
              0.4444444444444444,
              "#bd3786"
             ],
             [
              0.5555555555555556,
              "#d8576b"
             ],
             [
              0.6666666666666666,
              "#ed7953"
             ],
             [
              0.7777777777777778,
              "#fb9f3a"
             ],
             [
              0.8888888888888888,
              "#fdca26"
             ],
             [
              1,
              "#f0f921"
             ]
            ],
            "type": "contour"
           }
          ],
          "contourcarpet": [
           {
            "colorbar": {
             "outlinewidth": 0,
             "ticks": ""
            },
            "type": "contourcarpet"
           }
          ],
          "heatmap": [
           {
            "colorbar": {
             "outlinewidth": 0,
             "ticks": ""
            },
            "colorscale": [
             [
              0,
              "#0d0887"
             ],
             [
              0.1111111111111111,
              "#46039f"
             ],
             [
              0.2222222222222222,
              "#7201a8"
             ],
             [
              0.3333333333333333,
              "#9c179e"
             ],
             [
              0.4444444444444444,
              "#bd3786"
             ],
             [
              0.5555555555555556,
              "#d8576b"
             ],
             [
              0.6666666666666666,
              "#ed7953"
             ],
             [
              0.7777777777777778,
              "#fb9f3a"
             ],
             [
              0.8888888888888888,
              "#fdca26"
             ],
             [
              1,
              "#f0f921"
             ]
            ],
            "type": "heatmap"
           }
          ],
          "heatmapgl": [
           {
            "colorbar": {
             "outlinewidth": 0,
             "ticks": ""
            },
            "colorscale": [
             [
              0,
              "#0d0887"
             ],
             [
              0.1111111111111111,
              "#46039f"
             ],
             [
              0.2222222222222222,
              "#7201a8"
             ],
             [
              0.3333333333333333,
              "#9c179e"
             ],
             [
              0.4444444444444444,
              "#bd3786"
             ],
             [
              0.5555555555555556,
              "#d8576b"
             ],
             [
              0.6666666666666666,
              "#ed7953"
             ],
             [
              0.7777777777777778,
              "#fb9f3a"
             ],
             [
              0.8888888888888888,
              "#fdca26"
             ],
             [
              1,
              "#f0f921"
             ]
            ],
            "type": "heatmapgl"
           }
          ],
          "histogram": [
           {
            "marker": {
             "colorbar": {
              "outlinewidth": 0,
              "ticks": ""
             }
            },
            "type": "histogram"
           }
          ],
          "histogram2d": [
           {
            "colorbar": {
             "outlinewidth": 0,
             "ticks": ""
            },
            "colorscale": [
             [
              0,
              "#0d0887"
             ],
             [
              0.1111111111111111,
              "#46039f"
             ],
             [
              0.2222222222222222,
              "#7201a8"
             ],
             [
              0.3333333333333333,
              "#9c179e"
             ],
             [
              0.4444444444444444,
              "#bd3786"
             ],
             [
              0.5555555555555556,
              "#d8576b"
             ],
             [
              0.6666666666666666,
              "#ed7953"
             ],
             [
              0.7777777777777778,
              "#fb9f3a"
             ],
             [
              0.8888888888888888,
              "#fdca26"
             ],
             [
              1,
              "#f0f921"
             ]
            ],
            "type": "histogram2d"
           }
          ],
          "histogram2dcontour": [
           {
            "colorbar": {
             "outlinewidth": 0,
             "ticks": ""
            },
            "colorscale": [
             [
              0,
              "#0d0887"
             ],
             [
              0.1111111111111111,
              "#46039f"
             ],
             [
              0.2222222222222222,
              "#7201a8"
             ],
             [
              0.3333333333333333,
              "#9c179e"
             ],
             [
              0.4444444444444444,
              "#bd3786"
             ],
             [
              0.5555555555555556,
              "#d8576b"
             ],
             [
              0.6666666666666666,
              "#ed7953"
             ],
             [
              0.7777777777777778,
              "#fb9f3a"
             ],
             [
              0.8888888888888888,
              "#fdca26"
             ],
             [
              1,
              "#f0f921"
             ]
            ],
            "type": "histogram2dcontour"
           }
          ],
          "mesh3d": [
           {
            "colorbar": {
             "outlinewidth": 0,
             "ticks": ""
            },
            "type": "mesh3d"
           }
          ],
          "parcoords": [
           {
            "line": {
             "colorbar": {
              "outlinewidth": 0,
              "ticks": ""
             }
            },
            "type": "parcoords"
           }
          ],
          "pie": [
           {
            "automargin": true,
            "type": "pie"
           }
          ],
          "scatter": [
           {
            "marker": {
             "colorbar": {
              "outlinewidth": 0,
              "ticks": ""
             }
            },
            "type": "scatter"
           }
          ],
          "scatter3d": [
           {
            "line": {
             "colorbar": {
              "outlinewidth": 0,
              "ticks": ""
             }
            },
            "marker": {
             "colorbar": {
              "outlinewidth": 0,
              "ticks": ""
             }
            },
            "type": "scatter3d"
           }
          ],
          "scattercarpet": [
           {
            "marker": {
             "colorbar": {
              "outlinewidth": 0,
              "ticks": ""
             }
            },
            "type": "scattercarpet"
           }
          ],
          "scattergeo": [
           {
            "marker": {
             "colorbar": {
              "outlinewidth": 0,
              "ticks": ""
             }
            },
            "type": "scattergeo"
           }
          ],
          "scattergl": [
           {
            "marker": {
             "colorbar": {
              "outlinewidth": 0,
              "ticks": ""
             }
            },
            "type": "scattergl"
           }
          ],
          "scattermapbox": [
           {
            "marker": {
             "colorbar": {
              "outlinewidth": 0,
              "ticks": ""
             }
            },
            "type": "scattermapbox"
           }
          ],
          "scatterpolar": [
           {
            "marker": {
             "colorbar": {
              "outlinewidth": 0,
              "ticks": ""
             }
            },
            "type": "scatterpolar"
           }
          ],
          "scatterpolargl": [
           {
            "marker": {
             "colorbar": {
              "outlinewidth": 0,
              "ticks": ""
             }
            },
            "type": "scatterpolargl"
           }
          ],
          "scatterternary": [
           {
            "marker": {
             "colorbar": {
              "outlinewidth": 0,
              "ticks": ""
             }
            },
            "type": "scatterternary"
           }
          ],
          "surface": [
           {
            "colorbar": {
             "outlinewidth": 0,
             "ticks": ""
            },
            "colorscale": [
             [
              0,
              "#0d0887"
             ],
             [
              0.1111111111111111,
              "#46039f"
             ],
             [
              0.2222222222222222,
              "#7201a8"
             ],
             [
              0.3333333333333333,
              "#9c179e"
             ],
             [
              0.4444444444444444,
              "#bd3786"
             ],
             [
              0.5555555555555556,
              "#d8576b"
             ],
             [
              0.6666666666666666,
              "#ed7953"
             ],
             [
              0.7777777777777778,
              "#fb9f3a"
             ],
             [
              0.8888888888888888,
              "#fdca26"
             ],
             [
              1,
              "#f0f921"
             ]
            ],
            "type": "surface"
           }
          ],
          "table": [
           {
            "cells": {
             "fill": {
              "color": "#EBF0F8"
             },
             "line": {
              "color": "white"
             }
            },
            "header": {
             "fill": {
              "color": "#C8D4E3"
             },
             "line": {
              "color": "white"
             }
            },
            "type": "table"
           }
          ]
         },
         "layout": {
          "annotationdefaults": {
           "arrowcolor": "#2a3f5f",
           "arrowhead": 0,
           "arrowwidth": 1
          },
          "coloraxis": {
           "colorbar": {
            "outlinewidth": 0,
            "ticks": ""
           }
          },
          "colorscale": {
           "diverging": [
            [
             0,
             "#8e0152"
            ],
            [
             0.1,
             "#c51b7d"
            ],
            [
             0.2,
             "#de77ae"
            ],
            [
             0.3,
             "#f1b6da"
            ],
            [
             0.4,
             "#fde0ef"
            ],
            [
             0.5,
             "#f7f7f7"
            ],
            [
             0.6,
             "#e6f5d0"
            ],
            [
             0.7,
             "#b8e186"
            ],
            [
             0.8,
             "#7fbc41"
            ],
            [
             0.9,
             "#4d9221"
            ],
            [
             1,
             "#276419"
            ]
           ],
           "sequential": [
            [
             0,
             "#0d0887"
            ],
            [
             0.1111111111111111,
             "#46039f"
            ],
            [
             0.2222222222222222,
             "#7201a8"
            ],
            [
             0.3333333333333333,
             "#9c179e"
            ],
            [
             0.4444444444444444,
             "#bd3786"
            ],
            [
             0.5555555555555556,
             "#d8576b"
            ],
            [
             0.6666666666666666,
             "#ed7953"
            ],
            [
             0.7777777777777778,
             "#fb9f3a"
            ],
            [
             0.8888888888888888,
             "#fdca26"
            ],
            [
             1,
             "#f0f921"
            ]
           ],
           "sequentialminus": [
            [
             0,
             "#0d0887"
            ],
            [
             0.1111111111111111,
             "#46039f"
            ],
            [
             0.2222222222222222,
             "#7201a8"
            ],
            [
             0.3333333333333333,
             "#9c179e"
            ],
            [
             0.4444444444444444,
             "#bd3786"
            ],
            [
             0.5555555555555556,
             "#d8576b"
            ],
            [
             0.6666666666666666,
             "#ed7953"
            ],
            [
             0.7777777777777778,
             "#fb9f3a"
            ],
            [
             0.8888888888888888,
             "#fdca26"
            ],
            [
             1,
             "#f0f921"
            ]
           ]
          },
          "colorway": [
           "#636efa",
           "#EF553B",
           "#00cc96",
           "#ab63fa",
           "#FFA15A",
           "#19d3f3",
           "#FF6692",
           "#B6E880",
           "#FF97FF",
           "#FECB52"
          ],
          "font": {
           "color": "#2a3f5f"
          },
          "geo": {
           "bgcolor": "white",
           "lakecolor": "white",
           "landcolor": "#E5ECF6",
           "showlakes": true,
           "showland": true,
           "subunitcolor": "white"
          },
          "hoverlabel": {
           "align": "left"
          },
          "hovermode": "closest",
          "mapbox": {
           "style": "light"
          },
          "paper_bgcolor": "white",
          "plot_bgcolor": "#E5ECF6",
          "polar": {
           "angularaxis": {
            "gridcolor": "white",
            "linecolor": "white",
            "ticks": ""
           },
           "bgcolor": "#E5ECF6",
           "radialaxis": {
            "gridcolor": "white",
            "linecolor": "white",
            "ticks": ""
           }
          },
          "scene": {
           "xaxis": {
            "backgroundcolor": "#E5ECF6",
            "gridcolor": "white",
            "gridwidth": 2,
            "linecolor": "white",
            "showbackground": true,
            "ticks": "",
            "zerolinecolor": "white"
           },
           "yaxis": {
            "backgroundcolor": "#E5ECF6",
            "gridcolor": "white",
            "gridwidth": 2,
            "linecolor": "white",
            "showbackground": true,
            "ticks": "",
            "zerolinecolor": "white"
           },
           "zaxis": {
            "backgroundcolor": "#E5ECF6",
            "gridcolor": "white",
            "gridwidth": 2,
            "linecolor": "white",
            "showbackground": true,
            "ticks": "",
            "zerolinecolor": "white"
           }
          },
          "shapedefaults": {
           "line": {
            "color": "#2a3f5f"
           }
          },
          "ternary": {
           "aaxis": {
            "gridcolor": "white",
            "linecolor": "white",
            "ticks": ""
           },
           "baxis": {
            "gridcolor": "white",
            "linecolor": "white",
            "ticks": ""
           },
           "bgcolor": "#E5ECF6",
           "caxis": {
            "gridcolor": "white",
            "linecolor": "white",
            "ticks": ""
           }
          },
          "title": {
           "x": 0.05
          },
          "xaxis": {
           "automargin": true,
           "gridcolor": "white",
           "linecolor": "white",
           "ticks": "",
           "title": {
            "standoff": 15
           },
           "zerolinecolor": "white",
           "zerolinewidth": 2
          },
          "yaxis": {
           "automargin": true,
           "gridcolor": "white",
           "linecolor": "white",
           "ticks": "",
           "title": {
            "standoff": 15
           },
           "zerolinecolor": "white",
           "zerolinewidth": 2
          }
         }
        },
        "xaxis": {
         "anchor": "y",
         "domain": [
          0,
          1
         ],
         "title": {
          "text": "Happiness Score"
         }
        },
        "yaxis": {
         "anchor": "x",
         "domain": [
          0,
          1
         ],
         "title": {
          "text": "Family"
         }
        }
       }
      },
      "text/html": [
       "<div>\n",
       "        \n",
       "        \n",
       "            <div id=\"cc740fc6-d0ec-440e-9bcc-a5e325b380e7\" class=\"plotly-graph-div\" style=\"height:525px; width:100%;\"></div>\n",
       "            <script type=\"text/javascript\">\n",
       "                require([\"plotly\"], function(Plotly) {\n",
       "                    window.PLOTLYENV=window.PLOTLYENV || {};\n",
       "                    \n",
       "                if (document.getElementById(\"cc740fc6-d0ec-440e-9bcc-a5e325b380e7\")) {\n",
       "                    Plotly.newPlot(\n",
       "                        'cc740fc6-d0ec-440e-9bcc-a5e325b380e7',\n",
       "                        [{\"hovertemplate\": \"Happiness Score=%{x}<br>Family=%{y}<extra></extra>\", \"legendgroup\": \"\", \"marker\": {\"color\": \"#636efa\", \"symbol\": \"circle\"}, \"mode\": \"markers\", \"name\": \"\", \"orientation\": \"v\", \"showlegend\": false, \"type\": \"scatter\", \"x\": [7.587000000000001, 7.561, 7.527, 7.522, 7.4270000000000005, 7.406000000000001, 7.377999999999999, 7.364, 7.2860000000000005, 7.284, 7.278, 7.226, 7.2, 7.187, 7.119, 6.983, 6.946000000000001, 6.94, 6.937, 6.901, 6.867000000000001, 6.853, 6.81, 6.797999999999999, 6.7860000000000005, 6.75, 6.67, 6.611000000000001, 6.575, 6.574, 6.505, 6.485, 6.477, 6.455, 6.4110000000000005, 6.329, 6.3020000000000005, 6.297999999999999, 6.295, 6.269, 6.167999999999999, 6.13, 6.122999999999999, 6.002999999999999, 5.995, 5.987, 5.984, 5.975, 5.96, 5.9479999999999995, 5.89, 5.888999999999999, 5.877999999999999, 5.855, 5.848, 5.832999999999999, 5.827999999999999, 5.824, 5.813, 5.791, 5.77, 5.7589999999999995, 5.754, 5.716, 5.709, 5.695, 5.689, 5.605, 5.5889999999999995, 5.547999999999999, 5.477, 5.474, 5.428999999999999, 5.399, 5.36, 5.332000000000001, 5.2860000000000005, 5.268, 5.252999999999999, 5.212000000000001, 5.194, 5.192, 5.192, 5.14, 5.129, 5.124, 5.122999999999999, 5.102, 5.098, 5.073, 5.0569999999999995, 5.013, 5.007, 4.971, 4.959, 4.949, 4.898, 4.885, 4.876, 4.874, 4.867, 4.857, 4.8389999999999995, 4.8, 4.788, 4.7860000000000005, 4.739, 4.715, 4.694, 4.686, 4.681, 4.677, 4.6419999999999995, 4.633, 4.61, 4.571000000000001, 4.565, 4.55, 4.518, 4.5169999999999995, 4.513999999999999, 4.512, 4.507, 4.436, 4.419, 4.369, 4.35, 4.332, 4.3069999999999995, 4.297, 4.292, 4.271, 4.252, 4.218, 4.194, 4.077, 4.033, 3.995, 3.989, 3.9560000000000004, 3.931, 3.904, 3.8960000000000004, 3.845, 3.819, 3.781, 3.681, 3.678, 3.667, 3.656, 3.655, 3.5869999999999997, 3.575, 3.465, 3.34, 3.0060000000000002, 2.905, 2.839], \"xaxis\": \"x\", \"y\": [1.34951, 1.4022299999999999, 1.36058, 1.33095, 1.32261, 1.31826, 1.28017, 1.2890700000000002, 1.3196700000000001, 1.30923, 1.22393, 1.2378799999999999, 1.29704, 0.91451, 1.24711, 1.2328700000000001, 1.21963, 1.36948, 1.28566, 1.12575, 1.28548, 1.08182, 1.25596, 1.02, 1.1985, 1.2993700000000001, 1.12447, 1.0786, 1.2603799999999998, 1.24823, 1.20643, 1.2089, 1.2401799999999998, 1.26504, 1.0839299999999998, 1.31379, 1.30203, 1.07617, 1.16594, 0.972, 1.18354, 1.0250700000000001, 1.04356, 1.34043, 1.26999, 1.25712, 0.9577399999999999, 0.99903, 1.21624, 1.19777, 0.97841, 1.01528, 1.30477, 1.1224100000000001, 1.27385, 1.25745, 1.14184, 0.97459, 1.23289, 1.27948, 1.07023, 0.79624, 1.1186200000000002, 1.23617, 1.1510200000000002, 1.07008, 0.89318, 1.07772, 0.81198, 1.22668, 0.98521, 1.05818, 1.22791, 1.0870799999999998, 0.9122600000000001, 0.94632, 1.15115, 0.9043200000000001, 1.10395, 0.9379299999999999, 0.41411000000000003, 1.05392, 0.9055700000000001, 0.94675, 0.91612, 0.8858799999999999, 1.0096399999999999, 1.13935, 1.09562, 1.03516, 0.95152, 0.64095, 1.00232, 1.02626, 0.8043399999999999, 0.9191600000000001, 1.04103, 1.17202, 0.73803, 1.3006, 1.07284, 0.9293299999999999, 0.80001, 1.20215, 0.9534799999999999, 0.8556299999999999, 0.60429, 0.92558, 0.43106000000000005, 0.54447, 1.20278, 0.81889, 1.18468, 0.6795399999999999, 1.0327600000000001, 0.78968, 0.38174, 1.01404, 0.74302, 1.0012, 0.86449, 0.60406, 0.9557100000000001, 0.86908, 0.99876, 0.59207, 0.7771100000000001, 1.10464, 0.70905, 0.38561999999999996, 0.41134, 1.01905, 0.8876700000000001, 1.10614, 0.747, 0.68093, 0.8604, 1.03526, 0.6629, 0.79273, 1.13299, 0.97619, 0.90528, 0.77265, 0.62736, 1.00268, 0.66801, 0.0, 0.76062, 0.46475, 0.77115, 0.85188, 0.30285, 0.7737, 0.35386, 0.47489, 0.41586999999999996, 0.13995], \"yaxis\": \"y\"}, {\"hovertemplate\": \"<b>OLS trendline</b><br>Family = 0.176171 * Happiness Score + 0.0439957<br>R<sup>2</sup>=0.548496<br><br>Happiness Score=%{x}<br>Family=%{y} <b>(trend)</b><extra></extra>\", \"legendgroup\": \"\", \"marker\": {\"color\": \"#636efa\", \"symbol\": \"circle\"}, \"mode\": \"lines\", \"name\": \"\", \"showlegend\": false, \"type\": \"scatter\", \"x\": [2.839, 2.905, 3.0060000000000002, 3.34, 3.465, 3.575, 3.5869999999999997, 3.655, 3.656, 3.667, 3.678, 3.681, 3.781, 3.819, 3.845, 3.8960000000000004, 3.904, 3.931, 3.9560000000000004, 3.989, 3.995, 4.033, 4.077, 4.194, 4.218, 4.252, 4.271, 4.292, 4.297, 4.3069999999999995, 4.332, 4.35, 4.369, 4.419, 4.436, 4.507, 4.512, 4.513999999999999, 4.5169999999999995, 4.518, 4.55, 4.565, 4.571000000000001, 4.61, 4.633, 4.6419999999999995, 4.677, 4.681, 4.686, 4.694, 4.715, 4.739, 4.7860000000000005, 4.788, 4.8, 4.8389999999999995, 4.857, 4.867, 4.874, 4.876, 4.885, 4.898, 4.949, 4.959, 4.971, 5.007, 5.013, 5.0569999999999995, 5.073, 5.098, 5.102, 5.122999999999999, 5.124, 5.129, 5.14, 5.192, 5.192, 5.194, 5.212000000000001, 5.252999999999999, 5.268, 5.2860000000000005, 5.332000000000001, 5.36, 5.399, 5.428999999999999, 5.474, 5.477, 5.547999999999999, 5.5889999999999995, 5.605, 5.689, 5.695, 5.709, 5.716, 5.754, 5.7589999999999995, 5.77, 5.791, 5.813, 5.824, 5.827999999999999, 5.832999999999999, 5.848, 5.855, 5.877999999999999, 5.888999999999999, 5.89, 5.9479999999999995, 5.96, 5.975, 5.984, 5.987, 5.995, 6.002999999999999, 6.122999999999999, 6.13, 6.167999999999999, 6.269, 6.295, 6.297999999999999, 6.3020000000000005, 6.329, 6.4110000000000005, 6.455, 6.477, 6.485, 6.505, 6.574, 6.575, 6.611000000000001, 6.67, 6.75, 6.7860000000000005, 6.797999999999999, 6.81, 6.853, 6.867000000000001, 6.901, 6.937, 6.94, 6.946000000000001, 6.983, 7.119, 7.187, 7.2, 7.226, 7.278, 7.284, 7.2860000000000005, 7.364, 7.377999999999999, 7.406000000000001, 7.4270000000000005, 7.522, 7.527, 7.561, 7.587000000000001], \"xaxis\": \"x\", \"y\": [0.544146110357209, 0.5557734182712891, 0.5735667228064727, 0.632407947705, 0.6544293642089398, 0.673808210732407, 0.6759222667167851, 0.6879019172949284, 0.6880780886269601, 0.6900159732793067, 0.6919538579316534, 0.692482371927748, 0.7100995051308999, 0.7167940157480976, 0.7213744703809172, 0.7303592083145247, 0.7317685789707767, 0.7365252049356278, 0.7409294882364158, 0.7467431421934559, 0.747800170185645, 0.7544946808028428, 0.7622462194122296, 0.7828582652599173, 0.7870863772286738, 0.7930762025177454, 0.7964234578263443, 0.8001230557990062, 0.8010039124591638, 0.8027656257794789, 0.807169909080267, 0.8103409930568343, 0.8136882483654332, 0.8224968149670091, 0.825491727611545, 0.8379998921857827, 0.8388807488459403, 0.8392330915100034, 0.8397616055060979, 0.8399377768381295, 0.8455752594631382, 0.848217829443611, 0.8492748574358001, 0.8561455393850294, 0.8601974800217542, 0.8617830220100378, 0.867949018631141, 0.8686537039592671, 0.8695345606194247, 0.8709439312756769, 0.8746435292483388, 0.8788716412170953, 0.8871516938225767, 0.8875040364866398, 0.8896180924710179, 0.8964887744202471, 0.8996598583968145, 0.9014215717171297, 0.9026547710413503, 0.9030071137054134, 0.9045926556936971, 0.9068828830101068, 0.9158676209437142, 0.9176293342640294, 0.9197433902484077, 0.9260855582015424, 0.9271425861937315, 0.9348941248031183, 0.9377128661156228, 0.9421171494164106, 0.9428218347445367, 0.9465214327171985, 0.9466976040492301, 0.9475784607093877, 0.9495163453617343, 0.9586772546273734, 0.9586772546273734, 0.9590295972914364, 0.962200681268004, 0.969423705881296, 0.9720662758617689, 0.9752373598383363, 0.9833412411117862, 0.9882740384086687, 0.9951447203578979, 1.0004298603188433, 1.0083575702602618, 1.0088860842563563, 1.021394248830594, 1.0286172734438863, 1.0314360147563908, 1.0462344066470384, 1.0472914346392277, 1.0497578332876687, 1.0509910326118894, 1.057685543229087, 1.0585663998892447, 1.0605042845415915, 1.0642038825142535, 1.0680796518189468, 1.0700175364712934, 1.0707222217994194, 1.0716030784595771, 1.07424564844005, 1.0754788477642707, 1.0795307884009955, 1.081468673053342, 1.0816448443853737, 1.0918627816432018, 1.09397683762758, 1.0966194076080529, 1.0982049495963366, 1.098733463592431, 1.1001428342486834, 1.1015522049049353, 1.1226927647487177, 1.1239259640729384, 1.130620474690136, 1.1484137792253195, 1.152994233858139, 1.1535227478542334, 1.1542274331823597, 1.1589840591472107, 1.1734301083737952, 1.1811816469831822, 1.1850574162878755, 1.1864667869441277, 1.189990213584758, 1.202146035494933, 1.2023222068269643, 1.2086643747800991, 1.2190584833699587, 1.2331521899324802, 1.239494357885615, 1.241608413869993, 1.2437224698543714, 1.2512978371317267, 1.2537642357801682, 1.2597540610692397, 1.2660962290223743, 1.266624743018469, 1.267681771010658, 1.274200110295824, 1.2981594114521107, 1.3101390620302542, 1.3124292893466638, 1.3170097439794834, 1.3261706532451223, 1.3272276812373114, 1.3275800239013746, 1.341321387799833, 1.3437877864482741, 1.3487205837451568, 1.3524201817178187, 1.3691564582608131, 1.3700373149209706, 1.3760271402100424, 1.3806075948428618], \"yaxis\": \"y\"}],\n",
       "                        {\"legend\": {\"tracegroupgap\": 0}, \"margin\": {\"t\": 60}, \"template\": {\"data\": {\"bar\": [{\"error_x\": {\"color\": \"#2a3f5f\"}, \"error_y\": {\"color\": \"#2a3f5f\"}, \"marker\": {\"line\": {\"color\": \"#E5ECF6\", \"width\": 0.5}}, \"type\": \"bar\"}], \"barpolar\": [{\"marker\": {\"line\": {\"color\": \"#E5ECF6\", \"width\": 0.5}}, \"type\": \"barpolar\"}], \"carpet\": [{\"aaxis\": {\"endlinecolor\": \"#2a3f5f\", \"gridcolor\": \"white\", \"linecolor\": \"white\", \"minorgridcolor\": \"white\", \"startlinecolor\": \"#2a3f5f\"}, \"baxis\": {\"endlinecolor\": \"#2a3f5f\", \"gridcolor\": \"white\", \"linecolor\": \"white\", \"minorgridcolor\": \"white\", \"startlinecolor\": \"#2a3f5f\"}, \"type\": \"carpet\"}], \"choropleth\": [{\"colorbar\": {\"outlinewidth\": 0, \"ticks\": \"\"}, \"type\": \"choropleth\"}], \"contour\": [{\"colorbar\": {\"outlinewidth\": 0, \"ticks\": \"\"}, \"colorscale\": [[0.0, \"#0d0887\"], [0.1111111111111111, \"#46039f\"], [0.2222222222222222, \"#7201a8\"], [0.3333333333333333, \"#9c179e\"], [0.4444444444444444, \"#bd3786\"], [0.5555555555555556, \"#d8576b\"], [0.6666666666666666, \"#ed7953\"], [0.7777777777777778, \"#fb9f3a\"], [0.8888888888888888, \"#fdca26\"], [1.0, \"#f0f921\"]], \"type\": \"contour\"}], \"contourcarpet\": [{\"colorbar\": {\"outlinewidth\": 0, \"ticks\": \"\"}, \"type\": \"contourcarpet\"}], \"heatmap\": [{\"colorbar\": {\"outlinewidth\": 0, \"ticks\": \"\"}, \"colorscale\": [[0.0, \"#0d0887\"], [0.1111111111111111, \"#46039f\"], [0.2222222222222222, \"#7201a8\"], [0.3333333333333333, \"#9c179e\"], [0.4444444444444444, \"#bd3786\"], [0.5555555555555556, \"#d8576b\"], [0.6666666666666666, \"#ed7953\"], [0.7777777777777778, \"#fb9f3a\"], [0.8888888888888888, \"#fdca26\"], [1.0, \"#f0f921\"]], \"type\": \"heatmap\"}], \"heatmapgl\": [{\"colorbar\": {\"outlinewidth\": 0, \"ticks\": \"\"}, \"colorscale\": [[0.0, \"#0d0887\"], [0.1111111111111111, \"#46039f\"], [0.2222222222222222, \"#7201a8\"], [0.3333333333333333, \"#9c179e\"], [0.4444444444444444, \"#bd3786\"], [0.5555555555555556, \"#d8576b\"], [0.6666666666666666, \"#ed7953\"], [0.7777777777777778, \"#fb9f3a\"], [0.8888888888888888, \"#fdca26\"], [1.0, \"#f0f921\"]], \"type\": \"heatmapgl\"}], \"histogram\": [{\"marker\": {\"colorbar\": {\"outlinewidth\": 0, \"ticks\": \"\"}}, \"type\": \"histogram\"}], \"histogram2d\": [{\"colorbar\": {\"outlinewidth\": 0, \"ticks\": \"\"}, \"colorscale\": [[0.0, \"#0d0887\"], [0.1111111111111111, \"#46039f\"], [0.2222222222222222, \"#7201a8\"], [0.3333333333333333, \"#9c179e\"], [0.4444444444444444, \"#bd3786\"], [0.5555555555555556, \"#d8576b\"], [0.6666666666666666, \"#ed7953\"], [0.7777777777777778, \"#fb9f3a\"], [0.8888888888888888, \"#fdca26\"], [1.0, \"#f0f921\"]], \"type\": \"histogram2d\"}], \"histogram2dcontour\": [{\"colorbar\": {\"outlinewidth\": 0, \"ticks\": \"\"}, \"colorscale\": [[0.0, \"#0d0887\"], [0.1111111111111111, \"#46039f\"], [0.2222222222222222, \"#7201a8\"], [0.3333333333333333, \"#9c179e\"], [0.4444444444444444, \"#bd3786\"], [0.5555555555555556, \"#d8576b\"], [0.6666666666666666, \"#ed7953\"], [0.7777777777777778, \"#fb9f3a\"], [0.8888888888888888, \"#fdca26\"], [1.0, \"#f0f921\"]], \"type\": \"histogram2dcontour\"}], \"mesh3d\": [{\"colorbar\": {\"outlinewidth\": 0, \"ticks\": \"\"}, \"type\": \"mesh3d\"}], \"parcoords\": [{\"line\": {\"colorbar\": {\"outlinewidth\": 0, \"ticks\": \"\"}}, \"type\": \"parcoords\"}], \"pie\": [{\"automargin\": true, \"type\": \"pie\"}], \"scatter\": [{\"marker\": {\"colorbar\": {\"outlinewidth\": 0, \"ticks\": \"\"}}, \"type\": \"scatter\"}], \"scatter3d\": [{\"line\": {\"colorbar\": {\"outlinewidth\": 0, \"ticks\": \"\"}}, \"marker\": {\"colorbar\": {\"outlinewidth\": 0, \"ticks\": \"\"}}, \"type\": \"scatter3d\"}], \"scattercarpet\": [{\"marker\": {\"colorbar\": {\"outlinewidth\": 0, \"ticks\": \"\"}}, \"type\": \"scattercarpet\"}], \"scattergeo\": [{\"marker\": {\"colorbar\": {\"outlinewidth\": 0, \"ticks\": \"\"}}, \"type\": \"scattergeo\"}], \"scattergl\": [{\"marker\": {\"colorbar\": {\"outlinewidth\": 0, \"ticks\": \"\"}}, \"type\": \"scattergl\"}], \"scattermapbox\": [{\"marker\": {\"colorbar\": {\"outlinewidth\": 0, \"ticks\": \"\"}}, \"type\": \"scattermapbox\"}], \"scatterpolar\": [{\"marker\": {\"colorbar\": {\"outlinewidth\": 0, \"ticks\": \"\"}}, \"type\": \"scatterpolar\"}], \"scatterpolargl\": [{\"marker\": {\"colorbar\": {\"outlinewidth\": 0, \"ticks\": \"\"}}, \"type\": \"scatterpolargl\"}], \"scatterternary\": [{\"marker\": {\"colorbar\": {\"outlinewidth\": 0, \"ticks\": \"\"}}, \"type\": \"scatterternary\"}], \"surface\": [{\"colorbar\": {\"outlinewidth\": 0, \"ticks\": \"\"}, \"colorscale\": [[0.0, \"#0d0887\"], [0.1111111111111111, \"#46039f\"], [0.2222222222222222, \"#7201a8\"], [0.3333333333333333, \"#9c179e\"], [0.4444444444444444, \"#bd3786\"], [0.5555555555555556, \"#d8576b\"], [0.6666666666666666, \"#ed7953\"], [0.7777777777777778, \"#fb9f3a\"], [0.8888888888888888, \"#fdca26\"], [1.0, \"#f0f921\"]], \"type\": \"surface\"}], \"table\": [{\"cells\": {\"fill\": {\"color\": \"#EBF0F8\"}, \"line\": {\"color\": \"white\"}}, \"header\": {\"fill\": {\"color\": \"#C8D4E3\"}, \"line\": {\"color\": \"white\"}}, \"type\": \"table\"}]}, \"layout\": {\"annotationdefaults\": {\"arrowcolor\": \"#2a3f5f\", \"arrowhead\": 0, \"arrowwidth\": 1}, \"coloraxis\": {\"colorbar\": {\"outlinewidth\": 0, \"ticks\": \"\"}}, \"colorscale\": {\"diverging\": [[0, \"#8e0152\"], [0.1, \"#c51b7d\"], [0.2, \"#de77ae\"], [0.3, \"#f1b6da\"], [0.4, \"#fde0ef\"], [0.5, \"#f7f7f7\"], [0.6, \"#e6f5d0\"], [0.7, \"#b8e186\"], [0.8, \"#7fbc41\"], [0.9, \"#4d9221\"], [1, \"#276419\"]], \"sequential\": [[0.0, \"#0d0887\"], [0.1111111111111111, \"#46039f\"], [0.2222222222222222, \"#7201a8\"], [0.3333333333333333, \"#9c179e\"], [0.4444444444444444, \"#bd3786\"], [0.5555555555555556, \"#d8576b\"], [0.6666666666666666, \"#ed7953\"], [0.7777777777777778, \"#fb9f3a\"], [0.8888888888888888, \"#fdca26\"], [1.0, \"#f0f921\"]], \"sequentialminus\": [[0.0, \"#0d0887\"], [0.1111111111111111, \"#46039f\"], [0.2222222222222222, \"#7201a8\"], [0.3333333333333333, \"#9c179e\"], [0.4444444444444444, \"#bd3786\"], [0.5555555555555556, \"#d8576b\"], [0.6666666666666666, \"#ed7953\"], [0.7777777777777778, \"#fb9f3a\"], [0.8888888888888888, \"#fdca26\"], [1.0, \"#f0f921\"]]}, \"colorway\": [\"#636efa\", \"#EF553B\", \"#00cc96\", \"#ab63fa\", \"#FFA15A\", \"#19d3f3\", \"#FF6692\", \"#B6E880\", \"#FF97FF\", \"#FECB52\"], \"font\": {\"color\": \"#2a3f5f\"}, \"geo\": {\"bgcolor\": \"white\", \"lakecolor\": \"white\", \"landcolor\": \"#E5ECF6\", \"showlakes\": true, \"showland\": true, \"subunitcolor\": \"white\"}, \"hoverlabel\": {\"align\": \"left\"}, \"hovermode\": \"closest\", \"mapbox\": {\"style\": \"light\"}, \"paper_bgcolor\": \"white\", \"plot_bgcolor\": \"#E5ECF6\", \"polar\": {\"angularaxis\": {\"gridcolor\": \"white\", \"linecolor\": \"white\", \"ticks\": \"\"}, \"bgcolor\": \"#E5ECF6\", \"radialaxis\": {\"gridcolor\": \"white\", \"linecolor\": \"white\", \"ticks\": \"\"}}, \"scene\": {\"xaxis\": {\"backgroundcolor\": \"#E5ECF6\", \"gridcolor\": \"white\", \"gridwidth\": 2, \"linecolor\": \"white\", \"showbackground\": true, \"ticks\": \"\", \"zerolinecolor\": \"white\"}, \"yaxis\": {\"backgroundcolor\": \"#E5ECF6\", \"gridcolor\": \"white\", \"gridwidth\": 2, \"linecolor\": \"white\", \"showbackground\": true, \"ticks\": \"\", \"zerolinecolor\": \"white\"}, \"zaxis\": {\"backgroundcolor\": \"#E5ECF6\", \"gridcolor\": \"white\", \"gridwidth\": 2, \"linecolor\": \"white\", \"showbackground\": true, \"ticks\": \"\", \"zerolinecolor\": \"white\"}}, \"shapedefaults\": {\"line\": {\"color\": \"#2a3f5f\"}}, \"ternary\": {\"aaxis\": {\"gridcolor\": \"white\", \"linecolor\": \"white\", \"ticks\": \"\"}, \"baxis\": {\"gridcolor\": \"white\", \"linecolor\": \"white\", \"ticks\": \"\"}, \"bgcolor\": \"#E5ECF6\", \"caxis\": {\"gridcolor\": \"white\", \"linecolor\": \"white\", \"ticks\": \"\"}}, \"title\": {\"x\": 0.05}, \"xaxis\": {\"automargin\": true, \"gridcolor\": \"white\", \"linecolor\": \"white\", \"ticks\": \"\", \"title\": {\"standoff\": 15}, \"zerolinecolor\": \"white\", \"zerolinewidth\": 2}, \"yaxis\": {\"automargin\": true, \"gridcolor\": \"white\", \"linecolor\": \"white\", \"ticks\": \"\", \"title\": {\"standoff\": 15}, \"zerolinecolor\": \"white\", \"zerolinewidth\": 2}}}, \"xaxis\": {\"anchor\": \"y\", \"domain\": [0.0, 1.0], \"title\": {\"text\": \"Happiness Score\"}}, \"yaxis\": {\"anchor\": \"x\", \"domain\": [0.0, 1.0], \"title\": {\"text\": \"Family\"}}},\n",
       "                        {\"responsive\": true}\n",
       "                    ).then(function(){\n",
       "                            \n",
       "var gd = document.getElementById('cc740fc6-d0ec-440e-9bcc-a5e325b380e7');\n",
       "var x = new MutationObserver(function (mutations, observer) {{\n",
       "        var display = window.getComputedStyle(gd).display;\n",
       "        if (!display || display === 'none') {{\n",
       "            console.log([gd, 'removed!']);\n",
       "            Plotly.purge(gd);\n",
       "            observer.disconnect();\n",
       "        }}\n",
       "}});\n",
       "\n",
       "// Listen for the removal of the full notebook cells\n",
       "var notebookContainer = gd.closest('#notebook-container');\n",
       "if (notebookContainer) {{\n",
       "    x.observe(notebookContainer, {childList: true});\n",
       "}}\n",
       "\n",
       "// Listen for the clearing of the current output cell\n",
       "var outputEl = gd.closest('.output');\n",
       "if (outputEl) {{\n",
       "    x.observe(outputEl, {childList: true});\n",
       "}}\n",
       "\n",
       "                        })\n",
       "                };\n",
       "                });\n",
       "            </script>\n",
       "        </div>"
      ]
     },
     "metadata": {},
     "output_type": "display_data"
    },
    {
     "data": {
      "application/vnd.plotly.v1+json": {
       "config": {
        "plotlyServerURL": "https://plot.ly"
       },
       "data": [
        {
         "hovertemplate": "Happiness Score=%{x}<br>Health (Life Expectancy)=%{y}<extra></extra>",
         "legendgroup": "",
         "marker": {
          "color": "#636efa",
          "symbol": "circle"
         },
         "mode": "markers",
         "name": "",
         "orientation": "v",
         "showlegend": false,
         "type": "scatter",
         "x": [
          7.587000000000001,
          7.561,
          7.527,
          7.522,
          7.4270000000000005,
          7.406000000000001,
          7.377999999999999,
          7.364,
          7.2860000000000005,
          7.284,
          7.278,
          7.226,
          7.2,
          7.187,
          7.119,
          6.983,
          6.946000000000001,
          6.94,
          6.937,
          6.901,
          6.867000000000001,
          6.853,
          6.81,
          6.797999999999999,
          6.7860000000000005,
          6.75,
          6.67,
          6.611000000000001,
          6.575,
          6.574,
          6.505,
          6.485,
          6.477,
          6.455,
          6.4110000000000005,
          6.329,
          6.3020000000000005,
          6.297999999999999,
          6.295,
          6.269,
          6.167999999999999,
          6.13,
          6.122999999999999,
          6.002999999999999,
          5.995,
          5.987,
          5.984,
          5.975,
          5.96,
          5.9479999999999995,
          5.89,
          5.888999999999999,
          5.877999999999999,
          5.855,
          5.848,
          5.832999999999999,
          5.827999999999999,
          5.824,
          5.813,
          5.791,
          5.77,
          5.7589999999999995,
          5.754,
          5.716,
          5.709,
          5.695,
          5.689,
          5.605,
          5.5889999999999995,
          5.547999999999999,
          5.477,
          5.474,
          5.428999999999999,
          5.399,
          5.36,
          5.332000000000001,
          5.2860000000000005,
          5.268,
          5.252999999999999,
          5.212000000000001,
          5.194,
          5.192,
          5.192,
          5.14,
          5.129,
          5.124,
          5.122999999999999,
          5.102,
          5.098,
          5.073,
          5.0569999999999995,
          5.013,
          5.007,
          4.971,
          4.959,
          4.949,
          4.898,
          4.885,
          4.876,
          4.874,
          4.867,
          4.857,
          4.8389999999999995,
          4.8,
          4.788,
          4.7860000000000005,
          4.739,
          4.715,
          4.694,
          4.686,
          4.681,
          4.677,
          4.6419999999999995,
          4.633,
          4.61,
          4.571000000000001,
          4.565,
          4.55,
          4.518,
          4.5169999999999995,
          4.513999999999999,
          4.512,
          4.507,
          4.436,
          4.419,
          4.369,
          4.35,
          4.332,
          4.3069999999999995,
          4.297,
          4.292,
          4.271,
          4.252,
          4.218,
          4.194,
          4.077,
          4.033,
          3.995,
          3.989,
          3.9560000000000004,
          3.931,
          3.904,
          3.8960000000000004,
          3.845,
          3.819,
          3.781,
          3.681,
          3.678,
          3.667,
          3.656,
          3.655,
          3.5869999999999997,
          3.575,
          3.465,
          3.34,
          3.0060000000000002,
          2.905,
          2.839
         ],
         "xaxis": "x",
         "y": [
          0.9414299999999999,
          0.94784,
          0.87464,
          0.88521,
          0.9056299999999999,
          0.8891100000000001,
          0.89284,
          0.9108700000000001,
          0.9083700000000001,
          0.93156,
          0.9138700000000001,
          0.8602700000000001,
          0.8904200000000001,
          0.8144399999999999,
          0.86179,
          0.69702,
          0.91894,
          0.89533,
          0.8966700000000001,
          0.80925,
          0.90943,
          0.76276,
          0.7205199999999999,
          1.02525,
          0.79661,
          0.89186,
          0.85857,
          0.79733,
          0.9457899999999999,
          0.78723,
          0.84483,
          0.8116,
          0.69077,
          0.7385,
          0.72025,
          0.95562,
          0.88721,
          0.8753,
          0.72492,
          0.6082,
          0.61483,
          0.67737,
          0.64425,
          0.59772,
          0.7890199999999999,
          0.99111,
          0.9653799999999999,
          0.79075,
          0.74716,
          0.9544600000000001,
          0.5392,
          0.61826,
          0.66098,
          0.64368,
          0.8733700000000001,
          0.73128,
          0.7431399999999999,
          0.73017,
          0.7360800000000001,
          0.77903,
          0.7239399999999999,
          0.78805,
          0.7038,
          0.6692600000000001,
          0.6874100000000001,
          0.92356,
          0.92356,
          0.61766,
          0.63132,
          0.53886,
          0.7095,
          1.01328,
          0.77361,
          0.63793,
          0.7467600000000001,
          0.73172,
          0.65088,
          0.16007000000000002,
          0.57407,
          0.64045,
          0.51466,
          0.69639,
          0.72521,
          0.81658,
          0.29924,
          0.7689,
          0.74836,
          0.8751899999999999,
          0.72437,
          0.58114,
          0.43873,
          0.60954,
          0.73545,
          0.09131,
          0.81325,
          0.79081,
          0.07612000000000001,
          0.66825,
          0.54909,
          0.60268,
          0.07566,
          0.88213,
          0.83947,
          0.75905,
          0.6951,
          0.5737899999999999,
          0.73793,
          0.66015,
          0.60164,
          0.69805,
          0.6739,
          0.60237,
          0.27688,
          0.40131999999999995,
          0.33475,
          0.34201,
          0.5152899999999999,
          0.36878,
          0.38847,
          0.09806000000000001,
          0.5687399999999999,
          0.44055,
          0,
          0.35874,
          0.41435,
          0.36291,
          0.7299,
          0.047760000000000004,
          0.48246000000000006,
          0.72926,
          0.22562,
          0.70806,
          0.23401999999999998,
          0.76649,
          0.61712,
          0.40064,
          0.16683,
          0.20583,
          0.31051,
          0.36315,
          0.33860999999999997,
          0.4354,
          0.43372,
          0.29707,
          0.61114,
          0.38215,
          0.46721,
          0.06699,
          0.1501,
          0.24009,
          0.15185,
          0.27125,
          0.30335,
          0.42863999999999997,
          0.3191,
          0.7219300000000001,
          0.22396,
          0.28443
         ],
         "yaxis": "y"
        },
        {
         "hovertemplate": "<b>OLS trendline</b><br>Health (Life Expectancy) = 0.156273 * Happiness Score + -0.20982<br>R<sup>2</sup>=0.524465<br><br>Happiness Score=%{x}<br>Health (Life Expectancy)=%{y} <b>(trend)</b><extra></extra>",
         "legendgroup": "",
         "marker": {
          "color": "#636efa",
          "symbol": "circle"
         },
         "mode": "lines",
         "name": "",
         "showlegend": false,
         "type": "scatter",
         "x": [
          2.839,
          2.905,
          3.0060000000000002,
          3.34,
          3.465,
          3.575,
          3.5869999999999997,
          3.655,
          3.656,
          3.667,
          3.678,
          3.681,
          3.781,
          3.819,
          3.845,
          3.8960000000000004,
          3.904,
          3.931,
          3.9560000000000004,
          3.989,
          3.995,
          4.033,
          4.077,
          4.194,
          4.218,
          4.252,
          4.271,
          4.292,
          4.297,
          4.3069999999999995,
          4.332,
          4.35,
          4.369,
          4.419,
          4.436,
          4.507,
          4.512,
          4.513999999999999,
          4.5169999999999995,
          4.518,
          4.55,
          4.565,
          4.571000000000001,
          4.61,
          4.633,
          4.6419999999999995,
          4.677,
          4.681,
          4.686,
          4.694,
          4.715,
          4.739,
          4.7860000000000005,
          4.788,
          4.8,
          4.8389999999999995,
          4.857,
          4.867,
          4.874,
          4.876,
          4.885,
          4.898,
          4.949,
          4.959,
          4.971,
          5.007,
          5.013,
          5.0569999999999995,
          5.073,
          5.098,
          5.102,
          5.122999999999999,
          5.124,
          5.129,
          5.14,
          5.192,
          5.192,
          5.194,
          5.212000000000001,
          5.252999999999999,
          5.268,
          5.2860000000000005,
          5.332000000000001,
          5.36,
          5.399,
          5.428999999999999,
          5.474,
          5.477,
          5.547999999999999,
          5.5889999999999995,
          5.605,
          5.689,
          5.695,
          5.709,
          5.716,
          5.754,
          5.7589999999999995,
          5.77,
          5.791,
          5.813,
          5.824,
          5.827999999999999,
          5.832999999999999,
          5.848,
          5.855,
          5.877999999999999,
          5.888999999999999,
          5.89,
          5.9479999999999995,
          5.96,
          5.975,
          5.984,
          5.987,
          5.995,
          6.002999999999999,
          6.122999999999999,
          6.13,
          6.167999999999999,
          6.269,
          6.295,
          6.297999999999999,
          6.3020000000000005,
          6.329,
          6.4110000000000005,
          6.455,
          6.477,
          6.485,
          6.505,
          6.574,
          6.575,
          6.611000000000001,
          6.67,
          6.75,
          6.7860000000000005,
          6.797999999999999,
          6.81,
          6.853,
          6.867000000000001,
          6.901,
          6.937,
          6.94,
          6.946000000000001,
          6.983,
          7.119,
          7.187,
          7.2,
          7.226,
          7.278,
          7.284,
          7.2860000000000005,
          7.364,
          7.377999999999999,
          7.406000000000001,
          7.4270000000000005,
          7.522,
          7.527,
          7.561,
          7.587000000000001
         ],
         "xaxis": "x",
         "y": [
          0.23383752663677315,
          0.2441515129049534,
          0.2599350373456536,
          0.3121300587634144,
          0.331664123665271,
          0.3488541007789048,
          0.350729371009483,
          0.36135590231609294,
          0.36151217483530784,
          0.36323117254667125,
          0.36495017025803467,
          0.36541898781567916,
          0.38104623973716445,
          0.3869845954673289,
          0.3910476809669151,
          0.39901757944687255,
          0.40026775960059136,
          0.4044871176193924,
          0.4083939305997638,
          0.4135509237338538,
          0.41448855884914304,
          0.4204269145793075,
          0.4273029054247609,
          0.4455867901728987,
          0.4493373306340551,
          0.45465059628736015,
          0.45761977415244237,
          0.4609014970559542,
          0.4616828596520285,
          0.463245584844177,
          0.4671523978245483,
          0.4699653031704156,
          0.47293448103549784,
          0.4807481069962405,
          0.483404739822893,
          0.49450008868714757,
          0.49528145128322176,
          0.49559399632165146,
          0.49606281387929607,
          0.496219086398511,
          0.5012198070133862,
          0.5035638948016091,
          0.5045015299168983,
          0.5105961581662775,
          0.5141904261082191,
          0.5155968787811527,
          0.5210664169536725,
          0.521691507030532,
          0.5224728696266062,
          0.523723049780325,
          0.5270047726838369,
          0.5307553131449935,
          0.5381001215480916,
          0.5384126665865213,
          0.5402879368170994,
          0.5463825650664786,
          0.5491954704123462,
          0.5507581956044946,
          0.5518521032389986,
          0.5521646482774284,
          0.5535711009503619,
          0.555602643700155,
          0.5635725421801125,
          0.565135267372261,
          0.5670105376028394,
          0.572636348294574,
          0.5735739834098631,
          0.5804499742553165,
          0.5829503345627544,
          0.5868571475431256,
          0.5874822376199851,
          0.5907639605234968,
          0.5909202330427117,
          0.591701595638786,
          0.5934205933501494,
          0.6015467643493217,
          0.6015467643493217,
          0.6018593093877515,
          0.604672214733619,
          0.6110793880214277,
          0.6134234758096505,
          0.616236381155518,
          0.6234249170394013,
          0.6278005475774171,
          0.6338951758267963,
          0.6385833514032417,
          0.6456156147679103,
          0.6460844323255549,
          0.6571797811898092,
          0.6635869544776183,
          0.666087314785056,
          0.6792142063991037,
          0.6801518415143928,
          0.6823396567834006,
          0.6834335644179047,
          0.689371920148069,
          0.6901532827441432,
          0.6918722804555066,
          0.6951540033590187,
          0.6985919987817453,
          0.7003109964931087,
          0.7009360865699681,
          0.7017174491660423,
          0.7040615369542652,
          0.7051554445887692,
          0.7087497125307107,
          0.710468710242074,
          0.7106249827612889,
          0.7196887888757504,
          0.7215640591063287,
          0.7239081468945515,
          0.7253145995674852,
          0.7257834171251297,
          0.7270335972788486,
          0.7282837774325672,
          0.7470364797383496,
          0.7481303873728536,
          0.754068743103018,
          0.7698522675437183,
          0.7739153530433044,
          0.7743841706009489,
          0.7750092606778085,
          0.7792286186966094,
          0.7920429652722275,
          0.7989189561176809,
          0.8023569515404078,
          0.8036071316941266,
          0.8067325820784236,
          0.8175153859042482,
          0.8176716584234632,
          0.8232974691151981,
          0.8325175477488741,
          0.8450193492860624,
          0.8506451599777972,
          0.8525204302083752,
          0.8543957004389536,
          0.8611154187651923,
          0.8633032340342003,
          0.8686164996875051,
          0.8742423103792399,
          0.8747111279368845,
          0.8756487630521738,
          0.8814308462631232,
          0.9026839088763431,
          0.9133104401829532,
          0.9153419829327462,
          0.9194050684323324,
          0.9275312394315046,
          0.9284688745467938,
          0.9287814195852236,
          0.9409706760839821,
          0.9431584913529899,
          0.9475341218910059,
          0.950815844794518,
          0.9656617341199288,
          0.966443096716003,
          0.9717563623693081,
          0.9758194478688943
         ],
         "yaxis": "y"
        }
       ],
       "layout": {
        "legend": {
         "tracegroupgap": 0
        },
        "margin": {
         "t": 60
        },
        "template": {
         "data": {
          "bar": [
           {
            "error_x": {
             "color": "#2a3f5f"
            },
            "error_y": {
             "color": "#2a3f5f"
            },
            "marker": {
             "line": {
              "color": "#E5ECF6",
              "width": 0.5
             }
            },
            "type": "bar"
           }
          ],
          "barpolar": [
           {
            "marker": {
             "line": {
              "color": "#E5ECF6",
              "width": 0.5
             }
            },
            "type": "barpolar"
           }
          ],
          "carpet": [
           {
            "aaxis": {
             "endlinecolor": "#2a3f5f",
             "gridcolor": "white",
             "linecolor": "white",
             "minorgridcolor": "white",
             "startlinecolor": "#2a3f5f"
            },
            "baxis": {
             "endlinecolor": "#2a3f5f",
             "gridcolor": "white",
             "linecolor": "white",
             "minorgridcolor": "white",
             "startlinecolor": "#2a3f5f"
            },
            "type": "carpet"
           }
          ],
          "choropleth": [
           {
            "colorbar": {
             "outlinewidth": 0,
             "ticks": ""
            },
            "type": "choropleth"
           }
          ],
          "contour": [
           {
            "colorbar": {
             "outlinewidth": 0,
             "ticks": ""
            },
            "colorscale": [
             [
              0,
              "#0d0887"
             ],
             [
              0.1111111111111111,
              "#46039f"
             ],
             [
              0.2222222222222222,
              "#7201a8"
             ],
             [
              0.3333333333333333,
              "#9c179e"
             ],
             [
              0.4444444444444444,
              "#bd3786"
             ],
             [
              0.5555555555555556,
              "#d8576b"
             ],
             [
              0.6666666666666666,
              "#ed7953"
             ],
             [
              0.7777777777777778,
              "#fb9f3a"
             ],
             [
              0.8888888888888888,
              "#fdca26"
             ],
             [
              1,
              "#f0f921"
             ]
            ],
            "type": "contour"
           }
          ],
          "contourcarpet": [
           {
            "colorbar": {
             "outlinewidth": 0,
             "ticks": ""
            },
            "type": "contourcarpet"
           }
          ],
          "heatmap": [
           {
            "colorbar": {
             "outlinewidth": 0,
             "ticks": ""
            },
            "colorscale": [
             [
              0,
              "#0d0887"
             ],
             [
              0.1111111111111111,
              "#46039f"
             ],
             [
              0.2222222222222222,
              "#7201a8"
             ],
             [
              0.3333333333333333,
              "#9c179e"
             ],
             [
              0.4444444444444444,
              "#bd3786"
             ],
             [
              0.5555555555555556,
              "#d8576b"
             ],
             [
              0.6666666666666666,
              "#ed7953"
             ],
             [
              0.7777777777777778,
              "#fb9f3a"
             ],
             [
              0.8888888888888888,
              "#fdca26"
             ],
             [
              1,
              "#f0f921"
             ]
            ],
            "type": "heatmap"
           }
          ],
          "heatmapgl": [
           {
            "colorbar": {
             "outlinewidth": 0,
             "ticks": ""
            },
            "colorscale": [
             [
              0,
              "#0d0887"
             ],
             [
              0.1111111111111111,
              "#46039f"
             ],
             [
              0.2222222222222222,
              "#7201a8"
             ],
             [
              0.3333333333333333,
              "#9c179e"
             ],
             [
              0.4444444444444444,
              "#bd3786"
             ],
             [
              0.5555555555555556,
              "#d8576b"
             ],
             [
              0.6666666666666666,
              "#ed7953"
             ],
             [
              0.7777777777777778,
              "#fb9f3a"
             ],
             [
              0.8888888888888888,
              "#fdca26"
             ],
             [
              1,
              "#f0f921"
             ]
            ],
            "type": "heatmapgl"
           }
          ],
          "histogram": [
           {
            "marker": {
             "colorbar": {
              "outlinewidth": 0,
              "ticks": ""
             }
            },
            "type": "histogram"
           }
          ],
          "histogram2d": [
           {
            "colorbar": {
             "outlinewidth": 0,
             "ticks": ""
            },
            "colorscale": [
             [
              0,
              "#0d0887"
             ],
             [
              0.1111111111111111,
              "#46039f"
             ],
             [
              0.2222222222222222,
              "#7201a8"
             ],
             [
              0.3333333333333333,
              "#9c179e"
             ],
             [
              0.4444444444444444,
              "#bd3786"
             ],
             [
              0.5555555555555556,
              "#d8576b"
             ],
             [
              0.6666666666666666,
              "#ed7953"
             ],
             [
              0.7777777777777778,
              "#fb9f3a"
             ],
             [
              0.8888888888888888,
              "#fdca26"
             ],
             [
              1,
              "#f0f921"
             ]
            ],
            "type": "histogram2d"
           }
          ],
          "histogram2dcontour": [
           {
            "colorbar": {
             "outlinewidth": 0,
             "ticks": ""
            },
            "colorscale": [
             [
              0,
              "#0d0887"
             ],
             [
              0.1111111111111111,
              "#46039f"
             ],
             [
              0.2222222222222222,
              "#7201a8"
             ],
             [
              0.3333333333333333,
              "#9c179e"
             ],
             [
              0.4444444444444444,
              "#bd3786"
             ],
             [
              0.5555555555555556,
              "#d8576b"
             ],
             [
              0.6666666666666666,
              "#ed7953"
             ],
             [
              0.7777777777777778,
              "#fb9f3a"
             ],
             [
              0.8888888888888888,
              "#fdca26"
             ],
             [
              1,
              "#f0f921"
             ]
            ],
            "type": "histogram2dcontour"
           }
          ],
          "mesh3d": [
           {
            "colorbar": {
             "outlinewidth": 0,
             "ticks": ""
            },
            "type": "mesh3d"
           }
          ],
          "parcoords": [
           {
            "line": {
             "colorbar": {
              "outlinewidth": 0,
              "ticks": ""
             }
            },
            "type": "parcoords"
           }
          ],
          "pie": [
           {
            "automargin": true,
            "type": "pie"
           }
          ],
          "scatter": [
           {
            "marker": {
             "colorbar": {
              "outlinewidth": 0,
              "ticks": ""
             }
            },
            "type": "scatter"
           }
          ],
          "scatter3d": [
           {
            "line": {
             "colorbar": {
              "outlinewidth": 0,
              "ticks": ""
             }
            },
            "marker": {
             "colorbar": {
              "outlinewidth": 0,
              "ticks": ""
             }
            },
            "type": "scatter3d"
           }
          ],
          "scattercarpet": [
           {
            "marker": {
             "colorbar": {
              "outlinewidth": 0,
              "ticks": ""
             }
            },
            "type": "scattercarpet"
           }
          ],
          "scattergeo": [
           {
            "marker": {
             "colorbar": {
              "outlinewidth": 0,
              "ticks": ""
             }
            },
            "type": "scattergeo"
           }
          ],
          "scattergl": [
           {
            "marker": {
             "colorbar": {
              "outlinewidth": 0,
              "ticks": ""
             }
            },
            "type": "scattergl"
           }
          ],
          "scattermapbox": [
           {
            "marker": {
             "colorbar": {
              "outlinewidth": 0,
              "ticks": ""
             }
            },
            "type": "scattermapbox"
           }
          ],
          "scatterpolar": [
           {
            "marker": {
             "colorbar": {
              "outlinewidth": 0,
              "ticks": ""
             }
            },
            "type": "scatterpolar"
           }
          ],
          "scatterpolargl": [
           {
            "marker": {
             "colorbar": {
              "outlinewidth": 0,
              "ticks": ""
             }
            },
            "type": "scatterpolargl"
           }
          ],
          "scatterternary": [
           {
            "marker": {
             "colorbar": {
              "outlinewidth": 0,
              "ticks": ""
             }
            },
            "type": "scatterternary"
           }
          ],
          "surface": [
           {
            "colorbar": {
             "outlinewidth": 0,
             "ticks": ""
            },
            "colorscale": [
             [
              0,
              "#0d0887"
             ],
             [
              0.1111111111111111,
              "#46039f"
             ],
             [
              0.2222222222222222,
              "#7201a8"
             ],
             [
              0.3333333333333333,
              "#9c179e"
             ],
             [
              0.4444444444444444,
              "#bd3786"
             ],
             [
              0.5555555555555556,
              "#d8576b"
             ],
             [
              0.6666666666666666,
              "#ed7953"
             ],
             [
              0.7777777777777778,
              "#fb9f3a"
             ],
             [
              0.8888888888888888,
              "#fdca26"
             ],
             [
              1,
              "#f0f921"
             ]
            ],
            "type": "surface"
           }
          ],
          "table": [
           {
            "cells": {
             "fill": {
              "color": "#EBF0F8"
             },
             "line": {
              "color": "white"
             }
            },
            "header": {
             "fill": {
              "color": "#C8D4E3"
             },
             "line": {
              "color": "white"
             }
            },
            "type": "table"
           }
          ]
         },
         "layout": {
          "annotationdefaults": {
           "arrowcolor": "#2a3f5f",
           "arrowhead": 0,
           "arrowwidth": 1
          },
          "coloraxis": {
           "colorbar": {
            "outlinewidth": 0,
            "ticks": ""
           }
          },
          "colorscale": {
           "diverging": [
            [
             0,
             "#8e0152"
            ],
            [
             0.1,
             "#c51b7d"
            ],
            [
             0.2,
             "#de77ae"
            ],
            [
             0.3,
             "#f1b6da"
            ],
            [
             0.4,
             "#fde0ef"
            ],
            [
             0.5,
             "#f7f7f7"
            ],
            [
             0.6,
             "#e6f5d0"
            ],
            [
             0.7,
             "#b8e186"
            ],
            [
             0.8,
             "#7fbc41"
            ],
            [
             0.9,
             "#4d9221"
            ],
            [
             1,
             "#276419"
            ]
           ],
           "sequential": [
            [
             0,
             "#0d0887"
            ],
            [
             0.1111111111111111,
             "#46039f"
            ],
            [
             0.2222222222222222,
             "#7201a8"
            ],
            [
             0.3333333333333333,
             "#9c179e"
            ],
            [
             0.4444444444444444,
             "#bd3786"
            ],
            [
             0.5555555555555556,
             "#d8576b"
            ],
            [
             0.6666666666666666,
             "#ed7953"
            ],
            [
             0.7777777777777778,
             "#fb9f3a"
            ],
            [
             0.8888888888888888,
             "#fdca26"
            ],
            [
             1,
             "#f0f921"
            ]
           ],
           "sequentialminus": [
            [
             0,
             "#0d0887"
            ],
            [
             0.1111111111111111,
             "#46039f"
            ],
            [
             0.2222222222222222,
             "#7201a8"
            ],
            [
             0.3333333333333333,
             "#9c179e"
            ],
            [
             0.4444444444444444,
             "#bd3786"
            ],
            [
             0.5555555555555556,
             "#d8576b"
            ],
            [
             0.6666666666666666,
             "#ed7953"
            ],
            [
             0.7777777777777778,
             "#fb9f3a"
            ],
            [
             0.8888888888888888,
             "#fdca26"
            ],
            [
             1,
             "#f0f921"
            ]
           ]
          },
          "colorway": [
           "#636efa",
           "#EF553B",
           "#00cc96",
           "#ab63fa",
           "#FFA15A",
           "#19d3f3",
           "#FF6692",
           "#B6E880",
           "#FF97FF",
           "#FECB52"
          ],
          "font": {
           "color": "#2a3f5f"
          },
          "geo": {
           "bgcolor": "white",
           "lakecolor": "white",
           "landcolor": "#E5ECF6",
           "showlakes": true,
           "showland": true,
           "subunitcolor": "white"
          },
          "hoverlabel": {
           "align": "left"
          },
          "hovermode": "closest",
          "mapbox": {
           "style": "light"
          },
          "paper_bgcolor": "white",
          "plot_bgcolor": "#E5ECF6",
          "polar": {
           "angularaxis": {
            "gridcolor": "white",
            "linecolor": "white",
            "ticks": ""
           },
           "bgcolor": "#E5ECF6",
           "radialaxis": {
            "gridcolor": "white",
            "linecolor": "white",
            "ticks": ""
           }
          },
          "scene": {
           "xaxis": {
            "backgroundcolor": "#E5ECF6",
            "gridcolor": "white",
            "gridwidth": 2,
            "linecolor": "white",
            "showbackground": true,
            "ticks": "",
            "zerolinecolor": "white"
           },
           "yaxis": {
            "backgroundcolor": "#E5ECF6",
            "gridcolor": "white",
            "gridwidth": 2,
            "linecolor": "white",
            "showbackground": true,
            "ticks": "",
            "zerolinecolor": "white"
           },
           "zaxis": {
            "backgroundcolor": "#E5ECF6",
            "gridcolor": "white",
            "gridwidth": 2,
            "linecolor": "white",
            "showbackground": true,
            "ticks": "",
            "zerolinecolor": "white"
           }
          },
          "shapedefaults": {
           "line": {
            "color": "#2a3f5f"
           }
          },
          "ternary": {
           "aaxis": {
            "gridcolor": "white",
            "linecolor": "white",
            "ticks": ""
           },
           "baxis": {
            "gridcolor": "white",
            "linecolor": "white",
            "ticks": ""
           },
           "bgcolor": "#E5ECF6",
           "caxis": {
            "gridcolor": "white",
            "linecolor": "white",
            "ticks": ""
           }
          },
          "title": {
           "x": 0.05
          },
          "xaxis": {
           "automargin": true,
           "gridcolor": "white",
           "linecolor": "white",
           "ticks": "",
           "title": {
            "standoff": 15
           },
           "zerolinecolor": "white",
           "zerolinewidth": 2
          },
          "yaxis": {
           "automargin": true,
           "gridcolor": "white",
           "linecolor": "white",
           "ticks": "",
           "title": {
            "standoff": 15
           },
           "zerolinecolor": "white",
           "zerolinewidth": 2
          }
         }
        },
        "xaxis": {
         "anchor": "y",
         "domain": [
          0,
          1
         ],
         "title": {
          "text": "Happiness Score"
         }
        },
        "yaxis": {
         "anchor": "x",
         "domain": [
          0,
          1
         ],
         "title": {
          "text": "Health (Life Expectancy)"
         }
        }
       }
      },
      "text/html": [
       "<div>\n",
       "        \n",
       "        \n",
       "            <div id=\"f7635b6d-a74f-4bb7-a1f1-5809151e631b\" class=\"plotly-graph-div\" style=\"height:525px; width:100%;\"></div>\n",
       "            <script type=\"text/javascript\">\n",
       "                require([\"plotly\"], function(Plotly) {\n",
       "                    window.PLOTLYENV=window.PLOTLYENV || {};\n",
       "                    \n",
       "                if (document.getElementById(\"f7635b6d-a74f-4bb7-a1f1-5809151e631b\")) {\n",
       "                    Plotly.newPlot(\n",
       "                        'f7635b6d-a74f-4bb7-a1f1-5809151e631b',\n",
       "                        [{\"hovertemplate\": \"Happiness Score=%{x}<br>Health (Life Expectancy)=%{y}<extra></extra>\", \"legendgroup\": \"\", \"marker\": {\"color\": \"#636efa\", \"symbol\": \"circle\"}, \"mode\": \"markers\", \"name\": \"\", \"orientation\": \"v\", \"showlegend\": false, \"type\": \"scatter\", \"x\": [7.587000000000001, 7.561, 7.527, 7.522, 7.4270000000000005, 7.406000000000001, 7.377999999999999, 7.364, 7.2860000000000005, 7.284, 7.278, 7.226, 7.2, 7.187, 7.119, 6.983, 6.946000000000001, 6.94, 6.937, 6.901, 6.867000000000001, 6.853, 6.81, 6.797999999999999, 6.7860000000000005, 6.75, 6.67, 6.611000000000001, 6.575, 6.574, 6.505, 6.485, 6.477, 6.455, 6.4110000000000005, 6.329, 6.3020000000000005, 6.297999999999999, 6.295, 6.269, 6.167999999999999, 6.13, 6.122999999999999, 6.002999999999999, 5.995, 5.987, 5.984, 5.975, 5.96, 5.9479999999999995, 5.89, 5.888999999999999, 5.877999999999999, 5.855, 5.848, 5.832999999999999, 5.827999999999999, 5.824, 5.813, 5.791, 5.77, 5.7589999999999995, 5.754, 5.716, 5.709, 5.695, 5.689, 5.605, 5.5889999999999995, 5.547999999999999, 5.477, 5.474, 5.428999999999999, 5.399, 5.36, 5.332000000000001, 5.2860000000000005, 5.268, 5.252999999999999, 5.212000000000001, 5.194, 5.192, 5.192, 5.14, 5.129, 5.124, 5.122999999999999, 5.102, 5.098, 5.073, 5.0569999999999995, 5.013, 5.007, 4.971, 4.959, 4.949, 4.898, 4.885, 4.876, 4.874, 4.867, 4.857, 4.8389999999999995, 4.8, 4.788, 4.7860000000000005, 4.739, 4.715, 4.694, 4.686, 4.681, 4.677, 4.6419999999999995, 4.633, 4.61, 4.571000000000001, 4.565, 4.55, 4.518, 4.5169999999999995, 4.513999999999999, 4.512, 4.507, 4.436, 4.419, 4.369, 4.35, 4.332, 4.3069999999999995, 4.297, 4.292, 4.271, 4.252, 4.218, 4.194, 4.077, 4.033, 3.995, 3.989, 3.9560000000000004, 3.931, 3.904, 3.8960000000000004, 3.845, 3.819, 3.781, 3.681, 3.678, 3.667, 3.656, 3.655, 3.5869999999999997, 3.575, 3.465, 3.34, 3.0060000000000002, 2.905, 2.839], \"xaxis\": \"x\", \"y\": [0.9414299999999999, 0.94784, 0.87464, 0.88521, 0.9056299999999999, 0.8891100000000001, 0.89284, 0.9108700000000001, 0.9083700000000001, 0.93156, 0.9138700000000001, 0.8602700000000001, 0.8904200000000001, 0.8144399999999999, 0.86179, 0.69702, 0.91894, 0.89533, 0.8966700000000001, 0.80925, 0.90943, 0.76276, 0.7205199999999999, 1.02525, 0.79661, 0.89186, 0.85857, 0.79733, 0.9457899999999999, 0.78723, 0.84483, 0.8116, 0.69077, 0.7385, 0.72025, 0.95562, 0.88721, 0.8753, 0.72492, 0.6082, 0.61483, 0.67737, 0.64425, 0.59772, 0.7890199999999999, 0.99111, 0.9653799999999999, 0.79075, 0.74716, 0.9544600000000001, 0.5392, 0.61826, 0.66098, 0.64368, 0.8733700000000001, 0.73128, 0.7431399999999999, 0.73017, 0.7360800000000001, 0.77903, 0.7239399999999999, 0.78805, 0.7038, 0.6692600000000001, 0.6874100000000001, 0.92356, 0.92356, 0.61766, 0.63132, 0.53886, 0.7095, 1.01328, 0.77361, 0.63793, 0.7467600000000001, 0.73172, 0.65088, 0.16007000000000002, 0.57407, 0.64045, 0.51466, 0.69639, 0.72521, 0.81658, 0.29924, 0.7689, 0.74836, 0.8751899999999999, 0.72437, 0.58114, 0.43873, 0.60954, 0.73545, 0.09131, 0.81325, 0.79081, 0.07612000000000001, 0.66825, 0.54909, 0.60268, 0.07566, 0.88213, 0.83947, 0.75905, 0.6951, 0.5737899999999999, 0.73793, 0.66015, 0.60164, 0.69805, 0.6739, 0.60237, 0.27688, 0.40131999999999995, 0.33475, 0.34201, 0.5152899999999999, 0.36878, 0.38847, 0.09806000000000001, 0.5687399999999999, 0.44055, 0.0, 0.35874, 0.41435, 0.36291, 0.7299, 0.047760000000000004, 0.48246000000000006, 0.72926, 0.22562, 0.70806, 0.23401999999999998, 0.76649, 0.61712, 0.40064, 0.16683, 0.20583, 0.31051, 0.36315, 0.33860999999999997, 0.4354, 0.43372, 0.29707, 0.61114, 0.38215, 0.46721, 0.06699, 0.1501, 0.24009, 0.15185, 0.27125, 0.30335, 0.42863999999999997, 0.3191, 0.7219300000000001, 0.22396, 0.28443], \"yaxis\": \"y\"}, {\"hovertemplate\": \"<b>OLS trendline</b><br>Health (Life Expectancy) = 0.156273 * Happiness Score + -0.20982<br>R<sup>2</sup>=0.524465<br><br>Happiness Score=%{x}<br>Health (Life Expectancy)=%{y} <b>(trend)</b><extra></extra>\", \"legendgroup\": \"\", \"marker\": {\"color\": \"#636efa\", \"symbol\": \"circle\"}, \"mode\": \"lines\", \"name\": \"\", \"showlegend\": false, \"type\": \"scatter\", \"x\": [2.839, 2.905, 3.0060000000000002, 3.34, 3.465, 3.575, 3.5869999999999997, 3.655, 3.656, 3.667, 3.678, 3.681, 3.781, 3.819, 3.845, 3.8960000000000004, 3.904, 3.931, 3.9560000000000004, 3.989, 3.995, 4.033, 4.077, 4.194, 4.218, 4.252, 4.271, 4.292, 4.297, 4.3069999999999995, 4.332, 4.35, 4.369, 4.419, 4.436, 4.507, 4.512, 4.513999999999999, 4.5169999999999995, 4.518, 4.55, 4.565, 4.571000000000001, 4.61, 4.633, 4.6419999999999995, 4.677, 4.681, 4.686, 4.694, 4.715, 4.739, 4.7860000000000005, 4.788, 4.8, 4.8389999999999995, 4.857, 4.867, 4.874, 4.876, 4.885, 4.898, 4.949, 4.959, 4.971, 5.007, 5.013, 5.0569999999999995, 5.073, 5.098, 5.102, 5.122999999999999, 5.124, 5.129, 5.14, 5.192, 5.192, 5.194, 5.212000000000001, 5.252999999999999, 5.268, 5.2860000000000005, 5.332000000000001, 5.36, 5.399, 5.428999999999999, 5.474, 5.477, 5.547999999999999, 5.5889999999999995, 5.605, 5.689, 5.695, 5.709, 5.716, 5.754, 5.7589999999999995, 5.77, 5.791, 5.813, 5.824, 5.827999999999999, 5.832999999999999, 5.848, 5.855, 5.877999999999999, 5.888999999999999, 5.89, 5.9479999999999995, 5.96, 5.975, 5.984, 5.987, 5.995, 6.002999999999999, 6.122999999999999, 6.13, 6.167999999999999, 6.269, 6.295, 6.297999999999999, 6.3020000000000005, 6.329, 6.4110000000000005, 6.455, 6.477, 6.485, 6.505, 6.574, 6.575, 6.611000000000001, 6.67, 6.75, 6.7860000000000005, 6.797999999999999, 6.81, 6.853, 6.867000000000001, 6.901, 6.937, 6.94, 6.946000000000001, 6.983, 7.119, 7.187, 7.2, 7.226, 7.278, 7.284, 7.2860000000000005, 7.364, 7.377999999999999, 7.406000000000001, 7.4270000000000005, 7.522, 7.527, 7.561, 7.587000000000001], \"xaxis\": \"x\", \"y\": [0.23383752663677315, 0.2441515129049534, 0.2599350373456536, 0.3121300587634144, 0.331664123665271, 0.3488541007789048, 0.350729371009483, 0.36135590231609294, 0.36151217483530784, 0.36323117254667125, 0.36495017025803467, 0.36541898781567916, 0.38104623973716445, 0.3869845954673289, 0.3910476809669151, 0.39901757944687255, 0.40026775960059136, 0.4044871176193924, 0.4083939305997638, 0.4135509237338538, 0.41448855884914304, 0.4204269145793075, 0.4273029054247609, 0.4455867901728987, 0.4493373306340551, 0.45465059628736015, 0.45761977415244237, 0.4609014970559542, 0.4616828596520285, 0.463245584844177, 0.4671523978245483, 0.4699653031704156, 0.47293448103549784, 0.4807481069962405, 0.483404739822893, 0.49450008868714757, 0.49528145128322176, 0.49559399632165146, 0.49606281387929607, 0.496219086398511, 0.5012198070133862, 0.5035638948016091, 0.5045015299168983, 0.5105961581662775, 0.5141904261082191, 0.5155968787811527, 0.5210664169536725, 0.521691507030532, 0.5224728696266062, 0.523723049780325, 0.5270047726838369, 0.5307553131449935, 0.5381001215480916, 0.5384126665865213, 0.5402879368170994, 0.5463825650664786, 0.5491954704123462, 0.5507581956044946, 0.5518521032389986, 0.5521646482774284, 0.5535711009503619, 0.555602643700155, 0.5635725421801125, 0.565135267372261, 0.5670105376028394, 0.572636348294574, 0.5735739834098631, 0.5804499742553165, 0.5829503345627544, 0.5868571475431256, 0.5874822376199851, 0.5907639605234968, 0.5909202330427117, 0.591701595638786, 0.5934205933501494, 0.6015467643493217, 0.6015467643493217, 0.6018593093877515, 0.604672214733619, 0.6110793880214277, 0.6134234758096505, 0.616236381155518, 0.6234249170394013, 0.6278005475774171, 0.6338951758267963, 0.6385833514032417, 0.6456156147679103, 0.6460844323255549, 0.6571797811898092, 0.6635869544776183, 0.666087314785056, 0.6792142063991037, 0.6801518415143928, 0.6823396567834006, 0.6834335644179047, 0.689371920148069, 0.6901532827441432, 0.6918722804555066, 0.6951540033590187, 0.6985919987817453, 0.7003109964931087, 0.7009360865699681, 0.7017174491660423, 0.7040615369542652, 0.7051554445887692, 0.7087497125307107, 0.710468710242074, 0.7106249827612889, 0.7196887888757504, 0.7215640591063287, 0.7239081468945515, 0.7253145995674852, 0.7257834171251297, 0.7270335972788486, 0.7282837774325672, 0.7470364797383496, 0.7481303873728536, 0.754068743103018, 0.7698522675437183, 0.7739153530433044, 0.7743841706009489, 0.7750092606778085, 0.7792286186966094, 0.7920429652722275, 0.7989189561176809, 0.8023569515404078, 0.8036071316941266, 0.8067325820784236, 0.8175153859042482, 0.8176716584234632, 0.8232974691151981, 0.8325175477488741, 0.8450193492860624, 0.8506451599777972, 0.8525204302083752, 0.8543957004389536, 0.8611154187651923, 0.8633032340342003, 0.8686164996875051, 0.8742423103792399, 0.8747111279368845, 0.8756487630521738, 0.8814308462631232, 0.9026839088763431, 0.9133104401829532, 0.9153419829327462, 0.9194050684323324, 0.9275312394315046, 0.9284688745467938, 0.9287814195852236, 0.9409706760839821, 0.9431584913529899, 0.9475341218910059, 0.950815844794518, 0.9656617341199288, 0.966443096716003, 0.9717563623693081, 0.9758194478688943], \"yaxis\": \"y\"}],\n",
       "                        {\"legend\": {\"tracegroupgap\": 0}, \"margin\": {\"t\": 60}, \"template\": {\"data\": {\"bar\": [{\"error_x\": {\"color\": \"#2a3f5f\"}, \"error_y\": {\"color\": \"#2a3f5f\"}, \"marker\": {\"line\": {\"color\": \"#E5ECF6\", \"width\": 0.5}}, \"type\": \"bar\"}], \"barpolar\": [{\"marker\": {\"line\": {\"color\": \"#E5ECF6\", \"width\": 0.5}}, \"type\": \"barpolar\"}], \"carpet\": [{\"aaxis\": {\"endlinecolor\": \"#2a3f5f\", \"gridcolor\": \"white\", \"linecolor\": \"white\", \"minorgridcolor\": \"white\", \"startlinecolor\": \"#2a3f5f\"}, \"baxis\": {\"endlinecolor\": \"#2a3f5f\", \"gridcolor\": \"white\", \"linecolor\": \"white\", \"minorgridcolor\": \"white\", \"startlinecolor\": \"#2a3f5f\"}, \"type\": \"carpet\"}], \"choropleth\": [{\"colorbar\": {\"outlinewidth\": 0, \"ticks\": \"\"}, \"type\": \"choropleth\"}], \"contour\": [{\"colorbar\": {\"outlinewidth\": 0, \"ticks\": \"\"}, \"colorscale\": [[0.0, \"#0d0887\"], [0.1111111111111111, \"#46039f\"], [0.2222222222222222, \"#7201a8\"], [0.3333333333333333, \"#9c179e\"], [0.4444444444444444, \"#bd3786\"], [0.5555555555555556, \"#d8576b\"], [0.6666666666666666, \"#ed7953\"], [0.7777777777777778, \"#fb9f3a\"], [0.8888888888888888, \"#fdca26\"], [1.0, \"#f0f921\"]], \"type\": \"contour\"}], \"contourcarpet\": [{\"colorbar\": {\"outlinewidth\": 0, \"ticks\": \"\"}, \"type\": \"contourcarpet\"}], \"heatmap\": [{\"colorbar\": {\"outlinewidth\": 0, \"ticks\": \"\"}, \"colorscale\": [[0.0, \"#0d0887\"], [0.1111111111111111, \"#46039f\"], [0.2222222222222222, \"#7201a8\"], [0.3333333333333333, \"#9c179e\"], [0.4444444444444444, \"#bd3786\"], [0.5555555555555556, \"#d8576b\"], [0.6666666666666666, \"#ed7953\"], [0.7777777777777778, \"#fb9f3a\"], [0.8888888888888888, \"#fdca26\"], [1.0, \"#f0f921\"]], \"type\": \"heatmap\"}], \"heatmapgl\": [{\"colorbar\": {\"outlinewidth\": 0, \"ticks\": \"\"}, \"colorscale\": [[0.0, \"#0d0887\"], [0.1111111111111111, \"#46039f\"], [0.2222222222222222, \"#7201a8\"], [0.3333333333333333, \"#9c179e\"], [0.4444444444444444, \"#bd3786\"], [0.5555555555555556, \"#d8576b\"], [0.6666666666666666, \"#ed7953\"], [0.7777777777777778, \"#fb9f3a\"], [0.8888888888888888, \"#fdca26\"], [1.0, \"#f0f921\"]], \"type\": \"heatmapgl\"}], \"histogram\": [{\"marker\": {\"colorbar\": {\"outlinewidth\": 0, \"ticks\": \"\"}}, \"type\": \"histogram\"}], \"histogram2d\": [{\"colorbar\": {\"outlinewidth\": 0, \"ticks\": \"\"}, \"colorscale\": [[0.0, \"#0d0887\"], [0.1111111111111111, \"#46039f\"], [0.2222222222222222, \"#7201a8\"], [0.3333333333333333, \"#9c179e\"], [0.4444444444444444, \"#bd3786\"], [0.5555555555555556, \"#d8576b\"], [0.6666666666666666, \"#ed7953\"], [0.7777777777777778, \"#fb9f3a\"], [0.8888888888888888, \"#fdca26\"], [1.0, \"#f0f921\"]], \"type\": \"histogram2d\"}], \"histogram2dcontour\": [{\"colorbar\": {\"outlinewidth\": 0, \"ticks\": \"\"}, \"colorscale\": [[0.0, \"#0d0887\"], [0.1111111111111111, \"#46039f\"], [0.2222222222222222, \"#7201a8\"], [0.3333333333333333, \"#9c179e\"], [0.4444444444444444, \"#bd3786\"], [0.5555555555555556, \"#d8576b\"], [0.6666666666666666, \"#ed7953\"], [0.7777777777777778, \"#fb9f3a\"], [0.8888888888888888, \"#fdca26\"], [1.0, \"#f0f921\"]], \"type\": \"histogram2dcontour\"}], \"mesh3d\": [{\"colorbar\": {\"outlinewidth\": 0, \"ticks\": \"\"}, \"type\": \"mesh3d\"}], \"parcoords\": [{\"line\": {\"colorbar\": {\"outlinewidth\": 0, \"ticks\": \"\"}}, \"type\": \"parcoords\"}], \"pie\": [{\"automargin\": true, \"type\": \"pie\"}], \"scatter\": [{\"marker\": {\"colorbar\": {\"outlinewidth\": 0, \"ticks\": \"\"}}, \"type\": \"scatter\"}], \"scatter3d\": [{\"line\": {\"colorbar\": {\"outlinewidth\": 0, \"ticks\": \"\"}}, \"marker\": {\"colorbar\": {\"outlinewidth\": 0, \"ticks\": \"\"}}, \"type\": \"scatter3d\"}], \"scattercarpet\": [{\"marker\": {\"colorbar\": {\"outlinewidth\": 0, \"ticks\": \"\"}}, \"type\": \"scattercarpet\"}], \"scattergeo\": [{\"marker\": {\"colorbar\": {\"outlinewidth\": 0, \"ticks\": \"\"}}, \"type\": \"scattergeo\"}], \"scattergl\": [{\"marker\": {\"colorbar\": {\"outlinewidth\": 0, \"ticks\": \"\"}}, \"type\": \"scattergl\"}], \"scattermapbox\": [{\"marker\": {\"colorbar\": {\"outlinewidth\": 0, \"ticks\": \"\"}}, \"type\": \"scattermapbox\"}], \"scatterpolar\": [{\"marker\": {\"colorbar\": {\"outlinewidth\": 0, \"ticks\": \"\"}}, \"type\": \"scatterpolar\"}], \"scatterpolargl\": [{\"marker\": {\"colorbar\": {\"outlinewidth\": 0, \"ticks\": \"\"}}, \"type\": \"scatterpolargl\"}], \"scatterternary\": [{\"marker\": {\"colorbar\": {\"outlinewidth\": 0, \"ticks\": \"\"}}, \"type\": \"scatterternary\"}], \"surface\": [{\"colorbar\": {\"outlinewidth\": 0, \"ticks\": \"\"}, \"colorscale\": [[0.0, \"#0d0887\"], [0.1111111111111111, \"#46039f\"], [0.2222222222222222, \"#7201a8\"], [0.3333333333333333, \"#9c179e\"], [0.4444444444444444, \"#bd3786\"], [0.5555555555555556, \"#d8576b\"], [0.6666666666666666, \"#ed7953\"], [0.7777777777777778, \"#fb9f3a\"], [0.8888888888888888, \"#fdca26\"], [1.0, \"#f0f921\"]], \"type\": \"surface\"}], \"table\": [{\"cells\": {\"fill\": {\"color\": \"#EBF0F8\"}, \"line\": {\"color\": \"white\"}}, \"header\": {\"fill\": {\"color\": \"#C8D4E3\"}, \"line\": {\"color\": \"white\"}}, \"type\": \"table\"}]}, \"layout\": {\"annotationdefaults\": {\"arrowcolor\": \"#2a3f5f\", \"arrowhead\": 0, \"arrowwidth\": 1}, \"coloraxis\": {\"colorbar\": {\"outlinewidth\": 0, \"ticks\": \"\"}}, \"colorscale\": {\"diverging\": [[0, \"#8e0152\"], [0.1, \"#c51b7d\"], [0.2, \"#de77ae\"], [0.3, \"#f1b6da\"], [0.4, \"#fde0ef\"], [0.5, \"#f7f7f7\"], [0.6, \"#e6f5d0\"], [0.7, \"#b8e186\"], [0.8, \"#7fbc41\"], [0.9, \"#4d9221\"], [1, \"#276419\"]], \"sequential\": [[0.0, \"#0d0887\"], [0.1111111111111111, \"#46039f\"], [0.2222222222222222, \"#7201a8\"], [0.3333333333333333, \"#9c179e\"], [0.4444444444444444, \"#bd3786\"], [0.5555555555555556, \"#d8576b\"], [0.6666666666666666, \"#ed7953\"], [0.7777777777777778, \"#fb9f3a\"], [0.8888888888888888, \"#fdca26\"], [1.0, \"#f0f921\"]], \"sequentialminus\": [[0.0, \"#0d0887\"], [0.1111111111111111, \"#46039f\"], [0.2222222222222222, \"#7201a8\"], [0.3333333333333333, \"#9c179e\"], [0.4444444444444444, \"#bd3786\"], [0.5555555555555556, \"#d8576b\"], [0.6666666666666666, \"#ed7953\"], [0.7777777777777778, \"#fb9f3a\"], [0.8888888888888888, \"#fdca26\"], [1.0, \"#f0f921\"]]}, \"colorway\": [\"#636efa\", \"#EF553B\", \"#00cc96\", \"#ab63fa\", \"#FFA15A\", \"#19d3f3\", \"#FF6692\", \"#B6E880\", \"#FF97FF\", \"#FECB52\"], \"font\": {\"color\": \"#2a3f5f\"}, \"geo\": {\"bgcolor\": \"white\", \"lakecolor\": \"white\", \"landcolor\": \"#E5ECF6\", \"showlakes\": true, \"showland\": true, \"subunitcolor\": \"white\"}, \"hoverlabel\": {\"align\": \"left\"}, \"hovermode\": \"closest\", \"mapbox\": {\"style\": \"light\"}, \"paper_bgcolor\": \"white\", \"plot_bgcolor\": \"#E5ECF6\", \"polar\": {\"angularaxis\": {\"gridcolor\": \"white\", \"linecolor\": \"white\", \"ticks\": \"\"}, \"bgcolor\": \"#E5ECF6\", \"radialaxis\": {\"gridcolor\": \"white\", \"linecolor\": \"white\", \"ticks\": \"\"}}, \"scene\": {\"xaxis\": {\"backgroundcolor\": \"#E5ECF6\", \"gridcolor\": \"white\", \"gridwidth\": 2, \"linecolor\": \"white\", \"showbackground\": true, \"ticks\": \"\", \"zerolinecolor\": \"white\"}, \"yaxis\": {\"backgroundcolor\": \"#E5ECF6\", \"gridcolor\": \"white\", \"gridwidth\": 2, \"linecolor\": \"white\", \"showbackground\": true, \"ticks\": \"\", \"zerolinecolor\": \"white\"}, \"zaxis\": {\"backgroundcolor\": \"#E5ECF6\", \"gridcolor\": \"white\", \"gridwidth\": 2, \"linecolor\": \"white\", \"showbackground\": true, \"ticks\": \"\", \"zerolinecolor\": \"white\"}}, \"shapedefaults\": {\"line\": {\"color\": \"#2a3f5f\"}}, \"ternary\": {\"aaxis\": {\"gridcolor\": \"white\", \"linecolor\": \"white\", \"ticks\": \"\"}, \"baxis\": {\"gridcolor\": \"white\", \"linecolor\": \"white\", \"ticks\": \"\"}, \"bgcolor\": \"#E5ECF6\", \"caxis\": {\"gridcolor\": \"white\", \"linecolor\": \"white\", \"ticks\": \"\"}}, \"title\": {\"x\": 0.05}, \"xaxis\": {\"automargin\": true, \"gridcolor\": \"white\", \"linecolor\": \"white\", \"ticks\": \"\", \"title\": {\"standoff\": 15}, \"zerolinecolor\": \"white\", \"zerolinewidth\": 2}, \"yaxis\": {\"automargin\": true, \"gridcolor\": \"white\", \"linecolor\": \"white\", \"ticks\": \"\", \"title\": {\"standoff\": 15}, \"zerolinecolor\": \"white\", \"zerolinewidth\": 2}}}, \"xaxis\": {\"anchor\": \"y\", \"domain\": [0.0, 1.0], \"title\": {\"text\": \"Happiness Score\"}}, \"yaxis\": {\"anchor\": \"x\", \"domain\": [0.0, 1.0], \"title\": {\"text\": \"Health (Life Expectancy)\"}}},\n",
       "                        {\"responsive\": true}\n",
       "                    ).then(function(){\n",
       "                            \n",
       "var gd = document.getElementById('f7635b6d-a74f-4bb7-a1f1-5809151e631b');\n",
       "var x = new MutationObserver(function (mutations, observer) {{\n",
       "        var display = window.getComputedStyle(gd).display;\n",
       "        if (!display || display === 'none') {{\n",
       "            console.log([gd, 'removed!']);\n",
       "            Plotly.purge(gd);\n",
       "            observer.disconnect();\n",
       "        }}\n",
       "}});\n",
       "\n",
       "// Listen for the removal of the full notebook cells\n",
       "var notebookContainer = gd.closest('#notebook-container');\n",
       "if (notebookContainer) {{\n",
       "    x.observe(notebookContainer, {childList: true});\n",
       "}}\n",
       "\n",
       "// Listen for the clearing of the current output cell\n",
       "var outputEl = gd.closest('.output');\n",
       "if (outputEl) {{\n",
       "    x.observe(outputEl, {childList: true});\n",
       "}}\n",
       "\n",
       "                        })\n",
       "                };\n",
       "                });\n",
       "            </script>\n",
       "        </div>"
      ]
     },
     "metadata": {},
     "output_type": "display_data"
    }
   ],
   "source": [
    "fig = px.scatter(df, x=\"Happiness Score\", y=\"Economy (GDP per Capita)\", trendline=\"ols\")\n",
    "fig.show()\n",
    "fig = px.scatter(df, x=\"Happiness Score\", y=\"Family\", trendline=\"ols\")\n",
    "fig.show()\n",
    "fig = px.scatter(df, x=\"Happiness Score\", y=\"Health (Life Expectancy)\", trendline=\"ols\")\n",
    "fig.show()"
   ]
  },
  {
   "cell_type": "code",
   "execution_count": 57,
   "metadata": {},
   "outputs": [],
   "source": [
    "df['Continent'] = df['Region']\n",
    "df['Continent']=df['Continent'].apply(lambda x: x.replace('Western Europe', 'Europe'))\n",
    "df['Continent']=df['Continent'].apply(lambda x: x.replace('Central and Eastern Europe', 'Europe'))\n",
    "df['Continent']=df['Continent'].apply(lambda x: x.replace('Middle East and Northern Africa', 'Africa'))\n",
    "df['Continent']=df['Continent'].apply(lambda x: x.replace('Sub-Saharan Africa', 'Africa'))\n",
    "df['Continent']=df['Continent'].apply(lambda x: x.replace('Southeastern Asia', 'Asia'))\n",
    "df['Continent']=df['Continent'].apply(lambda x: x.replace('Eastern Asia', 'Asia'))\n",
    "df['Continent']=df['Continent'].apply(lambda x: x.replace('Southern Asia', 'Asia'))"
   ]
  },
  {
   "cell_type": "code",
   "execution_count": 59,
   "metadata": {},
   "outputs": [
    {
     "data": {
      "text/html": [
       "<div>\n",
       "<style scoped>\n",
       "    .dataframe tbody tr th:only-of-type {\n",
       "        vertical-align: middle;\n",
       "    }\n",
       "\n",
       "    .dataframe tbody tr th {\n",
       "        vertical-align: top;\n",
       "    }\n",
       "\n",
       "    .dataframe thead th {\n",
       "        text-align: right;\n",
       "    }\n",
       "</style>\n",
       "<table border=\"1\" class=\"dataframe\">\n",
       "  <thead>\n",
       "    <tr style=\"text-align: right;\">\n",
       "      <th></th>\n",
       "      <th>Country</th>\n",
       "      <th>Region</th>\n",
       "      <th>Happiness Rank</th>\n",
       "      <th>Happiness Score</th>\n",
       "      <th>Standard Error</th>\n",
       "      <th>Economy (GDP per Capita)</th>\n",
       "      <th>Family</th>\n",
       "      <th>Health (Life Expectancy)</th>\n",
       "      <th>Freedom</th>\n",
       "      <th>Trust (Government Corruption)</th>\n",
       "      <th>Generosity</th>\n",
       "      <th>Dystopia Residual</th>\n",
       "      <th>Continent</th>\n",
       "    </tr>\n",
       "  </thead>\n",
       "  <tbody>\n",
       "    <tr>\n",
       "      <th>0</th>\n",
       "      <td>Switzerland</td>\n",
       "      <td>Western Europe</td>\n",
       "      <td>1</td>\n",
       "      <td>7.587</td>\n",
       "      <td>0.03411</td>\n",
       "      <td>1.39651</td>\n",
       "      <td>1.34951</td>\n",
       "      <td>0.94143</td>\n",
       "      <td>0.66557</td>\n",
       "      <td>0.41978</td>\n",
       "      <td>0.29678</td>\n",
       "      <td>2.51738</td>\n",
       "      <td>Europe</td>\n",
       "    </tr>\n",
       "    <tr>\n",
       "      <th>1</th>\n",
       "      <td>Iceland</td>\n",
       "      <td>Western Europe</td>\n",
       "      <td>2</td>\n",
       "      <td>7.561</td>\n",
       "      <td>0.04884</td>\n",
       "      <td>1.30232</td>\n",
       "      <td>1.40223</td>\n",
       "      <td>0.94784</td>\n",
       "      <td>0.62877</td>\n",
       "      <td>0.14145</td>\n",
       "      <td>0.43630</td>\n",
       "      <td>2.70201</td>\n",
       "      <td>Europe</td>\n",
       "    </tr>\n",
       "    <tr>\n",
       "      <th>2</th>\n",
       "      <td>Denmark</td>\n",
       "      <td>Western Europe</td>\n",
       "      <td>3</td>\n",
       "      <td>7.527</td>\n",
       "      <td>0.03328</td>\n",
       "      <td>1.32548</td>\n",
       "      <td>1.36058</td>\n",
       "      <td>0.87464</td>\n",
       "      <td>0.64938</td>\n",
       "      <td>0.48357</td>\n",
       "      <td>0.34139</td>\n",
       "      <td>2.49204</td>\n",
       "      <td>Europe</td>\n",
       "    </tr>\n",
       "    <tr>\n",
       "      <th>3</th>\n",
       "      <td>Norway</td>\n",
       "      <td>Western Europe</td>\n",
       "      <td>4</td>\n",
       "      <td>7.522</td>\n",
       "      <td>0.03880</td>\n",
       "      <td>1.45900</td>\n",
       "      <td>1.33095</td>\n",
       "      <td>0.88521</td>\n",
       "      <td>0.66973</td>\n",
       "      <td>0.36503</td>\n",
       "      <td>0.34699</td>\n",
       "      <td>2.46531</td>\n",
       "      <td>Europe</td>\n",
       "    </tr>\n",
       "    <tr>\n",
       "      <th>4</th>\n",
       "      <td>Canada</td>\n",
       "      <td>North America</td>\n",
       "      <td>5</td>\n",
       "      <td>7.427</td>\n",
       "      <td>0.03553</td>\n",
       "      <td>1.32629</td>\n",
       "      <td>1.32261</td>\n",
       "      <td>0.90563</td>\n",
       "      <td>0.63297</td>\n",
       "      <td>0.32957</td>\n",
       "      <td>0.45811</td>\n",
       "      <td>2.45176</td>\n",
       "      <td>North America</td>\n",
       "    </tr>\n",
       "  </tbody>\n",
       "</table>\n",
       "</div>"
      ],
      "text/plain": [
       "       Country          Region  Happiness Rank  Happiness Score  \\\n",
       "0  Switzerland  Western Europe               1            7.587   \n",
       "1      Iceland  Western Europe               2            7.561   \n",
       "2      Denmark  Western Europe               3            7.527   \n",
       "3       Norway  Western Europe               4            7.522   \n",
       "4       Canada   North America               5            7.427   \n",
       "\n",
       "   Standard Error  Economy (GDP per Capita)   Family  \\\n",
       "0         0.03411                   1.39651  1.34951   \n",
       "1         0.04884                   1.30232  1.40223   \n",
       "2         0.03328                   1.32548  1.36058   \n",
       "3         0.03880                   1.45900  1.33095   \n",
       "4         0.03553                   1.32629  1.32261   \n",
       "\n",
       "   Health (Life Expectancy)  Freedom  Trust (Government Corruption)  \\\n",
       "0                   0.94143  0.66557                        0.41978   \n",
       "1                   0.94784  0.62877                        0.14145   \n",
       "2                   0.87464  0.64938                        0.48357   \n",
       "3                   0.88521  0.66973                        0.36503   \n",
       "4                   0.90563  0.63297                        0.32957   \n",
       "\n",
       "   Generosity  Dystopia Residual      Continent  \n",
       "0     0.29678            2.51738         Europe  \n",
       "1     0.43630            2.70201         Europe  \n",
       "2     0.34139            2.49204         Europe  \n",
       "3     0.34699            2.46531         Europe  \n",
       "4     0.45811            2.45176  North America  "
      ]
     },
     "execution_count": 59,
     "metadata": {},
     "output_type": "execute_result"
    }
   ],
   "source": [
    "df.head()"
   ]
  },
  {
   "cell_type": "code",
   "execution_count": 182,
   "metadata": {},
   "outputs": [
    {
     "data": {
      "application/vnd.plotly.v1+json": {
       "config": {
        "linkText": "Export to plot.ly",
        "plotlyServerURL": "https://plot.ly",
        "showLink": false
       },
       "data": [
        {
         "marker": {
          "color": "#e74c3c",
          "line": {
           "color": "#c0392b",
           "width": 1
          }
         },
         "mode": "markers",
         "opacity": 0.8,
         "text": [
          "Switzerland",
          "Iceland",
          "Denmark",
          "Norway",
          "Canada",
          "Finland",
          "Netherlands",
          "Sweden",
          "New Zealand",
          "Australia",
          "Israel",
          "Costa Rica",
          "Austria",
          "Mexico",
          "United States",
          "Brazil",
          "Luxembourg",
          "Ireland",
          "Belgium",
          "United Arab Emirates",
          "United Kingdom",
          "Oman",
          "Venezuela",
          "Singapore",
          "Panama",
          "Germany",
          "Chile",
          "Qatar",
          "France",
          "Argentina",
          "Czech Republic",
          "Uruguay",
          "Colombia",
          "Thailand",
          "Saudi Arabia",
          "Spain",
          "Malta",
          "Taiwan",
          "Kuwait",
          "Suriname",
          "Trinidad and Tobago",
          "El Salvador",
          "Guatemala",
          "Uzbekistan",
          "Slovakia",
          "Japan",
          "South Korea",
          "Ecuador",
          "Bahrain",
          "Italy",
          "Bolivia",
          "Moldova",
          "Paraguay",
          "Kazakhstan",
          "Slovenia",
          "Lithuania",
          "Nicaragua",
          "Peru",
          "Belarus",
          "Poland",
          "Malaysia",
          "Croatia",
          "Libya",
          "Russia",
          "Jamaica",
          "North Cyprus",
          "Cyprus",
          "Algeria",
          "Kosovo",
          "Turkmenistan",
          "Mauritius",
          "Hong Kong",
          "Estonia",
          "Indonesia",
          "Vietnam",
          "Turkey",
          "Kyrgyzstan",
          "Nigeria",
          "Bhutan",
          "Azerbaijan",
          "Pakistan",
          "Jordan",
          "Montenegro",
          "China",
          "Zambia",
          "Romania",
          "Serbia",
          "Portugal",
          "Latvia",
          "Philippines",
          "Somaliland region",
          "Morocco",
          "Macedonia",
          "Mozambique",
          "Albania",
          "Bosnia and Herzegovina",
          "Lesotho",
          "Dominican Republic",
          "Laos",
          "Mongolia",
          "Swaziland",
          "Greece",
          "Lebanon",
          "Hungary",
          "Honduras",
          "Tajikistan",
          "Tunisia",
          "Palestinian Territories",
          "Bangladesh",
          "Iran",
          "Ukraine",
          "Iraq",
          "South Africa",
          "Ghana",
          "Zimbabwe",
          "Liberia",
          "India",
          "Sudan",
          "Haiti",
          "Congo (Kinshasa)",
          "Nepal",
          "Ethiopia",
          "Sierra Leone",
          "Mauritania",
          "Kenya",
          "Djibouti",
          "Armenia",
          "Botswana",
          "Myanmar",
          "Georgia",
          "Malawi",
          "Sri Lanka",
          "Cameroon",
          "Bulgaria",
          "Egypt",
          "Yemen",
          "Angola",
          "Mali",
          "Congo (Brazzaville)",
          "Comoros",
          "Uganda",
          "Senegal",
          "Gabon",
          "Niger",
          "Cambodia",
          "Tanzania",
          "Madagascar",
          "Central African Republic",
          "Chad",
          "Guinea",
          "Ivory Coast",
          "Burkina Faso",
          "Afghanistan",
          "Rwanda",
          "Benin",
          "Syria",
          "Burundi",
          "Togo"
         ],
         "type": "scatter",
         "x": [
          "Europe",
          "Europe",
          "Europe",
          "Europe",
          "North America",
          "Europe",
          "Europe",
          "Europe",
          "Australia and New Zealand",
          "Australia and New Zealand",
          "Africa",
          "Latin America and Caribbean",
          "Europe",
          "Latin America and Caribbean",
          "North America",
          "Latin America and Caribbean",
          "Europe",
          "Europe",
          "Europe",
          "Africa",
          "Europe",
          "Africa",
          "Latin America and Caribbean",
          "Asia",
          "Latin America and Caribbean",
          "Europe",
          "Latin America and Caribbean",
          "Africa",
          "Europe",
          "Latin America and Caribbean",
          "Europe",
          "Latin America and Caribbean",
          "Latin America and Caribbean",
          "Asia",
          "Africa",
          "Europe",
          "Europe",
          "Asia",
          "Africa",
          "Latin America and Caribbean",
          "Latin America and Caribbean",
          "Latin America and Caribbean",
          "Latin America and Caribbean",
          "Europe",
          "Europe",
          "Asia",
          "Asia",
          "Latin America and Caribbean",
          "Africa",
          "Europe",
          "Latin America and Caribbean",
          "Europe",
          "Latin America and Caribbean",
          "Europe",
          "Europe",
          "Europe",
          "Latin America and Caribbean",
          "Latin America and Caribbean",
          "Europe",
          "Europe",
          "Asia",
          "Europe",
          "Africa",
          "Europe",
          "Latin America and Caribbean",
          "Europe",
          "Europe",
          "Africa",
          "Europe",
          "Europe",
          "Africa",
          "Asia",
          "Europe",
          "Asia",
          "Asia",
          "Africa",
          "Europe",
          "Africa",
          "Asia",
          "Europe",
          "Asia",
          "Africa",
          "Europe",
          "Asia",
          "Africa",
          "Europe",
          "Europe",
          "Europe",
          "Europe",
          "Asia",
          "Africa",
          "Africa",
          "Europe",
          "Africa",
          "Europe",
          "Europe",
          "Africa",
          "Latin America and Caribbean",
          "Asia",
          "Asia",
          "Africa",
          "Europe",
          "Africa",
          "Europe",
          "Latin America and Caribbean",
          "Europe",
          "Africa",
          "Africa",
          "Asia",
          "Africa",
          "Europe",
          "Africa",
          "Africa",
          "Africa",
          "Africa",
          "Africa",
          "Asia",
          "Africa",
          "Latin America and Caribbean",
          "Africa",
          "Asia",
          "Africa",
          "Africa",
          "Africa",
          "Africa",
          "Africa",
          "Europe",
          "Africa",
          "Asia",
          "Europe",
          "Africa",
          "Asia",
          "Africa",
          "Europe",
          "Africa",
          "Africa",
          "Africa",
          "Africa",
          "Africa",
          "Africa",
          "Africa",
          "Africa",
          "Africa",
          "Africa",
          "Asia",
          "Africa",
          "Africa",
          "Africa",
          "Africa",
          "Africa",
          "Africa",
          "Africa",
          "Asia",
          "Africa",
          "Africa",
          "Africa",
          "Africa",
          "Africa"
         ],
         "y": [
          7.587000000000001,
          7.561,
          7.527,
          7.522,
          7.4270000000000005,
          7.406000000000001,
          7.377999999999999,
          7.364,
          7.2860000000000005,
          7.284,
          7.278,
          7.226,
          7.2,
          7.187,
          7.119,
          6.983,
          6.946000000000001,
          6.94,
          6.937,
          6.901,
          6.867000000000001,
          6.853,
          6.81,
          6.797999999999999,
          6.7860000000000005,
          6.75,
          6.67,
          6.611000000000001,
          6.575,
          6.574,
          6.505,
          6.485,
          6.477,
          6.455,
          6.4110000000000005,
          6.329,
          6.3020000000000005,
          6.297999999999999,
          6.295,
          6.269,
          6.167999999999999,
          6.13,
          6.122999999999999,
          6.002999999999999,
          5.995,
          5.987,
          5.984,
          5.975,
          5.96,
          5.9479999999999995,
          5.89,
          5.888999999999999,
          5.877999999999999,
          5.855,
          5.848,
          5.832999999999999,
          5.827999999999999,
          5.824,
          5.813,
          5.791,
          5.77,
          5.7589999999999995,
          5.754,
          5.716,
          5.709,
          5.695,
          5.689,
          5.605,
          5.5889999999999995,
          5.547999999999999,
          5.477,
          5.474,
          5.428999999999999,
          5.399,
          5.36,
          5.332000000000001,
          5.2860000000000005,
          5.268,
          5.252999999999999,
          5.212000000000001,
          5.194,
          5.192,
          5.192,
          5.14,
          5.129,
          5.124,
          5.122999999999999,
          5.102,
          5.098,
          5.073,
          5.0569999999999995,
          5.013,
          5.007,
          4.971,
          4.959,
          4.949,
          4.898,
          4.885,
          4.876,
          4.874,
          4.867,
          4.857,
          4.8389999999999995,
          4.8,
          4.788,
          4.7860000000000005,
          4.739,
          4.715,
          4.694,
          4.686,
          4.681,
          4.677,
          4.6419999999999995,
          4.633,
          4.61,
          4.571000000000001,
          4.565,
          4.55,
          4.518,
          4.5169999999999995,
          4.513999999999999,
          4.512,
          4.507,
          4.436,
          4.419,
          4.369,
          4.35,
          4.332,
          4.3069999999999995,
          4.297,
          4.292,
          4.271,
          4.252,
          4.218,
          4.194,
          4.077,
          4.033,
          3.995,
          3.989,
          3.9560000000000004,
          3.931,
          3.904,
          3.8960000000000004,
          3.845,
          3.819,
          3.781,
          3.681,
          3.678,
          3.667,
          3.656,
          3.655,
          3.5869999999999997,
          3.575,
          3.465,
          3.34,
          3.0060000000000002,
          2.905,
          2.839
         ]
        }
       ],
       "layout": {
        "template": {
         "data": {
          "bar": [
           {
            "error_x": {
             "color": "#2a3f5f"
            },
            "error_y": {
             "color": "#2a3f5f"
            },
            "marker": {
             "line": {
              "color": "#E5ECF6",
              "width": 0.5
             }
            },
            "type": "bar"
           }
          ],
          "barpolar": [
           {
            "marker": {
             "line": {
              "color": "#E5ECF6",
              "width": 0.5
             }
            },
            "type": "barpolar"
           }
          ],
          "carpet": [
           {
            "aaxis": {
             "endlinecolor": "#2a3f5f",
             "gridcolor": "white",
             "linecolor": "white",
             "minorgridcolor": "white",
             "startlinecolor": "#2a3f5f"
            },
            "baxis": {
             "endlinecolor": "#2a3f5f",
             "gridcolor": "white",
             "linecolor": "white",
             "minorgridcolor": "white",
             "startlinecolor": "#2a3f5f"
            },
            "type": "carpet"
           }
          ],
          "choropleth": [
           {
            "colorbar": {
             "outlinewidth": 0,
             "ticks": ""
            },
            "type": "choropleth"
           }
          ],
          "contour": [
           {
            "colorbar": {
             "outlinewidth": 0,
             "ticks": ""
            },
            "colorscale": [
             [
              0,
              "#0d0887"
             ],
             [
              0.1111111111111111,
              "#46039f"
             ],
             [
              0.2222222222222222,
              "#7201a8"
             ],
             [
              0.3333333333333333,
              "#9c179e"
             ],
             [
              0.4444444444444444,
              "#bd3786"
             ],
             [
              0.5555555555555556,
              "#d8576b"
             ],
             [
              0.6666666666666666,
              "#ed7953"
             ],
             [
              0.7777777777777778,
              "#fb9f3a"
             ],
             [
              0.8888888888888888,
              "#fdca26"
             ],
             [
              1,
              "#f0f921"
             ]
            ],
            "type": "contour"
           }
          ],
          "contourcarpet": [
           {
            "colorbar": {
             "outlinewidth": 0,
             "ticks": ""
            },
            "type": "contourcarpet"
           }
          ],
          "heatmap": [
           {
            "colorbar": {
             "outlinewidth": 0,
             "ticks": ""
            },
            "colorscale": [
             [
              0,
              "#0d0887"
             ],
             [
              0.1111111111111111,
              "#46039f"
             ],
             [
              0.2222222222222222,
              "#7201a8"
             ],
             [
              0.3333333333333333,
              "#9c179e"
             ],
             [
              0.4444444444444444,
              "#bd3786"
             ],
             [
              0.5555555555555556,
              "#d8576b"
             ],
             [
              0.6666666666666666,
              "#ed7953"
             ],
             [
              0.7777777777777778,
              "#fb9f3a"
             ],
             [
              0.8888888888888888,
              "#fdca26"
             ],
             [
              1,
              "#f0f921"
             ]
            ],
            "type": "heatmap"
           }
          ],
          "heatmapgl": [
           {
            "colorbar": {
             "outlinewidth": 0,
             "ticks": ""
            },
            "colorscale": [
             [
              0,
              "#0d0887"
             ],
             [
              0.1111111111111111,
              "#46039f"
             ],
             [
              0.2222222222222222,
              "#7201a8"
             ],
             [
              0.3333333333333333,
              "#9c179e"
             ],
             [
              0.4444444444444444,
              "#bd3786"
             ],
             [
              0.5555555555555556,
              "#d8576b"
             ],
             [
              0.6666666666666666,
              "#ed7953"
             ],
             [
              0.7777777777777778,
              "#fb9f3a"
             ],
             [
              0.8888888888888888,
              "#fdca26"
             ],
             [
              1,
              "#f0f921"
             ]
            ],
            "type": "heatmapgl"
           }
          ],
          "histogram": [
           {
            "marker": {
             "colorbar": {
              "outlinewidth": 0,
              "ticks": ""
             }
            },
            "type": "histogram"
           }
          ],
          "histogram2d": [
           {
            "colorbar": {
             "outlinewidth": 0,
             "ticks": ""
            },
            "colorscale": [
             [
              0,
              "#0d0887"
             ],
             [
              0.1111111111111111,
              "#46039f"
             ],
             [
              0.2222222222222222,
              "#7201a8"
             ],
             [
              0.3333333333333333,
              "#9c179e"
             ],
             [
              0.4444444444444444,
              "#bd3786"
             ],
             [
              0.5555555555555556,
              "#d8576b"
             ],
             [
              0.6666666666666666,
              "#ed7953"
             ],
             [
              0.7777777777777778,
              "#fb9f3a"
             ],
             [
              0.8888888888888888,
              "#fdca26"
             ],
             [
              1,
              "#f0f921"
             ]
            ],
            "type": "histogram2d"
           }
          ],
          "histogram2dcontour": [
           {
            "colorbar": {
             "outlinewidth": 0,
             "ticks": ""
            },
            "colorscale": [
             [
              0,
              "#0d0887"
             ],
             [
              0.1111111111111111,
              "#46039f"
             ],
             [
              0.2222222222222222,
              "#7201a8"
             ],
             [
              0.3333333333333333,
              "#9c179e"
             ],
             [
              0.4444444444444444,
              "#bd3786"
             ],
             [
              0.5555555555555556,
              "#d8576b"
             ],
             [
              0.6666666666666666,
              "#ed7953"
             ],
             [
              0.7777777777777778,
              "#fb9f3a"
             ],
             [
              0.8888888888888888,
              "#fdca26"
             ],
             [
              1,
              "#f0f921"
             ]
            ],
            "type": "histogram2dcontour"
           }
          ],
          "mesh3d": [
           {
            "colorbar": {
             "outlinewidth": 0,
             "ticks": ""
            },
            "type": "mesh3d"
           }
          ],
          "parcoords": [
           {
            "line": {
             "colorbar": {
              "outlinewidth": 0,
              "ticks": ""
             }
            },
            "type": "parcoords"
           }
          ],
          "pie": [
           {
            "automargin": true,
            "type": "pie"
           }
          ],
          "scatter": [
           {
            "marker": {
             "colorbar": {
              "outlinewidth": 0,
              "ticks": ""
             }
            },
            "type": "scatter"
           }
          ],
          "scatter3d": [
           {
            "line": {
             "colorbar": {
              "outlinewidth": 0,
              "ticks": ""
             }
            },
            "marker": {
             "colorbar": {
              "outlinewidth": 0,
              "ticks": ""
             }
            },
            "type": "scatter3d"
           }
          ],
          "scattercarpet": [
           {
            "marker": {
             "colorbar": {
              "outlinewidth": 0,
              "ticks": ""
             }
            },
            "type": "scattercarpet"
           }
          ],
          "scattergeo": [
           {
            "marker": {
             "colorbar": {
              "outlinewidth": 0,
              "ticks": ""
             }
            },
            "type": "scattergeo"
           }
          ],
          "scattergl": [
           {
            "marker": {
             "colorbar": {
              "outlinewidth": 0,
              "ticks": ""
             }
            },
            "type": "scattergl"
           }
          ],
          "scattermapbox": [
           {
            "marker": {
             "colorbar": {
              "outlinewidth": 0,
              "ticks": ""
             }
            },
            "type": "scattermapbox"
           }
          ],
          "scatterpolar": [
           {
            "marker": {
             "colorbar": {
              "outlinewidth": 0,
              "ticks": ""
             }
            },
            "type": "scatterpolar"
           }
          ],
          "scatterpolargl": [
           {
            "marker": {
             "colorbar": {
              "outlinewidth": 0,
              "ticks": ""
             }
            },
            "type": "scatterpolargl"
           }
          ],
          "scatterternary": [
           {
            "marker": {
             "colorbar": {
              "outlinewidth": 0,
              "ticks": ""
             }
            },
            "type": "scatterternary"
           }
          ],
          "surface": [
           {
            "colorbar": {
             "outlinewidth": 0,
             "ticks": ""
            },
            "colorscale": [
             [
              0,
              "#0d0887"
             ],
             [
              0.1111111111111111,
              "#46039f"
             ],
             [
              0.2222222222222222,
              "#7201a8"
             ],
             [
              0.3333333333333333,
              "#9c179e"
             ],
             [
              0.4444444444444444,
              "#bd3786"
             ],
             [
              0.5555555555555556,
              "#d8576b"
             ],
             [
              0.6666666666666666,
              "#ed7953"
             ],
             [
              0.7777777777777778,
              "#fb9f3a"
             ],
             [
              0.8888888888888888,
              "#fdca26"
             ],
             [
              1,
              "#f0f921"
             ]
            ],
            "type": "surface"
           }
          ],
          "table": [
           {
            "cells": {
             "fill": {
              "color": "#EBF0F8"
             },
             "line": {
              "color": "white"
             }
            },
            "header": {
             "fill": {
              "color": "#C8D4E3"
             },
             "line": {
              "color": "white"
             }
            },
            "type": "table"
           }
          ]
         },
         "layout": {
          "annotationdefaults": {
           "arrowcolor": "#2a3f5f",
           "arrowhead": 0,
           "arrowwidth": 1
          },
          "coloraxis": {
           "colorbar": {
            "outlinewidth": 0,
            "ticks": ""
           }
          },
          "colorscale": {
           "diverging": [
            [
             0,
             "#8e0152"
            ],
            [
             0.1,
             "#c51b7d"
            ],
            [
             0.2,
             "#de77ae"
            ],
            [
             0.3,
             "#f1b6da"
            ],
            [
             0.4,
             "#fde0ef"
            ],
            [
             0.5,
             "#f7f7f7"
            ],
            [
             0.6,
             "#e6f5d0"
            ],
            [
             0.7,
             "#b8e186"
            ],
            [
             0.8,
             "#7fbc41"
            ],
            [
             0.9,
             "#4d9221"
            ],
            [
             1,
             "#276419"
            ]
           ],
           "sequential": [
            [
             0,
             "#0d0887"
            ],
            [
             0.1111111111111111,
             "#46039f"
            ],
            [
             0.2222222222222222,
             "#7201a8"
            ],
            [
             0.3333333333333333,
             "#9c179e"
            ],
            [
             0.4444444444444444,
             "#bd3786"
            ],
            [
             0.5555555555555556,
             "#d8576b"
            ],
            [
             0.6666666666666666,
             "#ed7953"
            ],
            [
             0.7777777777777778,
             "#fb9f3a"
            ],
            [
             0.8888888888888888,
             "#fdca26"
            ],
            [
             1,
             "#f0f921"
            ]
           ],
           "sequentialminus": [
            [
             0,
             "#0d0887"
            ],
            [
             0.1111111111111111,
             "#46039f"
            ],
            [
             0.2222222222222222,
             "#7201a8"
            ],
            [
             0.3333333333333333,
             "#9c179e"
            ],
            [
             0.4444444444444444,
             "#bd3786"
            ],
            [
             0.5555555555555556,
             "#d8576b"
            ],
            [
             0.6666666666666666,
             "#ed7953"
            ],
            [
             0.7777777777777778,
             "#fb9f3a"
            ],
            [
             0.8888888888888888,
             "#fdca26"
            ],
            [
             1,
             "#f0f921"
            ]
           ]
          },
          "colorway": [
           "#636efa",
           "#EF553B",
           "#00cc96",
           "#ab63fa",
           "#FFA15A",
           "#19d3f3",
           "#FF6692",
           "#B6E880",
           "#FF97FF",
           "#FECB52"
          ],
          "font": {
           "color": "#2a3f5f"
          },
          "geo": {
           "bgcolor": "white",
           "lakecolor": "white",
           "landcolor": "#E5ECF6",
           "showlakes": true,
           "showland": true,
           "subunitcolor": "white"
          },
          "hoverlabel": {
           "align": "left"
          },
          "hovermode": "closest",
          "mapbox": {
           "style": "light"
          },
          "paper_bgcolor": "white",
          "plot_bgcolor": "#E5ECF6",
          "polar": {
           "angularaxis": {
            "gridcolor": "white",
            "linecolor": "white",
            "ticks": ""
           },
           "bgcolor": "#E5ECF6",
           "radialaxis": {
            "gridcolor": "white",
            "linecolor": "white",
            "ticks": ""
           }
          },
          "scene": {
           "xaxis": {
            "backgroundcolor": "#E5ECF6",
            "gridcolor": "white",
            "gridwidth": 2,
            "linecolor": "white",
            "showbackground": true,
            "ticks": "",
            "zerolinecolor": "white"
           },
           "yaxis": {
            "backgroundcolor": "#E5ECF6",
            "gridcolor": "white",
            "gridwidth": 2,
            "linecolor": "white",
            "showbackground": true,
            "ticks": "",
            "zerolinecolor": "white"
           },
           "zaxis": {
            "backgroundcolor": "#E5ECF6",
            "gridcolor": "white",
            "gridwidth": 2,
            "linecolor": "white",
            "showbackground": true,
            "ticks": "",
            "zerolinecolor": "white"
           }
          },
          "shapedefaults": {
           "line": {
            "color": "#2a3f5f"
           }
          },
          "ternary": {
           "aaxis": {
            "gridcolor": "white",
            "linecolor": "white",
            "ticks": ""
           },
           "baxis": {
            "gridcolor": "white",
            "linecolor": "white",
            "ticks": ""
           },
           "bgcolor": "#E5ECF6",
           "caxis": {
            "gridcolor": "white",
            "linecolor": "white",
            "ticks": ""
           }
          },
          "title": {
           "x": 0.05
          },
          "xaxis": {
           "automargin": true,
           "gridcolor": "white",
           "linecolor": "white",
           "ticks": "",
           "title": {
            "standoff": 15
           },
           "zerolinecolor": "white",
           "zerolinewidth": 2
          },
          "yaxis": {
           "automargin": true,
           "gridcolor": "white",
           "linecolor": "white",
           "ticks": "",
           "title": {
            "standoff": 15
           },
           "zerolinecolor": "white",
           "zerolinewidth": 2
          }
         }
        },
        "title": {
         "text": "Relação Continente e Felicidade"
        },
        "xaxis": {
         "title": {
          "text": "Continente"
         }
        },
        "yaxis": {
         "title": {
          "text": "Valor de Felicidade"
         }
        }
       }
      },
      "text/html": [
       "<div>\n",
       "        \n",
       "        \n",
       "            <div id=\"465c67f9-7888-424e-bbde-5a45457e9a38\" class=\"plotly-graph-div\" style=\"height:525px; width:100%;\"></div>\n",
       "            <script type=\"text/javascript\">\n",
       "                require([\"plotly\"], function(Plotly) {\n",
       "                    window.PLOTLYENV=window.PLOTLYENV || {};\n",
       "                    \n",
       "                if (document.getElementById(\"465c67f9-7888-424e-bbde-5a45457e9a38\")) {\n",
       "                    Plotly.newPlot(\n",
       "                        '465c67f9-7888-424e-bbde-5a45457e9a38',\n",
       "                        [{\"marker\": {\"color\": \"#e74c3c\", \"line\": {\"color\": \"#c0392b\", \"width\": 1}}, \"mode\": \"markers\", \"opacity\": 0.8, \"text\": [\"Switzerland\", \"Iceland\", \"Denmark\", \"Norway\", \"Canada\", \"Finland\", \"Netherlands\", \"Sweden\", \"New Zealand\", \"Australia\", \"Israel\", \"Costa Rica\", \"Austria\", \"Mexico\", \"United States\", \"Brazil\", \"Luxembourg\", \"Ireland\", \"Belgium\", \"United Arab Emirates\", \"United Kingdom\", \"Oman\", \"Venezuela\", \"Singapore\", \"Panama\", \"Germany\", \"Chile\", \"Qatar\", \"France\", \"Argentina\", \"Czech Republic\", \"Uruguay\", \"Colombia\", \"Thailand\", \"Saudi Arabia\", \"Spain\", \"Malta\", \"Taiwan\", \"Kuwait\", \"Suriname\", \"Trinidad and Tobago\", \"El Salvador\", \"Guatemala\", \"Uzbekistan\", \"Slovakia\", \"Japan\", \"South Korea\", \"Ecuador\", \"Bahrain\", \"Italy\", \"Bolivia\", \"Moldova\", \"Paraguay\", \"Kazakhstan\", \"Slovenia\", \"Lithuania\", \"Nicaragua\", \"Peru\", \"Belarus\", \"Poland\", \"Malaysia\", \"Croatia\", \"Libya\", \"Russia\", \"Jamaica\", \"North Cyprus\", \"Cyprus\", \"Algeria\", \"Kosovo\", \"Turkmenistan\", \"Mauritius\", \"Hong Kong\", \"Estonia\", \"Indonesia\", \"Vietnam\", \"Turkey\", \"Kyrgyzstan\", \"Nigeria\", \"Bhutan\", \"Azerbaijan\", \"Pakistan\", \"Jordan\", \"Montenegro\", \"China\", \"Zambia\", \"Romania\", \"Serbia\", \"Portugal\", \"Latvia\", \"Philippines\", \"Somaliland region\", \"Morocco\", \"Macedonia\", \"Mozambique\", \"Albania\", \"Bosnia and Herzegovina\", \"Lesotho\", \"Dominican Republic\", \"Laos\", \"Mongolia\", \"Swaziland\", \"Greece\", \"Lebanon\", \"Hungary\", \"Honduras\", \"Tajikistan\", \"Tunisia\", \"Palestinian Territories\", \"Bangladesh\", \"Iran\", \"Ukraine\", \"Iraq\", \"South Africa\", \"Ghana\", \"Zimbabwe\", \"Liberia\", \"India\", \"Sudan\", \"Haiti\", \"Congo (Kinshasa)\", \"Nepal\", \"Ethiopia\", \"Sierra Leone\", \"Mauritania\", \"Kenya\", \"Djibouti\", \"Armenia\", \"Botswana\", \"Myanmar\", \"Georgia\", \"Malawi\", \"Sri Lanka\", \"Cameroon\", \"Bulgaria\", \"Egypt\", \"Yemen\", \"Angola\", \"Mali\", \"Congo (Brazzaville)\", \"Comoros\", \"Uganda\", \"Senegal\", \"Gabon\", \"Niger\", \"Cambodia\", \"Tanzania\", \"Madagascar\", \"Central African Republic\", \"Chad\", \"Guinea\", \"Ivory Coast\", \"Burkina Faso\", \"Afghanistan\", \"Rwanda\", \"Benin\", \"Syria\", \"Burundi\", \"Togo\"], \"type\": \"scatter\", \"x\": [\"Europe\", \"Europe\", \"Europe\", \"Europe\", \"North America\", \"Europe\", \"Europe\", \"Europe\", \"Australia and New Zealand\", \"Australia and New Zealand\", \"Africa\", \"Latin America and Caribbean\", \"Europe\", \"Latin America and Caribbean\", \"North America\", \"Latin America and Caribbean\", \"Europe\", \"Europe\", \"Europe\", \"Africa\", \"Europe\", \"Africa\", \"Latin America and Caribbean\", \"Asia\", \"Latin America and Caribbean\", \"Europe\", \"Latin America and Caribbean\", \"Africa\", \"Europe\", \"Latin America and Caribbean\", \"Europe\", \"Latin America and Caribbean\", \"Latin America and Caribbean\", \"Asia\", \"Africa\", \"Europe\", \"Europe\", \"Asia\", \"Africa\", \"Latin America and Caribbean\", \"Latin America and Caribbean\", \"Latin America and Caribbean\", \"Latin America and Caribbean\", \"Europe\", \"Europe\", \"Asia\", \"Asia\", \"Latin America and Caribbean\", \"Africa\", \"Europe\", \"Latin America and Caribbean\", \"Europe\", \"Latin America and Caribbean\", \"Europe\", \"Europe\", \"Europe\", \"Latin America and Caribbean\", \"Latin America and Caribbean\", \"Europe\", \"Europe\", \"Asia\", \"Europe\", \"Africa\", \"Europe\", \"Latin America and Caribbean\", \"Europe\", \"Europe\", \"Africa\", \"Europe\", \"Europe\", \"Africa\", \"Asia\", \"Europe\", \"Asia\", \"Asia\", \"Africa\", \"Europe\", \"Africa\", \"Asia\", \"Europe\", \"Asia\", \"Africa\", \"Europe\", \"Asia\", \"Africa\", \"Europe\", \"Europe\", \"Europe\", \"Europe\", \"Asia\", \"Africa\", \"Africa\", \"Europe\", \"Africa\", \"Europe\", \"Europe\", \"Africa\", \"Latin America and Caribbean\", \"Asia\", \"Asia\", \"Africa\", \"Europe\", \"Africa\", \"Europe\", \"Latin America and Caribbean\", \"Europe\", \"Africa\", \"Africa\", \"Asia\", \"Africa\", \"Europe\", \"Africa\", \"Africa\", \"Africa\", \"Africa\", \"Africa\", \"Asia\", \"Africa\", \"Latin America and Caribbean\", \"Africa\", \"Asia\", \"Africa\", \"Africa\", \"Africa\", \"Africa\", \"Africa\", \"Europe\", \"Africa\", \"Asia\", \"Europe\", \"Africa\", \"Asia\", \"Africa\", \"Europe\", \"Africa\", \"Africa\", \"Africa\", \"Africa\", \"Africa\", \"Africa\", \"Africa\", \"Africa\", \"Africa\", \"Africa\", \"Asia\", \"Africa\", \"Africa\", \"Africa\", \"Africa\", \"Africa\", \"Africa\", \"Africa\", \"Asia\", \"Africa\", \"Africa\", \"Africa\", \"Africa\", \"Africa\"], \"y\": [7.587000000000001, 7.561, 7.527, 7.522, 7.4270000000000005, 7.406000000000001, 7.377999999999999, 7.364, 7.2860000000000005, 7.284, 7.278, 7.226, 7.2, 7.187, 7.119, 6.983, 6.946000000000001, 6.94, 6.937, 6.901, 6.867000000000001, 6.853, 6.81, 6.797999999999999, 6.7860000000000005, 6.75, 6.67, 6.611000000000001, 6.575, 6.574, 6.505, 6.485, 6.477, 6.455, 6.4110000000000005, 6.329, 6.3020000000000005, 6.297999999999999, 6.295, 6.269, 6.167999999999999, 6.13, 6.122999999999999, 6.002999999999999, 5.995, 5.987, 5.984, 5.975, 5.96, 5.9479999999999995, 5.89, 5.888999999999999, 5.877999999999999, 5.855, 5.848, 5.832999999999999, 5.827999999999999, 5.824, 5.813, 5.791, 5.77, 5.7589999999999995, 5.754, 5.716, 5.709, 5.695, 5.689, 5.605, 5.5889999999999995, 5.547999999999999, 5.477, 5.474, 5.428999999999999, 5.399, 5.36, 5.332000000000001, 5.2860000000000005, 5.268, 5.252999999999999, 5.212000000000001, 5.194, 5.192, 5.192, 5.14, 5.129, 5.124, 5.122999999999999, 5.102, 5.098, 5.073, 5.0569999999999995, 5.013, 5.007, 4.971, 4.959, 4.949, 4.898, 4.885, 4.876, 4.874, 4.867, 4.857, 4.8389999999999995, 4.8, 4.788, 4.7860000000000005, 4.739, 4.715, 4.694, 4.686, 4.681, 4.677, 4.6419999999999995, 4.633, 4.61, 4.571000000000001, 4.565, 4.55, 4.518, 4.5169999999999995, 4.513999999999999, 4.512, 4.507, 4.436, 4.419, 4.369, 4.35, 4.332, 4.3069999999999995, 4.297, 4.292, 4.271, 4.252, 4.218, 4.194, 4.077, 4.033, 3.995, 3.989, 3.9560000000000004, 3.931, 3.904, 3.8960000000000004, 3.845, 3.819, 3.781, 3.681, 3.678, 3.667, 3.656, 3.655, 3.5869999999999997, 3.575, 3.465, 3.34, 3.0060000000000002, 2.905, 2.839]}],\n",
       "                        {\"template\": {\"data\": {\"bar\": [{\"error_x\": {\"color\": \"#2a3f5f\"}, \"error_y\": {\"color\": \"#2a3f5f\"}, \"marker\": {\"line\": {\"color\": \"#E5ECF6\", \"width\": 0.5}}, \"type\": \"bar\"}], \"barpolar\": [{\"marker\": {\"line\": {\"color\": \"#E5ECF6\", \"width\": 0.5}}, \"type\": \"barpolar\"}], \"carpet\": [{\"aaxis\": {\"endlinecolor\": \"#2a3f5f\", \"gridcolor\": \"white\", \"linecolor\": \"white\", \"minorgridcolor\": \"white\", \"startlinecolor\": \"#2a3f5f\"}, \"baxis\": {\"endlinecolor\": \"#2a3f5f\", \"gridcolor\": \"white\", \"linecolor\": \"white\", \"minorgridcolor\": \"white\", \"startlinecolor\": \"#2a3f5f\"}, \"type\": \"carpet\"}], \"choropleth\": [{\"colorbar\": {\"outlinewidth\": 0, \"ticks\": \"\"}, \"type\": \"choropleth\"}], \"contour\": [{\"colorbar\": {\"outlinewidth\": 0, \"ticks\": \"\"}, \"colorscale\": [[0.0, \"#0d0887\"], [0.1111111111111111, \"#46039f\"], [0.2222222222222222, \"#7201a8\"], [0.3333333333333333, \"#9c179e\"], [0.4444444444444444, \"#bd3786\"], [0.5555555555555556, \"#d8576b\"], [0.6666666666666666, \"#ed7953\"], [0.7777777777777778, \"#fb9f3a\"], [0.8888888888888888, \"#fdca26\"], [1.0, \"#f0f921\"]], \"type\": \"contour\"}], \"contourcarpet\": [{\"colorbar\": {\"outlinewidth\": 0, \"ticks\": \"\"}, \"type\": \"contourcarpet\"}], \"heatmap\": [{\"colorbar\": {\"outlinewidth\": 0, \"ticks\": \"\"}, \"colorscale\": [[0.0, \"#0d0887\"], [0.1111111111111111, \"#46039f\"], [0.2222222222222222, \"#7201a8\"], [0.3333333333333333, \"#9c179e\"], [0.4444444444444444, \"#bd3786\"], [0.5555555555555556, \"#d8576b\"], [0.6666666666666666, \"#ed7953\"], [0.7777777777777778, \"#fb9f3a\"], [0.8888888888888888, \"#fdca26\"], [1.0, \"#f0f921\"]], \"type\": \"heatmap\"}], \"heatmapgl\": [{\"colorbar\": {\"outlinewidth\": 0, \"ticks\": \"\"}, \"colorscale\": [[0.0, \"#0d0887\"], [0.1111111111111111, \"#46039f\"], [0.2222222222222222, \"#7201a8\"], [0.3333333333333333, \"#9c179e\"], [0.4444444444444444, \"#bd3786\"], [0.5555555555555556, \"#d8576b\"], [0.6666666666666666, \"#ed7953\"], [0.7777777777777778, \"#fb9f3a\"], [0.8888888888888888, \"#fdca26\"], [1.0, \"#f0f921\"]], \"type\": \"heatmapgl\"}], \"histogram\": [{\"marker\": {\"colorbar\": {\"outlinewidth\": 0, \"ticks\": \"\"}}, \"type\": \"histogram\"}], \"histogram2d\": [{\"colorbar\": {\"outlinewidth\": 0, \"ticks\": \"\"}, \"colorscale\": [[0.0, \"#0d0887\"], [0.1111111111111111, \"#46039f\"], [0.2222222222222222, \"#7201a8\"], [0.3333333333333333, \"#9c179e\"], [0.4444444444444444, \"#bd3786\"], [0.5555555555555556, \"#d8576b\"], [0.6666666666666666, \"#ed7953\"], [0.7777777777777778, \"#fb9f3a\"], [0.8888888888888888, \"#fdca26\"], [1.0, \"#f0f921\"]], \"type\": \"histogram2d\"}], \"histogram2dcontour\": [{\"colorbar\": {\"outlinewidth\": 0, \"ticks\": \"\"}, \"colorscale\": [[0.0, \"#0d0887\"], [0.1111111111111111, \"#46039f\"], [0.2222222222222222, \"#7201a8\"], [0.3333333333333333, \"#9c179e\"], [0.4444444444444444, \"#bd3786\"], [0.5555555555555556, \"#d8576b\"], [0.6666666666666666, \"#ed7953\"], [0.7777777777777778, \"#fb9f3a\"], [0.8888888888888888, \"#fdca26\"], [1.0, \"#f0f921\"]], \"type\": \"histogram2dcontour\"}], \"mesh3d\": [{\"colorbar\": {\"outlinewidth\": 0, \"ticks\": \"\"}, \"type\": \"mesh3d\"}], \"parcoords\": [{\"line\": {\"colorbar\": {\"outlinewidth\": 0, \"ticks\": \"\"}}, \"type\": \"parcoords\"}], \"pie\": [{\"automargin\": true, \"type\": \"pie\"}], \"scatter\": [{\"marker\": {\"colorbar\": {\"outlinewidth\": 0, \"ticks\": \"\"}}, \"type\": \"scatter\"}], \"scatter3d\": [{\"line\": {\"colorbar\": {\"outlinewidth\": 0, \"ticks\": \"\"}}, \"marker\": {\"colorbar\": {\"outlinewidth\": 0, \"ticks\": \"\"}}, \"type\": \"scatter3d\"}], \"scattercarpet\": [{\"marker\": {\"colorbar\": {\"outlinewidth\": 0, \"ticks\": \"\"}}, \"type\": \"scattercarpet\"}], \"scattergeo\": [{\"marker\": {\"colorbar\": {\"outlinewidth\": 0, \"ticks\": \"\"}}, \"type\": \"scattergeo\"}], \"scattergl\": [{\"marker\": {\"colorbar\": {\"outlinewidth\": 0, \"ticks\": \"\"}}, \"type\": \"scattergl\"}], \"scattermapbox\": [{\"marker\": {\"colorbar\": {\"outlinewidth\": 0, \"ticks\": \"\"}}, \"type\": \"scattermapbox\"}], \"scatterpolar\": [{\"marker\": {\"colorbar\": {\"outlinewidth\": 0, \"ticks\": \"\"}}, \"type\": \"scatterpolar\"}], \"scatterpolargl\": [{\"marker\": {\"colorbar\": {\"outlinewidth\": 0, \"ticks\": \"\"}}, \"type\": \"scatterpolargl\"}], \"scatterternary\": [{\"marker\": {\"colorbar\": {\"outlinewidth\": 0, \"ticks\": \"\"}}, \"type\": \"scatterternary\"}], \"surface\": [{\"colorbar\": {\"outlinewidth\": 0, \"ticks\": \"\"}, \"colorscale\": [[0.0, \"#0d0887\"], [0.1111111111111111, \"#46039f\"], [0.2222222222222222, \"#7201a8\"], [0.3333333333333333, \"#9c179e\"], [0.4444444444444444, \"#bd3786\"], [0.5555555555555556, \"#d8576b\"], [0.6666666666666666, \"#ed7953\"], [0.7777777777777778, \"#fb9f3a\"], [0.8888888888888888, \"#fdca26\"], [1.0, \"#f0f921\"]], \"type\": \"surface\"}], \"table\": [{\"cells\": {\"fill\": {\"color\": \"#EBF0F8\"}, \"line\": {\"color\": \"white\"}}, \"header\": {\"fill\": {\"color\": \"#C8D4E3\"}, \"line\": {\"color\": \"white\"}}, \"type\": \"table\"}]}, \"layout\": {\"annotationdefaults\": {\"arrowcolor\": \"#2a3f5f\", \"arrowhead\": 0, \"arrowwidth\": 1}, \"coloraxis\": {\"colorbar\": {\"outlinewidth\": 0, \"ticks\": \"\"}}, \"colorscale\": {\"diverging\": [[0, \"#8e0152\"], [0.1, \"#c51b7d\"], [0.2, \"#de77ae\"], [0.3, \"#f1b6da\"], [0.4, \"#fde0ef\"], [0.5, \"#f7f7f7\"], [0.6, \"#e6f5d0\"], [0.7, \"#b8e186\"], [0.8, \"#7fbc41\"], [0.9, \"#4d9221\"], [1, \"#276419\"]], \"sequential\": [[0.0, \"#0d0887\"], [0.1111111111111111, \"#46039f\"], [0.2222222222222222, \"#7201a8\"], [0.3333333333333333, \"#9c179e\"], [0.4444444444444444, \"#bd3786\"], [0.5555555555555556, \"#d8576b\"], [0.6666666666666666, \"#ed7953\"], [0.7777777777777778, \"#fb9f3a\"], [0.8888888888888888, \"#fdca26\"], [1.0, \"#f0f921\"]], \"sequentialminus\": [[0.0, \"#0d0887\"], [0.1111111111111111, \"#46039f\"], [0.2222222222222222, \"#7201a8\"], [0.3333333333333333, \"#9c179e\"], [0.4444444444444444, \"#bd3786\"], [0.5555555555555556, \"#d8576b\"], [0.6666666666666666, \"#ed7953\"], [0.7777777777777778, \"#fb9f3a\"], [0.8888888888888888, \"#fdca26\"], [1.0, \"#f0f921\"]]}, \"colorway\": [\"#636efa\", \"#EF553B\", \"#00cc96\", \"#ab63fa\", \"#FFA15A\", \"#19d3f3\", \"#FF6692\", \"#B6E880\", \"#FF97FF\", \"#FECB52\"], \"font\": {\"color\": \"#2a3f5f\"}, \"geo\": {\"bgcolor\": \"white\", \"lakecolor\": \"white\", \"landcolor\": \"#E5ECF6\", \"showlakes\": true, \"showland\": true, \"subunitcolor\": \"white\"}, \"hoverlabel\": {\"align\": \"left\"}, \"hovermode\": \"closest\", \"mapbox\": {\"style\": \"light\"}, \"paper_bgcolor\": \"white\", \"plot_bgcolor\": \"#E5ECF6\", \"polar\": {\"angularaxis\": {\"gridcolor\": \"white\", \"linecolor\": \"white\", \"ticks\": \"\"}, \"bgcolor\": \"#E5ECF6\", \"radialaxis\": {\"gridcolor\": \"white\", \"linecolor\": \"white\", \"ticks\": \"\"}}, \"scene\": {\"xaxis\": {\"backgroundcolor\": \"#E5ECF6\", \"gridcolor\": \"white\", \"gridwidth\": 2, \"linecolor\": \"white\", \"showbackground\": true, \"ticks\": \"\", \"zerolinecolor\": \"white\"}, \"yaxis\": {\"backgroundcolor\": \"#E5ECF6\", \"gridcolor\": \"white\", \"gridwidth\": 2, \"linecolor\": \"white\", \"showbackground\": true, \"ticks\": \"\", \"zerolinecolor\": \"white\"}, \"zaxis\": {\"backgroundcolor\": \"#E5ECF6\", \"gridcolor\": \"white\", \"gridwidth\": 2, \"linecolor\": \"white\", \"showbackground\": true, \"ticks\": \"\", \"zerolinecolor\": \"white\"}}, \"shapedefaults\": {\"line\": {\"color\": \"#2a3f5f\"}}, \"ternary\": {\"aaxis\": {\"gridcolor\": \"white\", \"linecolor\": \"white\", \"ticks\": \"\"}, \"baxis\": {\"gridcolor\": \"white\", \"linecolor\": \"white\", \"ticks\": \"\"}, \"bgcolor\": \"#E5ECF6\", \"caxis\": {\"gridcolor\": \"white\", \"linecolor\": \"white\", \"ticks\": \"\"}}, \"title\": {\"x\": 0.05}, \"xaxis\": {\"automargin\": true, \"gridcolor\": \"white\", \"linecolor\": \"white\", \"ticks\": \"\", \"title\": {\"standoff\": 15}, \"zerolinecolor\": \"white\", \"zerolinewidth\": 2}, \"yaxis\": {\"automargin\": true, \"gridcolor\": \"white\", \"linecolor\": \"white\", \"ticks\": \"\", \"title\": {\"standoff\": 15}, \"zerolinecolor\": \"white\", \"zerolinewidth\": 2}}}, \"title\": {\"text\": \"Rela\\u00e7\\u00e3o Continente e Felicidade\"}, \"xaxis\": {\"title\": {\"text\": \"Continente\"}}, \"yaxis\": {\"title\": {\"text\": \"Valor de Felicidade\"}}},\n",
       "                        {\"responsive\": true}\n",
       "                    ).then(function(){\n",
       "                            \n",
       "var gd = document.getElementById('465c67f9-7888-424e-bbde-5a45457e9a38');\n",
       "var x = new MutationObserver(function (mutations, observer) {{\n",
       "        var display = window.getComputedStyle(gd).display;\n",
       "        if (!display || display === 'none') {{\n",
       "            console.log([gd, 'removed!']);\n",
       "            Plotly.purge(gd);\n",
       "            observer.disconnect();\n",
       "        }}\n",
       "}});\n",
       "\n",
       "// Listen for the removal of the full notebook cells\n",
       "var notebookContainer = gd.closest('#notebook-container');\n",
       "if (notebookContainer) {{\n",
       "    x.observe(notebookContainer, {childList: true});\n",
       "}}\n",
       "\n",
       "// Listen for the clearing of the current output cell\n",
       "var outputEl = gd.closest('.output');\n",
       "if (outputEl) {{\n",
       "    x.observe(outputEl, {childList: true});\n",
       "}}\n",
       "\n",
       "                        })\n",
       "                };\n",
       "                });\n",
       "            </script>\n",
       "        </div>"
      ]
     },
     "metadata": {},
     "output_type": "display_data"
    }
   ],
   "source": [
    "trace = go.Scatter(x = df['Continent'],\n",
    "                   y = df['Happiness Score'],\n",
    "                   mode = 'markers',\n",
    "                   marker =  {'color' : '#e74c3c',\n",
    "                              'line' : {'width': 1,\n",
    "                                        'color': '#c0392b'}},\n",
    "                   opacity=.8, text=df['Country'])\n",
    "data = [trace]\n",
    "layout = go.Layout(title='Relação Continente e Felicidade',\n",
    "                   yaxis={'title':'Valor de Felicidade'},\n",
    "                   xaxis={'title': 'Continente'})\n",
    "fig = go.Figure(data=data, layout=layout)\n",
    "iplot(fig)\n"
   ]
  },
  {
   "cell_type": "code",
   "execution_count": 93,
   "metadata": {},
   "outputs": [
    {
     "data": {
      "text/html": [
       "<div>\n",
       "<style scoped>\n",
       "    .dataframe tbody tr th:only-of-type {\n",
       "        vertical-align: middle;\n",
       "    }\n",
       "\n",
       "    .dataframe tbody tr th {\n",
       "        vertical-align: top;\n",
       "    }\n",
       "\n",
       "    .dataframe thead th {\n",
       "        text-align: right;\n",
       "    }\n",
       "</style>\n",
       "<table border=\"1\" class=\"dataframe\">\n",
       "  <thead>\n",
       "    <tr style=\"text-align: right;\">\n",
       "      <th></th>\n",
       "      <th>Happiness Rank</th>\n",
       "      <th>Happiness Score</th>\n",
       "      <th>Standard Error</th>\n",
       "      <th>Economy (GDP per Capita)</th>\n",
       "      <th>Family</th>\n",
       "      <th>Health (Life Expectancy)</th>\n",
       "      <th>Freedom</th>\n",
       "      <th>Trust (Government Corruption)</th>\n",
       "      <th>Generosity</th>\n",
       "      <th>Dystopia Residual</th>\n",
       "    </tr>\n",
       "    <tr>\n",
       "      <th>Continent</th>\n",
       "      <th></th>\n",
       "      <th></th>\n",
       "      <th></th>\n",
       "      <th></th>\n",
       "      <th></th>\n",
       "      <th></th>\n",
       "      <th></th>\n",
       "      <th></th>\n",
       "      <th></th>\n",
       "      <th></th>\n",
       "    </tr>\n",
       "  </thead>\n",
       "  <tbody>\n",
       "    <tr>\n",
       "      <th>Africa</th>\n",
       "      <td>111.133333</td>\n",
       "      <td>4.604167</td>\n",
       "      <td>0.052311</td>\n",
       "      <td>0.609307</td>\n",
       "      <td>0.846220</td>\n",
       "      <td>0.423426</td>\n",
       "      <td>0.364546</td>\n",
       "      <td>0.143152</td>\n",
       "      <td>0.210883</td>\n",
       "      <td>2.006656</td>\n",
       "    </tr>\n",
       "    <tr>\n",
       "      <th>Asia</th>\n",
       "      <td>86.818182</td>\n",
       "      <td>5.167273</td>\n",
       "      <td>0.037850</td>\n",
       "      <td>0.815253</td>\n",
       "      <td>0.889910</td>\n",
       "      <td>0.688470</td>\n",
       "      <td>0.472829</td>\n",
       "      <td>0.129336</td>\n",
       "      <td>0.341757</td>\n",
       "      <td>1.829736</td>\n",
       "    </tr>\n",
       "    <tr>\n",
       "      <th>Australia and New Zealand</th>\n",
       "      <td>9.500000</td>\n",
       "      <td>7.285000</td>\n",
       "      <td>0.037270</td>\n",
       "      <td>1.291880</td>\n",
       "      <td>1.314450</td>\n",
       "      <td>0.919965</td>\n",
       "      <td>0.645310</td>\n",
       "      <td>0.392795</td>\n",
       "      <td>0.455315</td>\n",
       "      <td>2.265355</td>\n",
       "    </tr>\n",
       "    <tr>\n",
       "      <th>Europe</th>\n",
       "      <td>58.220000</td>\n",
       "      <td>5.902740</td>\n",
       "      <td>0.042023</td>\n",
       "      <td>1.092024</td>\n",
       "      <td>1.134631</td>\n",
       "      <td>0.798731</td>\n",
       "      <td>0.438765</td>\n",
       "      <td>0.147485</td>\n",
       "      <td>0.215199</td>\n",
       "      <td>2.075910</td>\n",
       "    </tr>\n",
       "    <tr>\n",
       "      <th>Latin America and Caribbean</th>\n",
       "      <td>46.909091</td>\n",
       "      <td>6.144682</td>\n",
       "      <td>0.061127</td>\n",
       "      <td>0.876815</td>\n",
       "      <td>1.104720</td>\n",
       "      <td>0.703870</td>\n",
       "      <td>0.501740</td>\n",
       "      <td>0.117172</td>\n",
       "      <td>0.217788</td>\n",
       "      <td>2.622577</td>\n",
       "    </tr>\n",
       "    <tr>\n",
       "      <th>North America</th>\n",
       "      <td>10.000000</td>\n",
       "      <td>7.273000</td>\n",
       "      <td>0.036960</td>\n",
       "      <td>1.360400</td>\n",
       "      <td>1.284860</td>\n",
       "      <td>0.883710</td>\n",
       "      <td>0.589505</td>\n",
       "      <td>0.244235</td>\n",
       "      <td>0.429580</td>\n",
       "      <td>2.480935</td>\n",
       "    </tr>\n",
       "  </tbody>\n",
       "</table>\n",
       "</div>"
      ],
      "text/plain": [
       "                             Happiness Rank  Happiness Score  Standard Error  \\\n",
       "Continent                                                                      \n",
       "Africa                           111.133333         4.604167        0.052311   \n",
       "Asia                              86.818182         5.167273        0.037850   \n",
       "Australia and New Zealand          9.500000         7.285000        0.037270   \n",
       "Europe                            58.220000         5.902740        0.042023   \n",
       "Latin America and Caribbean       46.909091         6.144682        0.061127   \n",
       "North America                     10.000000         7.273000        0.036960   \n",
       "\n",
       "                             Economy (GDP per Capita)    Family  \\\n",
       "Continent                                                         \n",
       "Africa                                       0.609307  0.846220   \n",
       "Asia                                         0.815253  0.889910   \n",
       "Australia and New Zealand                    1.291880  1.314450   \n",
       "Europe                                       1.092024  1.134631   \n",
       "Latin America and Caribbean                  0.876815  1.104720   \n",
       "North America                                1.360400  1.284860   \n",
       "\n",
       "                             Health (Life Expectancy)   Freedom  \\\n",
       "Continent                                                         \n",
       "Africa                                       0.423426  0.364546   \n",
       "Asia                                         0.688470  0.472829   \n",
       "Australia and New Zealand                    0.919965  0.645310   \n",
       "Europe                                       0.798731  0.438765   \n",
       "Latin America and Caribbean                  0.703870  0.501740   \n",
       "North America                                0.883710  0.589505   \n",
       "\n",
       "                             Trust (Government Corruption)  Generosity  \\\n",
       "Continent                                                                \n",
       "Africa                                            0.143152    0.210883   \n",
       "Asia                                              0.129336    0.341757   \n",
       "Australia and New Zealand                         0.392795    0.455315   \n",
       "Europe                                            0.147485    0.215199   \n",
       "Latin America and Caribbean                       0.117172    0.217788   \n",
       "North America                                     0.244235    0.429580   \n",
       "\n",
       "                             Dystopia Residual  \n",
       "Continent                                       \n",
       "Africa                                2.006656  \n",
       "Asia                                  1.829736  \n",
       "Australia and New Zealand             2.265355  \n",
       "Europe                                2.075910  \n",
       "Latin America and Caribbean           2.622577  \n",
       "North America                         2.480935  "
      ]
     },
     "execution_count": 93,
     "metadata": {},
     "output_type": "execute_result"
    }
   ],
   "source": [
    "df.groupby('Continent').mean()"
   ]
  },
  {
   "cell_type": "code",
   "execution_count": 107,
   "metadata": {
    "scrolled": true
   },
   "outputs": [
    {
     "data": {
      "text/plain": [
       "Continent\n",
       "Africa                         4.604167\n",
       "Asia                           5.167273\n",
       "Australia and New Zealand      7.285000\n",
       "Europe                         5.902740\n",
       "Latin America and Caribbean    6.144682\n",
       "North America                  7.273000\n",
       "Name: Happiness Score, dtype: float64"
      ]
     },
     "execution_count": 107,
     "metadata": {},
     "output_type": "execute_result"
    }
   ],
   "source": [
    "df.groupby('Continent')['Happiness Score'].mean()"
   ]
  },
  {
   "cell_type": "code",
   "execution_count": 177,
   "metadata": {},
   "outputs": [
    {
     "data": {
      "text/plain": [
       "Text(0.5, 1.0, 'Média do Valor de Felicidade por Continente')"
      ]
     },
     "execution_count": 177,
     "metadata": {},
     "output_type": "execute_result"
    },
    {
     "data": {
      "image/png": "[encoded data removed]",
      "text/plain": [
       "<Figure size 1080x576 with 1 Axes>"
      ]
     },
     "metadata": {
      "needs_background": "light"
     },
     "output_type": "display_data"
    }
   ],
   "source": [
    "grouped = df.groupby('Continent')['Happiness Score'].mean().reset_index()\n",
    "ordered = grouped.sort_values('Happiness Score', ascending=False)\n",
    "plt.figure(figsize=(15,8))\n",
    "ax = sns.barplot(x=\"Continent\", y=\"Happiness Score\", data=ordered,\n",
    "                 palette=\"Blues_d\")\n",
    "plt.title('Média do Valor de Felicidade por Continente', size=25)\n",
    "\n"
   ]
  },
  {
   "cell_type": "code",
   "execution_count": 179,
   "metadata": {},
   "outputs": [
    {
     "data": {
      "text/plain": [
       "Text(0.5, 1.0, 'Média do Valor de Felicidade por Região')"
      ]
     },
     "execution_count": 179,
     "metadata": {},
     "output_type": "execute_result"
    },
    {
     "data": {
      "image/png": "[encoded data removed]",
      "text/plain": [
       "<Figure size 2160x1080 with 1 Axes>"
      ]
     },
     "metadata": {
      "needs_background": "light"
     },
     "output_type": "display_data"
    }
   ],
   "source": [
    "grouped = df.groupby('Region')['Happiness Score'].mean().reset_index()\n",
    "ordered = grouped.sort_values('Happiness Score', ascending=False)\n",
    "plt.figure(figsize=(30,15))\n",
    "ax = sns.barplot(x=\"Region\", y=\"Happiness Score\", data=ordered,\n",
    "                 palette=\"Blues_d\")\n",
    "plt.title('Média do Valor de Felicidade por Região', size=35)\n",
    "\n"
   ]
  },
  {
   "cell_type": "code",
   "execution_count": null,
   "metadata": {},
   "outputs": [],
   "source": []
  }
 ],
 "metadata": {
  "kernelspec": {
   "display_name": "Python 3",
   "language": "python",
   "name": "python3"
  },
  "language_info": {
   "codemirror_mode": {
    "name": "ipython",
    "version": 3
   },
   "file_extension": ".py",
   "mimetype": "text/x-python",
   "name": "python",
   "nbconvert_exporter": "python",
   "pygments_lexer": "ipython3",
   "version": "3.8.3"
  }
 },
 "nbformat": 4,
 "nbformat_minor": 4
}
